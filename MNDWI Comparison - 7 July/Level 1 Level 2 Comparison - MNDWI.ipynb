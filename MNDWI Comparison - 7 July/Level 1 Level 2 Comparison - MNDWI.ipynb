{
 "cells": [
  {
   "cell_type": "markdown",
   "metadata": {},
   "source": [
    "# Level 1 and Level 2 Landsat 8 data:\n",
    "## A comparison using Modified Normalised Difference Water Index (MNDWI)\n",
    "\n",
    "* **Products used:** \n",
    "[ls8_usgs_sr_scene](https://explorer.digitalearth.africa/ls8_usgs_sr_scene)\n",
    "* **Level 1 data retrived from:**\n",
    "[Landsat 8 Level 1 data](https://registry.opendata.aws/landsat-8/)"
   ]
  },
  {
   "cell_type": "markdown",
   "metadata": {},
   "source": [
    "## Background\n",
    "### Analysis-Ready Data (ARD): the difference between Level 1 and Level 2 data\n",
    "\n",
    "Satellite operators, such as USGS, perform minimal processing on the data before releasing it for general consumption. This is known as **Level 1 data**. As Level 1 data is very close to its raw form, it can be flexibly manipulated by the scientific community, but requires specialist knowledge to use. Atmospheric interference and other underlying satellite data issues must be corrected for before the data shows meaningful results.\n",
    "\n",
    "The accessibility of available satellite data can therefore be significantly increased by further processing the Level 1 data, such as by applying atmospheric corrections. This processed data is hosted on the OpenDataCube, and is known as **Level 2 data** or **Analysis-Ready Data**, shortened to **ARD**. The corrections improve the overall quality of the data (compared to the Level 1 data) and allow users to conduct analysis independent of expertise in the data corrections process."
   ]
  },
  {
   "cell_type": "markdown",
   "metadata": {},
   "source": [
    "### Modified Normalised Difference Water Index (MNDWI)\n",
    "\n",
    "MNDWI is a variation on the Normalised Difference Water Index (NDWI), which is calculated using the Green band and Near-Infrared (NIR) bands from satellite data.\n",
    "\n",
    "\\begin{equation} \\text{NDWI} \\ = \\ \\frac{\\text{Green} - \\text{NIR}}{\\text{Green} + \\text{NIR}} \\end{equation}\n",
    "\n",
    "However, it has been shown that using a Short-Range Infrared (SWIR) band instead of NIR provides enhanced delineation between water and other types of areas (soil, vegetation, built-up land). This gives the Modified NDWI, or MNDWI.\n",
    "\n",
    "\\begin{equation} \\text{MNDWI} \\ = \\ \\frac{\\text{Green} - \\text{SWIR}}{\\text{Green} + \\text{SWIR}} \\end{equation}\n",
    "\n",
    "In the case of Landsat 8 satellite data, which has two SWIR bands, SWIR 1 is used. Note the indices are normalised, which means their values range from -1 to 1. Practically, this can be interpreted as:\n",
    "\n",
    "* MNDWI $> 0$ : water\n",
    "* MNDWI $\\leq 0$ : soil, vegetation, urban areas"
   ]
  },
  {
   "cell_type": "markdown",
   "metadata": {},
   "source": [
    "## Description\n",
    "\n",
    "This notebook will show the ARD (Level 2) data produces better results than uncorrected (Level 1) data. This is done by calculating MNDWI using Level 1 data and Level 2 data from Landsat 8, for the same region. The results show the ARD data shows clearer signals and more distinct patterns.\n",
    "\n",
    "The notebook contains the following steps:\n",
    "1. Fulfill prerequisites: Select a location for analysis and download Level 1 data.\n",
    "2. Load Level 1 data for the location.\n",
    "3. Load Level 2 data for the location.\n",
    "4. Calculate MNDWI for the Level 1 data.\n",
    "5. Calculate MNDWI for the Level 2 data.\n",
    "6. Compare the Level 1 and Level 2 data by plotting them together.\n",
    "\n",
    "*****"
   ]
  },
  {
   "cell_type": "markdown",
   "metadata": {},
   "source": [
    "## Getting Started\n",
    "To run this analysis, ensure the prerequesites are fulfilled, then run all the cells in the notebook, starting with the \"Load packages\" cell. "
   ]
  },
  {
   "cell_type": "markdown",
   "metadata": {},
   "source": [
    "### Prerequisites\n",
    "\n",
    "* Choosing location\n",
    "\n",
    "The Digital Earth Africa sandbox does not contain a product for Landsat 8 Level 1 data. This means Level 1 data must be manually downloaded from the USGS website before it can be imported into the notebook. A time and place for analysis must be decided.\n",
    "\n",
    "For the purposes of this notebook, an area off the coast of Guinea Bissau, Senegal, has been selected.\n",
    "\n",
    "`lat = 11.228`<br>\n",
    "`lon = -15.860`\n",
    "\n",
    "* Choosing time\n",
    "\n",
    "Here, MNDWI is calculated for a single instance in time. The time chosen for this notebook was `January 2018`.\n",
    "\n",
    "* Downloading Level 1 data\n",
    "\n",
    "*Note: this requires an active Amazon Web Services (AWS) account.*\n",
    "\n",
    "The time and place can now be searched on the [DE Africa Metadata Explorer](https://explorer.digitalearth.africa/ls8_usgs_sr_scene). If not preselected, the selected product should be `ls8_usgs_sr_scene`. Use the `Year` and `Month` dropdowns to select `2018` and `January` as appropriate.\n",
    "\n",
    "By browsing the `Day` dropdown, the only scene encapsulating the Bissau coast is `9 January 2018`. Click `11 datasets available` on the right-hand toolbar to open details of each scene taken on that day. The Bissau coast is the last dataset; [13b9c5f0-65f0-5d2e-8473-5bbfc92a9673](https://explorer.digitalearth.africa/dataset/13b9c5f0-65f0-5d2e-8473-5bbfc92a9673). Note the `Locations > Active:` field as it shows the naming convention for this scene.\n",
    "\n",
    "Navigate to the [USGS Landsat 8 registry](https://registry.opendata.aws/landsat-8/) and access their AWS S3 Bucket. The file naming convention is the same as in the DE Africa explorer; i.e. look for files starting with `LC08_L1TP_204052_20180109_20180119_01_T1`. \n",
    "\n",
    "The folder for this scene will contain many files. Download the Band 3 `_B3` and Band 6 `_B6` `.tiff` files and upload them to the same Jupyterlab folder as this notebook.\n"
   ]
  },
  {
   "cell_type": "markdown",
   "metadata": {},
   "source": [
    "### Load packages\n",
    "Import Python packages that are used for the analysis."
   ]
  },
  {
   "cell_type": "code",
   "execution_count": 1,
   "metadata": {},
   "outputs": [],
   "source": [
    "%matplotlib inline\n",
    "\n",
    "import datacube\n",
    "from datacube.testutils import io\n",
    "import sys\n",
    "import matplotlib.pyplot as plt\n",
    "import xarray as xr\n",
    "import numpy as np\n",
    "\n",
    "sys.path.append(\"../Scripts\")\n",
    "from deafrica_bandindices import calculate_indices"
   ]
  },
  {
   "cell_type": "code",
   "execution_count": null,
   "metadata": {},
   "outputs": [],
   "source": []
  }
 ],
 "metadata": {
  "kernelspec": {
   "display_name": "Python 3",
   "language": "python",
   "name": "python3"
  },
  "language_info": {
   "codemirror_mode": {
    "name": "ipython",
    "version": 3
   },
   "file_extension": ".py",
   "mimetype": "text/x-python",
   "name": "python",
   "nbconvert_exporter": "python",
   "pygments_lexer": "ipython3",
   "version": "3.6.9"
  }
 },
 "nbformat": 4,
 "nbformat_minor": 4
}
