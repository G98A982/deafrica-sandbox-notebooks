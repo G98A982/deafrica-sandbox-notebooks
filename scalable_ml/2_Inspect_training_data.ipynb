{
 "cells": [
  {
   "cell_type": "markdown",
   "metadata": {},
   "source": [
    "# Inspecting knowledge base of training data\n",
    "\n",
    "We want to see if the `feature layers` we are using for the ML crop/non-crop mask are actually useful for distinguishing the two classes. We can understand the knowledge base built by the training data in a couple of ways:\n",
    "\n",
    "1. Plotting class-specific `box plots` for each feature layer.\n",
    "\n",
    "2. Plot the class-specific `principal components` of each class e.g. PC1 vs PC2 as a scatter-plot\n",
    "\n",
    "\n",
    "---\n",
    "TODO:\n",
    "- figure out how to automate the boxplot offsets....\n",
    "        \n",
    "        if len(dfs) == 2:\n",
    "            offsets = [-.2, 0.2]\n",
    "            width = 0.4\n",
    "\n",
    "        if len(dfs) == 3:\n",
    "            offsets = [-.2, 0.66, 0.2]\n",
    "            width = 0.4\n",
    "\n",
    "        if len(dfs) == 4:\n",
    "            offsets = [-.2, -0.1, 0., 0.1]\n",
    "            width = 0.4"
   ]
  },
  {
   "cell_type": "markdown",
   "metadata": {},
   "source": [
    "## Load modules"
   ]
  },
  {
   "cell_type": "code",
   "execution_count": 1,
   "metadata": {},
   "outputs": [],
   "source": [
    "%matplotlib inline\n",
    "import random\n",
    "import numpy as np\n",
    "import pandas as pd\n",
    "import seaborn as sns\n",
    "import matplotlib.pyplot as plt\n",
    "from matplotlib.patches import Patch\n",
    "from sklearn.decomposition import PCA\n",
    "from sklearn.preprocessing import StandardScaler\n"
   ]
  },
  {
   "cell_type": "markdown",
   "metadata": {},
   "source": [
    "## Analysis Parameters\n",
    "\n",
    "* `training_data`: Name and location of the training data `.txt` file output from runnning `1_Extract_training_data.ipynb`\n",
    "* `class_dict`: A dictionary mapping the 'string' name of the classes to the integer values that represent our classes in the training data (e.g. `{'crop': 1., 'noncrop': 0.}`)\n",
    "* `field`: This is the name of column in the original training data shapefile that contains the class labels. This is provided simply so we can remove this attribute before we plot the data"
   ]
  },
  {
   "cell_type": "code",
   "execution_count": 2,
   "metadata": {},
   "outputs": [],
   "source": [
    "training_data = \"results/training_data/test_training_data.txt\"\n",
    "\n",
    "class_dict = {'crop':1, 'noncrop':0}\n",
    "\n",
    "field = 'class'"
   ]
  },
  {
   "cell_type": "markdown",
   "metadata": {},
   "source": [
    "## Import training data"
   ]
  },
  {
   "cell_type": "code",
   "execution_count": 3,
   "metadata": {},
   "outputs": [],
   "source": [
    "# load the data\n",
    "model_input = np.loadtxt(training_data)\n",
    "\n",
    "# load the column_names\n",
    "with open(training_data, 'r') as file:\n",
    "    header = file.readline()\n",
    "    \n",
    "column_names = header.split()[1:]"
   ]
  },
  {
   "cell_type": "markdown",
   "metadata": {},
   "source": [
    "## Data Wrangling"
   ]
  },
  {
   "cell_type": "code",
   "execution_count": 4,
   "metadata": {},
   "outputs": [
    {
     "name": "stdout",
     "output_type": "stream",
     "text": [
      "crop\n",
      "noncrop\n"
     ]
    }
   ],
   "source": [
    "dfs = {}\n",
    "for key, value in class_dict.items():\n",
    "    print(key)\n",
    "    \n",
    "    # extract values for class from training data\n",
    "    arr = model_input[model_input[:,0]==value]\n",
    "    \n",
    "    # create a pandas df for ease of use later\n",
    "    df = pd.DataFrame(arr).rename(columns={i:column_names[i] for i in range(0,len(column_names))}).drop(field, axis=1)\n",
    "    \n",
    "    # Normalise 0-1 for plotting purposes\n",
    "    df = (df-df.min())/(df.max()-df.min())\n",
    "    \n",
    "    dfs.update({key:df})"
   ]
  },
  {
   "cell_type": "markdown",
   "metadata": {},
   "source": [
    "---\n",
    "## Feature layer boxplots"
   ]
  },
  {
   "cell_type": "code",
   "execution_count": 5,
   "metadata": {},
   "outputs": [
    {
     "data": {
      "image/png": "[encoded data removed]",
      "text/plain": [
       "<Figure size 1800x576 with 1 Axes>"
      ]
     },
     "metadata": {
      "needs_background": "light"
     },
     "output_type": "display_data"
    }
   ],
   "source": [
    "#generate a random list of colors same length as num of classes \n",
    "get_colors = lambda n: list(map(lambda i: \"#\" + \"%06x\" % random.randint(0, 0xFFFFFF),range(n)))\n",
    "colors = get_colors(len(dfs))\n",
    "\n",
    "#generate list of offsets for plotting that are the same lenght as num of classes\n",
    "offsets = [-.2, 0.2]\n",
    "\n",
    "fig, ax = plt.subplots(figsize=(25,8))\n",
    "\n",
    "for key, color, offset in zip(dfs,colors, offsets):\n",
    "    pp = ax.boxplot(dfs[key].values,\n",
    "                    patch_artist=True,\n",
    "                    showfliers=False, \n",
    "                    positions=np.arange(dfs[key].values.shape[1])+offset, widths=0.4,\n",
    "                    boxprops=dict(facecolor=color, color=color),\n",
    "                    capprops=dict(color=color),\n",
    "                    whiskerprops=dict(color=color),\n",
    "                    flierprops=dict(color=color, markeredgecolor=color),\n",
    "                    medianprops=dict(color='black'))   \n",
    "\n",
    "ax.set_xticks(np.arange(len(column_names[1:])))\n",
    "ax.set_xticklabels(column_names[1:])\n",
    "ax.set_xlim(-0.5,len(column_names[1:])-.5)\n",
    "ax.set_ylabel(\"values\", fontsize=14)\n",
    "ax.set_xlabel(\"Bands\", fontsize=14)\n",
    "ax.set_title(\"Training Data Knowledge-Base\", fontsize=14)\n",
    "ax.legend([Patch(facecolor=c) for c in colors], [key for key in dfs], loc='upper right')\n",
    "\n",
    "plt.show()"
   ]
  },
  {
   "cell_type": "markdown",
   "metadata": {},
   "source": [
    "---\n",
    "## Principal Component Analysis"
   ]
  },
  {
   "cell_type": "markdown",
   "metadata": {},
   "source": [
    " Need to standardize the values before conducting the PCA.  Couple of ways to do this, using `StandardScaler` for now i.e. `x-u/s`"
   ]
  },
  {
   "cell_type": "code",
   "execution_count": 6,
   "metadata": {},
   "outputs": [],
   "source": [
    "# Put all the model TD into a pandas dataframe\n",
    "all_data = pd.DataFrame(model_input).rename(columns={i:column_names[i] for i in range(0,len(column_names))})"
   ]
  },
  {
   "cell_type": "code",
   "execution_count": 7,
   "metadata": {},
   "outputs": [],
   "source": [
    "# Separating out the features\n",
    "x = all_data.loc[:, column_names[1:]].values\n",
    "\n",
    "# Standardizing the features\n",
    "x = StandardScaler().fit_transform(x)"
   ]
  },
  {
   "cell_type": "code",
   "execution_count": 8,
   "metadata": {},
   "outputs": [],
   "source": [
    "#conduct the PCA\n",
    "pca = PCA(n_components=2)\n",
    "pca_fit = pca.fit_transform(x)\n",
    "\n",
    "#add back to df\n",
    "pca_df = pd.DataFrame(data = pca_fit,\n",
    "                      columns = ['PC1', 'PC2'])\n",
    "\n",
    "# concat with classes\n",
    "df = pd.concat([pca_df, all_data[['class']]], axis = 1)"
   ]
  },
  {
   "cell_type": "code",
   "execution_count": 9,
   "metadata": {},
   "outputs": [
    {
     "name": "stdout",
     "output_type": "stream",
     "text": [
      "Variance explained by two principal components = 96.56 %\n"
     ]
    }
   ],
   "source": [
    "a,b = pca.explained_variance_ratio_\n",
    "print(\"Variance explained by two principal components = \" + str(round((a+b)*100, 2))+\" %\")"
   ]
  },
  {
   "cell_type": "markdown",
   "metadata": {},
   "source": [
    "### Plot the principal components\n",
    "\n",
    "Only plot a random subsample of the dataset as its huge"
   ]
  },
  {
   "cell_type": "code",
   "execution_count": 14,
   "metadata": {},
   "outputs": [
    {
     "data": {
      "image/png": "[encoded data removed]",
      "text/plain": [
       "<Figure size 576x576 with 1 Axes>"
      ]
     },
     "metadata": {
      "needs_background": "light"
     },
     "output_type": "display_data"
    }
   ],
   "source": [
    "sns.lmplot(x=\"PC1\", y=\"PC2\",\n",
    "           data=df,\n",
    "           fit_reg=False,\n",
    "           hue='class',\n",
    "           legend=False,\n",
    "           height=8,\n",
    "          )\n",
    "\n",
    "plt.legend(tuple(key for key in dfs), loc='lower right')\n",
    "plt.title('Training Data: Two Principal Components', fontsize=14)\n",
    "plt.grid();"
   ]
  }
 ],
 "metadata": {
  "kernelspec": {
   "display_name": "Python 3",
   "language": "python",
   "name": "python3"
  },
  "language_info": {
   "codemirror_mode": {
    "name": "ipython",
    "version": 3
   },
   "file_extension": ".py",
   "mimetype": "text/x-python",
   "name": "python",
   "nbconvert_exporter": "python",
   "pygments_lexer": "ipython3",
   "version": "3.6.9"
  }
 },
 "nbformat": 4,
 "nbformat_minor": 4
}
