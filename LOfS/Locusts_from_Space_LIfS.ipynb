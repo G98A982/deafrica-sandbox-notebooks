{
 "cells": [
  {
   "cell_type": "markdown",
   "metadata": {},
   "source": [
    "# Locust Impacts from Space <img align=\"right\" src=\"../Supplementary_data/DE_Africa_Logo_Stacked_RGB_small.jpg\">\n",
    "\n",
    "* **Products used:** \n",
    "[s2_l2a](https://explorer.digitalearth.africa/s2_l2a)\n"
   ]
  },
  {
   "cell_type": "markdown",
   "metadata": {},
   "source": [
    "## Background\n",
    "Can we use Sentinel-2 to see the impacts of locust plagues?"
   ]
  },
  {
   "cell_type": "markdown",
   "metadata": {},
   "source": [
    "## Description\n",
    "\n",
    "***"
   ]
  },
  {
   "cell_type": "markdown",
   "metadata": {},
   "source": [
    "## Getting started\n",
    "\n",
    "To run this analysis, run all the cells in the notebook, starting with the \"Load packages\" cell. "
   ]
  },
  {
   "cell_type": "markdown",
   "metadata": {},
   "source": [
    "### Load packages\n",
    "Load key Python packages and supporting functions for the analysis."
   ]
  },
  {
   "cell_type": "code",
   "execution_count": 1,
   "metadata": {},
   "outputs": [],
   "source": [
    "%matplotlib inline\n",
    "\n",
    "import datacube\n",
    "import matplotlib.pyplot as plt\n",
    "import numpy as np\n",
    "import pandas as pd\n",
    "import geopandas as gpd\n",
    "import sys\n",
    "import xarray as xr\n",
    "import datetime as dt\n",
    "import os\n",
    "from deafrica_phenology import xr_phenology\n",
    "\n",
    "sys.path.append('../Scripts')\n",
    "from deafrica_datahandling import load_ard\n",
    "from deafrica_bandindices import calculate_indices\n",
    "from deafrica_plotting import display_map, rgb\n",
    "\n",
    "import warnings\n",
    "warnings.filterwarnings(\"ignore\", \"Mean of empty slice\")\n",
    "warnings.simplefilter(\"ignore\", FutureWarning)\n",
    "\n",
    "%load_ext autoreload\n",
    "%autoreload 2"
   ]
  },
  {
   "cell_type": "markdown",
   "metadata": {},
   "source": [
    "### Connect to the datacube\n",
    "\n",
    "Connect to the datacube so we can access DE Africa data.\n",
    "The `app` parameter is a unique name for the analysis which is based on the notebook file name."
   ]
  },
  {
   "cell_type": "code",
   "execution_count": 2,
   "metadata": {},
   "outputs": [],
   "source": [
    "dc = datacube.Datacube(app='LOfS')"
   ]
  },
  {
   "cell_type": "markdown",
   "metadata": {},
   "source": [
    "### Analysis parameters\n",
    "\n",
    "The following cell sets important parameters for the analysis:\n",
    "\n",
    "* `veg_proxy`: Band index to use as a proxy for vegetation health e.g. `NDVI` or `EVI`\n",
    "* `lat`: The central latitude to analyse (e.g. `-10.6996`).\n",
    "* `lon`: The central longitude to analyse (e.g. `35.2708`).\n",
    "* `buffer`: The number of square degrees to load around the central latitude and longitude.\n",
    "For reasonable loading times, set this as `0.1` or lower.\n",
    "* `time_range`: The year range to analyse (e.g. `('2019-01', '2019-06')`).\n",
    "\n"
   ]
  },
  {
   "cell_type": "code",
   "execution_count": 3,
   "metadata": {},
   "outputs": [],
   "source": [
    "# Set the vegetation proxy to use\n",
    "veg_proxy = 'NDVI'\n",
    "shp = 'data/Swarm_Master.shp'\n",
    "date_filter = '2019-01-01' \n",
    "african_countries = 'data/african_countries.shp'"
   ]
  },
  {
   "cell_type": "markdown",
   "metadata": {},
   "source": [
    "### Open and filter locust swarms in Africa\n",
    "\n",
    "Looking for recent swarms, in Africam, with a high density of gregarious locusts"
   ]
  },
  {
   "cell_type": "code",
   "execution_count": 4,
   "metadata": {},
   "outputs": [],
   "source": [
    "#Open shapefile of locust swarms\n",
    "gdf = gpd.read_file(shp)"
   ]
  },
  {
   "cell_type": "code",
   "execution_count": 5,
   "metadata": {},
   "outputs": [],
   "source": [
    "#convert date column to datetime objects\n",
    "gdf['STARTDATE'] = pd.to_datetime(gdf['STARTDATE'], format='%Y-%m-%d')\n",
    "gdf['FINISHDATE'] = pd.to_datetime(gdf['FINISHDATE'], format='%Y-%m-%d')\n",
    "\n",
    "#mask dataset to swarms since 2020\n",
    "mask = gdf['STARTDATE'] > date_filter\n",
    "gdf = gdf.loc[mask]"
   ]
  },
  {
   "cell_type": "code",
   "execution_count": 6,
   "metadata": {},
   "outputs": [],
   "source": [
    "#clip to Africa\n",
    "afr = gpd.read_file(african_countries)\n",
    "gdf = gpd.overlay(gdf, afr, how='intersection')"
   ]
  },
  {
   "cell_type": "code",
   "execution_count": 7,
   "metadata": {},
   "outputs": [],
   "source": [
    "#Index for locations where density of gregarious grasshoppers==HIGH\n",
    "gdf = gdf[gdf['GHPDENHI'] == 1.0]"
   ]
  },
  {
   "cell_type": "markdown",
   "metadata": {},
   "source": [
    "### Turn remaining points into small polygons\n",
    "\n",
    "This will help us index the datacube"
   ]
  },
  {
   "cell_type": "code",
   "execution_count": 9,
   "metadata": {},
   "outputs": [],
   "source": [
    "#set radius (in metres) around points\n",
    "radius = 500\n",
    "\n",
    "#convert to equal area to set polygon size in metres\n",
    "gdf = gdf.to_crs('EPSG:6933')\n",
    "\n",
    "#create circle buffer around points, then find envelope\n",
    "gdf['geometry'] = gdf['geometry'].buffer(radius).envelope"
   ]
  },
  {
   "cell_type": "markdown",
   "metadata": {},
   "source": [
    "## Load cloud-masked Sentinel-2 data"
   ]
  },
  {
   "cell_type": "markdown",
   "metadata": {},
   "source": [
    "Load sentinel-2 data for the polygons we just created"
   ]
  },
  {
   "cell_type": "code",
   "execution_count": null,
   "metadata": {},
   "outputs": [],
   "source": [
    "# Create a reusable query\n",
    "query = {\n",
    "    'y': lat_range,\n",
    "    'x': lon_range,\n",
    "    'time': years_range,\n",
    "    'measurements': ['red', 'green', 'blue', 'nir'],\n",
    "    'resolution': (-10,10),\n",
    "    'output_crs': 'epsg:6933'\n",
    "}\n",
    "\n",
    "# Load available data from Landsat 8\n",
    "ds = load_ard(dc=dc,\n",
    "              products=['s2_l2a'],\n",
    "              **query,\n",
    "              )\n",
    "\n",
    "print(ds)"
   ]
  },
  {
   "cell_type": "markdown",
   "metadata": {},
   "source": [
    "**Once the load is complete**, we can plot the data as a true-colour image using the `rgb` function.  "
   ]
  },
  {
   "cell_type": "code",
   "execution_count": null,
   "metadata": {},
   "outputs": [],
   "source": [
    "rgb(ds, index=[0,5,10,15,20,25], col_wrap=2)"
   ]
  },
  {
   "cell_type": "markdown",
   "metadata": {},
   "source": [
    "## Compute band indices"
   ]
  },
  {
   "cell_type": "markdown",
   "metadata": {},
   "source": [
    "This study measures the presence of vegetation through either the `normalised difference vegetation index (NDVI)` or the `enhanced vegetation index (EVI)`.\n",
    "The index that will be used is dictated by the `veg_proxy` parameter that was set in the \"Analysis parameters\" section.\n",
    "\n",
    "The normalised difference vegetation index (NDVI) requires the `red` and `nir` (near-infra red) bands. \n",
    "The formula is\n",
    "\n",
    "$$\n",
    "\\begin{aligned}\n",
    "\\text{NDVI} & = \\frac{(\\text{NIR} - \\text{Red})}{(\\text{NIR} + \\text{Red})} \\\\\n",
    "\\end{aligned}\n",
    "$$\n",
    "\n",
    "The Enhanced Vegetation Index requires the `red`, `nir` and `blue` bands.\n",
    "The formula is\n",
    "\n",
    "$$\n",
    "\\begin{aligned}\n",
    "\\text{EVI} & = \\frac{2.5 \\times (\\text{NIR} - \\text{Red})}{(\\text{NIR} + 6 \\times \\text{Red} - 7.5 \\times \\text{Blue} + 1)} \\\\\n",
    "\\end{aligned}\n",
    "$$\n",
    "\n",
    "\n",
    "Both indices are available through the [calculate_indices](../Frequently_used_code/Calculating_band_indices.ipynb) function, imported from [deafrica_bandindices.py](../Scripts/deafrica_bandindices.py).\n",
    "Here, we use `collection='s2'` since we're working with Sentinel-2 data."
   ]
  },
  {
   "cell_type": "code",
   "execution_count": null,
   "metadata": {},
   "outputs": [],
   "source": [
    "# Calculate the chosen vegetation proxy index and add it to the loaded data set\n",
    "ds = calculate_indices(ds, index=veg_proxy, collection='s2')\n",
    "ds"
   ]
  },
  {
   "cell_type": "markdown",
   "metadata": {},
   "source": [
    "The vegetation proxy index should now appear as a data variable, along with the loaded measurements, in the `ds` object."
   ]
  },
  {
   "cell_type": "markdown",
   "metadata": {},
   "source": [
    "## Plot the vegetation index over time\n",
    "\n",
    "To get an idea of how the vegetation health changes throughout the year(s), we can plot a zonal timeseries over the region of interest. First we will do a simple plot of the zonal mean of the data.  \n"
   ]
  },
  {
   "cell_type": "code",
   "execution_count": null,
   "metadata": {},
   "outputs": [],
   "source": [
    "ds.NDVI.mean(['x', 'y']).plot.line('b-^', figsize=(11,4))\n",
    "plt.title('zonal mean of vegetation timeseries');"
   ]
  },
  {
   "cell_type": "markdown",
   "metadata": {},
   "source": [
    "Due to the infrequency of satellite passes, the presence of cloud, or because we desire evenly spaced data-points, we may want to interpolate data points between the satellite observations. Xarray has inbuilt methods `.resample()` and `.interpolate()` to do just this. We can also fill any `NaNs` (Not a Number) in the dataset where data is missing, to do this we will first use xarray's `.interpolate_na()` method before we resample the time-series.\n"
   ]
  },
  {
   "cell_type": "markdown",
   "metadata": {},
   "source": [
    "#### Interpolate vegetation time-series\n",
    "Below we will use a simple `linear` interpolation method to resample our vegetation time-series so it has a data-point once every week (i.e. `.resample(time='1W')`)."
   ]
  },
  {
   "cell_type": "code",
   "execution_count": null,
   "metadata": {},
   "outputs": [],
   "source": [
    "#fill missing values in the NDVI timeseries interpolated values\n",
    "ndvi = ds.NDVI.interpolate_na(dim='time', method='linear')\n",
    "#interpolate the data\n",
    "ndvi_interpolated = ndvi.mean(['x', 'y']).resample(time='1W').interpolate('linear')\n",
    "#plot the interpolated data\n",
    "ndvi_interpolated.plot.line('b-^', figsize=(11,4))\n",
    "plt.title('Interpolated vegetation timeseries');"
   ]
  },
  {
   "cell_type": "markdown",
   "metadata": {},
   "source": [
    "#### Rolling mean on vegetation time-series\n",
    "\n",
    "Instead of interpolating values, we may wish to smooth-out a time series by calculting a `rolling mean` over a specified window-size. Below we will demostrate this by calculating a rolling mean across every four time steps. The larger the window-size, the smoother the curve will be, but at the cost of more granular detail in the curve."
   ]
  },
  {
   "cell_type": "code",
   "execution_count": null,
   "metadata": {},
   "outputs": [],
   "source": [
    "#interpolate the data\n",
    "ndvi_rolling = ndvi.mean(['x', 'y']).rolling(time=4, min_periods=1).mean()\n",
    "#plot the interpolated data\n",
    "ndvi_rolling.plot.line('b-^', figsize=(11,4))\n",
    "plt.title('Rolling mean vegetation time-series');"
   ]
  },
  {
   "cell_type": "markdown",
   "metadata": {},
   "source": [
    "## Calculate phenology statistics using `xr_phenology`\n",
    "\n",
    "The DE Africa function `xr_phenology` can caluclate a number of summary phenology statistics that together describe the characteristics of a plant's lifecycle.  The function can calculate the following statistics on either a zonal timeseries (like the one above), or on a per-pixel basis (DOY = day-of-year):\n",
    "\n",
    "            SOS = DOY of start of season\n",
    "            POS = DOY of peak of season\n",
    "            EOS = DOY of end of season\n",
    "            vSOS = Value at start of season\n",
    "            vPOS = Value at peak of season\n",
    "            vEOS = Value at end of season\n",
    "            Trough = Minimum value of season\n",
    "            LOS = Length of season (DOY)\n",
    "            AOS = Amplitude of season (in value units)\n",
    "            ROG = Rate of greening\n",
    "            ROS = Rate of senescence\n",
    "\n",
    "By default the function will return all of the statistics as an `xarray.Dataset`, to return only a subset of these statistics pass a list of the desired statistics to the function e.g. `stats=['SOS', 'EOS', 'ROG']`.\n",
    "\n",
    "The `xr_phenology` function also allows for interpolating the time-series, ca;culating rolling means, and/or filling `NaNs` in the same way as we did above, the interpolations will occur before the statistics are calculated.\n"
   ]
  },
  {
   "cell_type": "markdown",
   "metadata": {},
   "source": [
    "### Zonal phenology statistics\n",
    "\n",
    "To help us understand what these statistics refer too, lets first pass the simpler zonal time-series to the function and plot the results on the same curves as above."
   ]
  },
  {
   "cell_type": "code",
   "execution_count": null,
   "metadata": {},
   "outputs": [],
   "source": [
    "#calculate phenology on the zonal mean of the dataset\n",
    "zonal_phen = xr_phenology(ds.NDVI.mean(['x', 'y']),\n",
    "                       stats=['SOS', 'POS', 'EOS',\n",
    "                             'vSOS', 'vPOS', 'vEOS'\n",
    "                             ],\n",
    "                       interpolate_na = True,   \n",
    "                       rolling_mean = 4,\n",
    "                       interp_method = 'linear'\n",
    "                   )\n",
    "\n",
    "zonal_phen"
   ]
  },
  {
   "cell_type": "markdown",
   "metadata": {},
   "source": [
    "Plot the results with our statistcs annotated on the plot"
   ]
  },
  {
   "cell_type": "code",
   "execution_count": null,
   "metadata": {},
   "outputs": [],
   "source": [
    "# Use DOY results to create a datetime object \n",
    "year = str(zonal_phen.time.dt.year.values) + \" \"\n",
    "eos_dt = dt.datetime.strptime(year+str(zonal_phen.EOS.values), '%Y %j')\n",
    "sos_dt = dt.datetime.strptime(year+str(zonal_phen.SOS.values), '%Y %j')\n",
    "pos_dt = dt.datetime.strptime(year+str(zonal_phen.POS.values), '%Y %j')\n",
    "\n",
    "#create plot\n",
    "fig, ax = plt.subplots(figsize=(11,4))\n",
    "ax.plot(ndvi_rolling.time,\n",
    "         ndvi_rolling,\n",
    "        'b-^')\n",
    "\n",
    "#add start of season\n",
    "ax.plot(sos_dt, zonal_phen.vSOS, 'or')\n",
    "ax.annotate('SOS', xy=(sos_dt, zonal_phen.vSOS.values), xytext=(-15, 20),\n",
    "            textcoords='offset points', arrowprops=dict(arrowstyle='-|>'))\n",
    "\n",
    "#add end of season\n",
    "ax.plot(eos_dt, zonal_phen.vEOS, 'or')\n",
    "ax.annotate('EOS', xy=(eos_dt, zonal_phen.vEOS.values), xytext=(0, 20),\n",
    "            textcoords='offset points', arrowprops=dict(arrowstyle='-|>'))\n",
    "\n",
    "#add peak of season\n",
    "ax.plot(pos_dt, zonal_phen.vPOS, 'or')\n",
    "ax.annotate('POS', xy=(pos_dt, zonal_phen.vPOS.values), xytext=(-10, -25),\n",
    "            textcoords='offset points', arrowprops=dict(arrowstyle='-|>'))\n",
    "\n",
    "plt.ylabel('NDVI')\n",
    "plt.title('Phenology statistics');"
   ]
  },
  {
   "cell_type": "markdown",
   "metadata": {},
   "source": [
    "### Per-pixel phenology statistics"
   ]
  },
  {
   "cell_type": "code",
   "execution_count": null,
   "metadata": {},
   "outputs": [],
   "source": [
    "#calculate phenology stats on every pixel in dataset\n",
    "phen = xr_phenology(ds.NDVI,\n",
    "                    interpolate_na = True,\n",
    "                    rolling_mean=4,\n",
    "                    interp_method = 'linear',\n",
    "               )\n",
    "\n",
    "phen"
   ]
  },
  {
   "cell_type": "markdown",
   "metadata": {},
   "source": [
    "The phenology statistics have been calculated seperately for every pixel in the image.  Let's plot each of them to see the results. "
   ]
  },
  {
   "cell_type": "code",
   "execution_count": null,
   "metadata": {},
   "outputs": [],
   "source": [
    "#set up figure\n",
    "fig, ax = plt.subplots(nrows=5,ncols=2,figsize=(18,25), sharex=True, sharey=True)\n",
    "\n",
    "#start of season\n",
    "phen.SOS.plot(ax=ax[0,0], cmap='magma_r')\n",
    "ax[0,0].set_title('Start of Season (DOY)')\n",
    "phen.vSOS.plot(ax=ax[0,1], cmap='YlGn', vmax=0.5)\n",
    "ax[0,1].set_title('NDVI at SOS')\n",
    "\n",
    "#peak of season\n",
    "phen.POS.plot(ax=ax[1,0], cmap='magma_r')\n",
    "ax[1,0].set_title('Peak of Season (DOY)')\n",
    "phen.vPOS.plot(ax=ax[1,1], cmap='YlGn',vmax=0.5)\n",
    "ax[1,1].set_title('NDVI at POS')\n",
    "\n",
    "#end of season\n",
    "phen.EOS.plot(ax=ax[2,0], cmap='magma_r')\n",
    "ax[2,0].set_title('End of Season (DOY)')\n",
    "phen.vEOS.plot(ax=ax[2,1], cmap='YlGn', vmax=0.5)\n",
    "ax[2,1].set_title('NDVI at EOS')\n",
    "\n",
    "#Length of Season\n",
    "phen.LOS.plot(ax=ax[3,0], cmap='magma_r')\n",
    "ax[3,0].set_title('Length of Season (DOY)');\n",
    "\n",
    "#Amplitude\n",
    "phen.AOS.plot(ax=ax[3,1], cmap='YlGn', vmax=0.5)\n",
    "ax[3,1].set_title('Amplitude of Season')\n",
    "\n",
    "#rate of growth\n",
    "phen.ROG.plot(ax=ax[4,0],cmap='coolwarm_r', vmin=-0.02, vmax=0.02)\n",
    "ax[4,0].set_title('Rate of Growth')\n",
    "\n",
    "#rate of Sensescence\n",
    "phen.ROS.plot(ax=ax[4,1],cmap='coolwarm_r', vmin=-0.02, vmax=0.02)\n",
    "ax[4,1].set_title('Rate of Senescence');\n",
    "\n"
   ]
  },
  {
   "cell_type": "markdown",
   "metadata": {},
   "source": [
    "***\n",
    "\n",
    "## Additional information\n",
    "\n",
    "**License:** The code in this notebook is licensed under the [Apache License, Version 2.0](https://www.apache.org/licenses/LICENSE-2.0). \n",
    "Digital Earth Africa data is licensed under the [Creative Commons by Attribution 4.0](https://creativecommons.org/licenses/by/4.0/) license.\n",
    "\n",
    "**Contact:** If you need assistance, please post a question on the [Open Data Cube Slack channel](http://slack.opendatacube.org/) or on the [GIS Stack Exchange](https://gis.stackexchange.com/questions/ask?tags=open-data-cube) using the `open-data-cube` tag (you can view previously asked questions [here](https://gis.stackexchange.com/questions/tagged/open-data-cube)).\n",
    "If you would like to report an issue with this notebook, you can file one on [Github](https://github.com/digitalearthafrica/deafrica-sandbox-notebooks).\n",
    "\n",
    "**Last modified:** April 2020\n",
    "\n",
    "**Compatible datacube version:** "
   ]
  },
  {
   "cell_type": "code",
   "execution_count": null,
   "metadata": {},
   "outputs": [],
   "source": [
    "print(datacube.__version__)"
   ]
  },
  {
   "cell_type": "markdown",
   "metadata": {},
   "source": [
    "## Tags\n",
    "Browse all available tags on the DE Africa User Guide's [Tags Index](https://) (placeholder as this does not exist yet)"
   ]
  },
  {
   "cell_type": "raw",
   "metadata": {
    "raw_mimetype": "text/restructuredtext"
   },
   "source": [
    "**Tags**:  :index:`Sentinel-2`, :index:`deafrica_plotting`, :index:`deafrica_bandindices`, :index:`from deafrica_datahandling`, :index:`load_ard`, :index:`calculate_indices`, :index:`display_map`, :index:`NDVI`, :index:`EVI`, :index:`time series`, :index:`phenology`, :index:`vegetation`, :index:`real world`"
   ]
  }
 ],
 "metadata": {
  "kernelspec": {
   "display_name": "Python 3",
   "language": "python",
   "name": "python3"
  },
  "language_info": {
   "codemirror_mode": {
    "name": "ipython",
    "version": 3
   },
   "file_extension": ".py",
   "mimetype": "text/x-python",
   "name": "python",
   "nbconvert_exporter": "python",
   "pygments_lexer": "ipython3",
   "version": "3.6.9"
  },
  "widgets": {
   "application/vnd.jupyter.widget-state+json": {
    "state": {
     "1d2ba241bfd2437dbdf5d4530c685d9a": {
      "model_module": "jupyter-leaflet",
      "model_module_version": "^0.11.1",
      "model_name": "LeafletAttributionControlModel",
      "state": {
       "_model_module_version": "^0.11.1",
       "_view_count": null,
       "_view_module_version": "^0.11.1",
       "options": [
        "position",
        "prefix"
       ],
       "position": "bottomright",
       "prefix": "Leaflet"
      }
     },
     "d867097fe154472198694ed8095e3b0c": {
      "model_module": "jupyter-leaflet",
      "model_module_version": "^0.11.1",
      "model_name": "LeafletZoomControlModel",
      "state": {
       "_model_module_version": "^0.11.1",
       "_view_count": null,
       "_view_module_version": "^0.11.1",
       "options": [
        "position",
        "zoom_in_text",
        "zoom_in_title",
        "zoom_out_text",
        "zoom_out_title"
       ]
      }
     }
    },
    "version_major": 2,
    "version_minor": 0
   }
  }
 },
 "nbformat": 4,
 "nbformat_minor": 4
}
