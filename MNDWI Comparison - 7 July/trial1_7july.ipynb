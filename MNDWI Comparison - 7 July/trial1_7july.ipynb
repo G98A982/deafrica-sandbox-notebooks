{
 "cells": [
  {
   "cell_type": "markdown",
   "metadata": {},
   "source": [
    "# Comparison: non-ARD (Level 1) and ARD (Level 2) data"
   ]
  },
  {
   "cell_type": "code",
   "execution_count": 1,
   "metadata": {},
   "outputs": [],
   "source": [
    "%matplotlib inline\n",
    "\n",
    "import datacube\n",
    "import sys\n",
    "import xarray as xr\n",
    "import pandas as pd\n",
    "import numpy as np\n",
    "import matplotlib.pyplot as plt\n",
    "from datacube.helpers import write_geotiff\n",
    "\n",
    "sys.path.append('../Scripts')\n",
    "from deafrica_datahandling import load_ard\n",
    "from deafrica_datahandling import mostcommon_crs\n",
    "from deafrica_bandindices import calculate_indices\n",
    "from deafrica_coastaltools import tidal_tag\n",
    "from deafrica_spatialtools import subpixel_contours\n",
    "from deafrica_spatialtools import interpolate_2d\n",
    "from deafrica_spatialtools import contours_to_arrays\n",
    "from deafrica_plotting import display_map\n",
    "from deafrica_plotting import map_shapefile\n",
    "from deafrica_plotting import rgb"
   ]
  },
  {
   "cell_type": "markdown",
   "metadata": {},
   "source": [
    "**Connect to the datacube**"
   ]
  },
  {
   "cell_type": "code",
   "execution_count": 2,
   "metadata": {},
   "outputs": [],
   "source": [
    "dc = datacube.Datacube(app='Comparison')"
   ]
  },
  {
   "cell_type": "markdown",
   "metadata": {},
   "source": [
    "**Set parameters (based on Intertidal_elevation.ipynb parameters)**<p>\n",
    "Should consider moving to a more built-up area as MNDWI helps distinguish between water and urban areas?"
   ]
  },
  {
   "cell_type": "code",
   "execution_count": 3,
   "metadata": {},
   "outputs": [],
   "source": [
    "# Define the area of interest\n",
    "lat = 11.228\n",
    "lon = -15.860\n",
    "buffer = 0.01\n",
    "\n",
    "# Combine central lat,lon with buffer to get area of interest\n",
    "lat_range = (lat-buffer, lat+buffer)\n",
    "lon_range = (lon-buffer, lon+buffer)\n",
    "\n",
    "# Set the range of dates for the analysis\n",
    "time_range = ('2000', '2019')\n",
    "\n",
    "# Shows map of selected area\n",
    "#display_map(x=lon_range, y=lat_range)"
   ]
  },
  {
   "cell_type": "markdown",
   "metadata": {},
   "source": [
    "**Set queries**"
   ]
  },
  {
   "cell_type": "code",
   "execution_count": 5,
   "metadata": {},
   "outputs": [
    {
     "name": "stdout",
     "output_type": "stream",
     "text": [
      "Using pixel quality parameters for USGS Collection 1\n",
      "Finding datasets\n",
      "    ls8_usgs_sr_scene\n",
      "Applying pixel quality/cloud mask\n",
      "Loading 133 time steps\n"
     ]
    }
   ],
   "source": [
    "# Create the 'query' dictionary object, which contains the longitudes, \n",
    "# latitudes and time provided above\n",
    "query = {\n",
    "    'x': lon_range,\n",
    "    'y': lat_range,\n",
    "    'time': time_range,\n",
    "    'measurements': ['green','swir1'],\n",
    "    'resolution': (-30, 30),\n",
    "}\n",
    "\n",
    "# Identify the most common projection system in the input query \n",
    "output_crs = mostcommon_crs(dc=dc, product='ls8_usgs_sr_scene', query=query)\n",
    "\n",
    "# Load available data from Landsat 8\n",
    "landsat_ds = load_ard(dc=dc, \n",
    "                      products=['ls8_usgs_sr_scene'], \n",
    "                      output_crs=output_crs,\n",
    "                      align=(15, 15),\n",
    "                      group_by='solar_day',\n",
    "                      **query)"
   ]
  },
  {
   "cell_type": "code",
   "execution_count": null,
   "metadata": {},
   "outputs": [],
   "source": []
  }
 ],
 "metadata": {
  "kernelspec": {
   "display_name": "Python 3",
   "language": "python",
   "name": "python3"
  },
  "language_info": {
   "codemirror_mode": {
    "name": "ipython",
    "version": 3
   },
   "file_extension": ".py",
   "mimetype": "text/x-python",
   "name": "python",
   "nbconvert_exporter": "python",
   "pygments_lexer": "ipython3",
   "version": "3.6.9"
  }
 },
 "nbformat": 4,
 "nbformat_minor": 4
}
