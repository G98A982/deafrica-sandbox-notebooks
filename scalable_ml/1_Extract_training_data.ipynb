{
 "cells": [
  {
   "cell_type": "markdown",
   "metadata": {},
   "source": [
    "# Extracting training data from the ODC <img align=\"right\" src=\"../Supplementary_data/DE_Africa_Logo_Stacked_RGB_small.jpg\">\n",
    "\n",
    "* **Products used:** \n",
    "[ga_ls8c_gm_2_annual](https://explorer.digitalearth.africa/ga_ls8c_gm_2_annual), [s2_l2a](https://explorer.digitalearth.africa/s2_l2a)\n"
   ]
  },
  {
   "cell_type": "markdown",
   "metadata": {},
   "source": [
    "## Background\n",
    "\n",
    "**Training data** is the most important part of any supervised machine learning workflow. The quality of the training data has a greater impact on the classification than the algorithm used. Large and accurate training data sets are preferable: increasing the training sample size results in increased classification accuracy ([Maxell et al 2018](https://www.tandfonline.com/doi/full/10.1080/01431161.2018.1433343)).  A review of training data methods in the context of Earth Observation is available [here](https://www.mdpi.com/2072-4292/12/6/1034) \n",
    "\n",
    "When creating training data, be sure to capture the **spectral variability** of the class, and to use imagery from the time period you want to classify (rather than relying on basemap composites). Another common problem with training data is **class imbalance**. This can occur when one of your classes is relatively rare and therefore the rare class will comprise a smaller proportion of the training set. When imbalanced data is used, it is common that the final classification will under-predict less abundant classes relative to their true proportion.\n",
    "\n",
    "There are many platforms to use for gathering training data, the best one to use depends on your application. GIS platforms are great for collection training data as they are highly flexible and mature platforms; [Geo-Wiki](https://www.geo-wiki.org/) and [Collect Earth Online](https://collect.earth/home) are two open-source websites that may also be useful depending on the reference data strategy employed.\n",
    "\n",
    "This notebook assumes the user has already collected reference data polygons, and now wishes to extract feature layers from the `open-data-cube` to assist in classifying satellite images.\n"
   ]
  },
  {
   "cell_type": "markdown",
   "metadata": {},
   "source": [
    "## Description\n",
    "This notebook will extract training data (feature layers) from the `open-data-cube` using geometries within a shapefile (or geojson). To do this, we rely on a custom `deafrica-sandbox-notebooks` function called `collect_training_data`, contained within the [deafrica_classificationtools](../Scripts/deafrica_classificationtools.py) script.  The goal of this notebook is to familarise users with this function so they can extract the appropriate data for their use-case.\n",
    "\n",
    "1. Preview the polygons in our training data by plotting them on a basemap\n",
    "2. Extract training data from the datacube using `collect_training_data`'s inbuilt feature layer parameters\n",
    "3. Extract training data from the datacube using  a custom defined feature layer function that we can pass to `collect_training_data`\n",
    "4. Export the training data to disk for use in subsequent scripts\n",
    "\n",
    "***"
   ]
  },
  {
   "cell_type": "markdown",
   "metadata": {},
   "source": [
    "## Getting started\n",
    "\n",
    "To run this analysis, run all the cells in the notebook, starting with the \"Load packages\" cell. "
   ]
  },
  {
   "cell_type": "markdown",
   "metadata": {},
   "source": [
    "### Load packages\n"
   ]
  },
  {
   "cell_type": "code",
   "execution_count": 1,
   "metadata": {},
   "outputs": [],
   "source": [
    "%matplotlib inline\n",
    "\n",
    "import sys\n",
    "import os\n",
    "import xarray as xr\n",
    "import subprocess as sp\n",
    "import numpy as np\n",
    "import geopandas as gpd\n",
    "import datacube\n",
    "from datacube.utils.geometry import assign_crs\n",
    "import warnings\n",
    "warnings.filterwarnings(\"ignore\")\n",
    "\n",
    "sys.path.append('../Scripts')\n",
    "from deafrica_classificationtools import collect_training_data \n",
    "from deafrica_bandindices import calculate_indices\n",
    "from deafrica_temporal_statistics import temporal_statistics\n",
    "from deafrica_plotting import map_shapefile\n",
    "\n",
    "%load_ext autoreload\n",
    "%autoreload 2"
   ]
  },
  {
   "cell_type": "markdown",
   "metadata": {},
   "source": [
    "## Analysis parameters\n",
    "\n",
    "* `path`: The path to the input shapefile from which we will extract training data. A default shapefile is provided.\n",
    "* `field`: This is the name of column in your shapefile attribute table that contains the class labels. **The class labels must be integers**\n",
    "* `ncpus`: Set this value to > 1 to parallize the collection of training data. eg. npus=8. \n",
    "\n",
    "> **Note**: With supervised classification, its common to have many, many labelled geometries in the training data. `collect_training_data` can parallelize across the geometries in order to speed up the extracting of training data. Setting `ncpus>1` will automatically trigger the parallelization, however, its best to set `ncpus=1` to begin with to assist with debugging before triggering the parallelization. \n"
   ]
  },
  {
   "cell_type": "code",
   "execution_count": 2,
   "metadata": {},
   "outputs": [
    {
     "name": "stdout",
     "output_type": "stream",
     "text": [
      "ncpus = 15\n"
     ]
    }
   ],
   "source": [
    "path = 'data/training/test_training_dataset.shp' \n",
    "field = 'class'\n",
    "\n",
    "# automatically detect number of cpus, adjust to [-3:] if working on deafault Sandbox\n",
    "ncpus= int(float(sp.getoutput('env | grep CPU')[-4:]))\n",
    "\n",
    "print('ncpus = '+str(ncpus))"
   ]
  },
  {
   "cell_type": "markdown",
   "metadata": {},
   "source": [
    "## Preview input data\n",
    "\n",
    "We can load and preview our input data shapefile using `geopandas`. The shapefile should contain a column with class labels (e.g. 'class'). These labels will be used to train our model. \n",
    "\n",
    "> Remember, the class labels **must** be represented by `integers`.\n"
   ]
  },
  {
   "cell_type": "code",
   "execution_count": 3,
   "metadata": {},
   "outputs": [
    {
     "data": {
      "text/html": [
       "<div>\n",
       "<style scoped>\n",
       "    .dataframe tbody tr th:only-of-type {\n",
       "        vertical-align: middle;\n",
       "    }\n",
       "\n",
       "    .dataframe tbody tr th {\n",
       "        vertical-align: top;\n",
       "    }\n",
       "\n",
       "    .dataframe thead th {\n",
       "        text-align: right;\n",
       "    }\n",
       "</style>\n",
       "<table border=\"1\" class=\"dataframe\">\n",
       "  <thead>\n",
       "    <tr style=\"text-align: right;\">\n",
       "      <th></th>\n",
       "      <th>class</th>\n",
       "      <th>ID</th>\n",
       "      <th>CODE</th>\n",
       "      <th>COUNTRY</th>\n",
       "      <th>geometry</th>\n",
       "    </tr>\n",
       "  </thead>\n",
       "  <tbody>\n",
       "    <tr>\n",
       "      <th>0</th>\n",
       "      <td>1</td>\n",
       "      <td>21</td>\n",
       "      <td>BOT</td>\n",
       "      <td>Southern</td>\n",
       "      <td>POLYGON ((19.76605 -34.71434, 19.76605 -34.713...</td>\n",
       "    </tr>\n",
       "    <tr>\n",
       "      <th>1</th>\n",
       "      <td>1</td>\n",
       "      <td>21</td>\n",
       "      <td>BOT</td>\n",
       "      <td>Southern</td>\n",
       "      <td>POLYGON ((20.17941 -34.21388, 20.17941 -34.213...</td>\n",
       "    </tr>\n",
       "    <tr>\n",
       "      <th>2</th>\n",
       "      <td>0</td>\n",
       "      <td>21</td>\n",
       "      <td>BOT</td>\n",
       "      <td>Southern</td>\n",
       "      <td>POLYGON ((21.35220 -33.78466, 21.35220 -33.783...</td>\n",
       "    </tr>\n",
       "    <tr>\n",
       "      <th>3</th>\n",
       "      <td>0</td>\n",
       "      <td>21</td>\n",
       "      <td>BOT</td>\n",
       "      <td>Southern</td>\n",
       "      <td>POLYGON ((25.72613 -33.69673, 25.72613 -33.695...</td>\n",
       "    </tr>\n",
       "    <tr>\n",
       "      <th>4</th>\n",
       "      <td>0</td>\n",
       "      <td>21</td>\n",
       "      <td>BOT</td>\n",
       "      <td>Southern</td>\n",
       "      <td>POLYGON ((21.78891 -33.53318, 21.78891 -33.532...</td>\n",
       "    </tr>\n",
       "  </tbody>\n",
       "</table>\n",
       "</div>"
      ],
      "text/plain": [
       "   class  ID CODE   COUNTRY                                           geometry\n",
       "0      1  21  BOT  Southern  POLYGON ((19.76605 -34.71434, 19.76605 -34.713...\n",
       "1      1  21  BOT  Southern  POLYGON ((20.17941 -34.21388, 20.17941 -34.213...\n",
       "2      0  21  BOT  Southern  POLYGON ((21.35220 -33.78466, 21.35220 -33.783...\n",
       "3      0  21  BOT  Southern  POLYGON ((25.72613 -33.69673, 25.72613 -33.695...\n",
       "4      0  21  BOT  Southern  POLYGON ((21.78891 -33.53318, 21.78891 -33.532..."
      ]
     },
     "execution_count": 3,
     "metadata": {},
     "output_type": "execute_result"
    }
   ],
   "source": [
    "# Load input data shapefile\n",
    "input_data = gpd.read_file(path)\n",
    "\n",
    "# Plot first five rows\n",
    "input_data.head()"
   ]
  },
  {
   "cell_type": "code",
   "execution_count": null,
   "metadata": {},
   "outputs": [],
   "source": [
    "# Plot training data in an interactive map\n",
    "map_shapefile(input_data, attribute=field)"
   ]
  },
  {
   "cell_type": "markdown",
   "metadata": {},
   "source": [
    "## Extracting training data\n",
    "\n",
    "The function `collect_training_data` takes our shapefile containing class labels and extracts training data from the datacube over the locations specified by the input geometries. The function will also pre-process our training data by stacking the arrays into a useful format and removing an `NaN` (not-a-number) values. \n",
    "\n",
    "`Collect_training_data` has the ability to generate many different types of **feature layers**, relatively simple layers can be calculated using pre-defined parameters within the function; more complex layers can be computed by passing in a `custom_func`. To begin with, let's try generating feature layers using the pre-defined methods.\n",
    "\n",
    "The in-built feature layer parameters are described below:\n",
    "* `product`: The name of the product to extract from the datacube. In this example we use a geomedian composite from 2018, `'ga_ls8c_gm_2_annual'`\n",
    "* `time`: The time range from which to extract data\n",
    "* `calc_indices`: This parameter provides a method for calculating a number of remote sensing indices (e.g. `['NDWI', 'NDVI']`). Any of the indices found in the [deafrica_bandindices](../Scripts/deafrica_bandindices.py) script can be used here\n",
    "* `drop`: If this variable is set to True, and 'calc_indices' are supplied, the spectral bands will be dropped from the dataset leaving only the band indices as data variables in the dataset.\n",
    "* `reduce_func`: The classification models we're applying here require our training data to be in two dimensions (ie. `x` & `y`). If our data has a time-dimension (e.g. if we load in an annual time-series of satellite images) then we need to collapse the time dimension.  \"reduce_func\" is simply the summary statistic used to collapse the temporal dimension. Options are 'mean', 'median', 'std', 'max', 'min', 'geomedian'. In the default example we are loading a geomedian composite, so there is no time dimension to reduce.\n",
    "* `zonal_stats`: An optional string giving the names of zonal statistics to calculate across each polygon. Default is None (all pixel values are returned). Supported values are 'mean', 'median', 'max', 'min', and 'std'.\n",
    "\n",
    "In addition to the parameters required for `collect_training_data`, we also need to set up a few parameters for the open-data-cube query, such as `measurements` (the bands to load from the satellite), the `resolution` (the cell size), and the `output_crs` (the output projection). "
   ]
  },
  {
   "cell_type": "code",
   "execution_count": null,
   "metadata": {},
   "outputs": [],
   "source": [
    "#set up our inputs to collect_training_data\n",
    "products =  ['ga_ls8c_gm_2_annual']\n",
    "time = ('2018')\n",
    "reduce_func = None\n",
    "calc_indices = ['NDVI','LAI', 'NDWI']\n",
    "drop = False\n",
    "zonal_stats = 'median' \n",
    "\n",
    "# Set up the inputs for the ODC query\n",
    "measurements =  ['blue','green','red','nir','swir_1','swir_2']\n",
    "resolution = (-30,30)\n",
    "output_crs='epsg:6933'"
   ]
  },
  {
   "cell_type": "code",
   "execution_count": null,
   "metadata": {},
   "outputs": [],
   "source": [
    "# generate a datacube query object\n",
    "query = {\n",
    "    'time': time,\n",
    "    'measurements': measurements,\n",
    "    'resolution': resolution,\n",
    "    'output_crs': output_crs,\n",
    "    'group_by' : 'solar_day',\n",
    "}"
   ]
  },
  {
   "cell_type": "markdown",
   "metadata": {},
   "source": [
    "Now let's run the `collect_training_data` function."
   ]
  },
  {
   "cell_type": "code",
   "execution_count": null,
   "metadata": {},
   "outputs": [],
   "source": [
    "column_names, model_input = collect_training_data(\n",
    "                                    gdf=input_data,\n",
    "                                    products=products,\n",
    "                                    dc_query=query,\n",
    "                                    ncpus=ncpus,\n",
    "                                    field=field,\n",
    "                                    calc_indices=calc_indices,\n",
    "                                    reduce_func=reduce_func,\n",
    "                                    drop=drop,\n",
    "                                    zonal_stats=zonal_stats)"
   ]
  },
  {
   "cell_type": "markdown",
   "metadata": {},
   "source": [
    "The function returns two numpy arrays, the first (`column_names`) contains a list of the names of the feature layers we've computed:"
   ]
  },
  {
   "cell_type": "code",
   "execution_count": null,
   "metadata": {},
   "outputs": [],
   "source": [
    "print(column_names)"
   ]
  },
  {
   "cell_type": "markdown",
   "metadata": {},
   "source": [
    "The second array (`model_input`) contains the data from our labelled geometries. The first item in the array is the class integer (e.g. in the default example 1. 'crop', or 0. 'noncrop'), the second set of items are the values for each feature layer we computed:"
   ]
  },
  {
   "cell_type": "code",
   "execution_count": null,
   "metadata": {},
   "outputs": [],
   "source": [
    "print(np.array_str(model_input, precision=2, suppress_small=True))"
   ]
  },
  {
   "cell_type": "markdown",
   "metadata": {},
   "source": [
    "## Optional: Custom feature layers\n",
    "\n",
    "The feature layers that are most relevant for discriminating the classes of your classification problem may be more complicated than those provided in the `collect_training_data` function.  In this case, we can pass a custom feature layer function through the `custom_func` parameter.   \n",
    "\n",
    "* `custom_func`: A custom function for generating feature layers. If this parameter is set, all other options (excluding 'zonal_stats'), will be ignored. The result of the 'custom_func' must be a single xarray dataset containing 2D coordinates (i.e x, y; no time dimension). The custom function has access to the datacube dataset extracted using the `dc_query` params. To load other datasets, you can use the `like=ds.geobox` parameter in `dc.load`\n",
    "\n",
    "First, lets define a custom feature layer function that will demonstrate how to extract more complicated temporal statistics (using the [deafrica_temporal_statistics](deafrica_temporal_statistics.py) library), and access ancillary datasets besides satellite data (in this example, elevation data):"
   ]
  },
  {
   "cell_type": "code",
   "execution_count": 4,
   "metadata": {},
   "outputs": [],
   "source": [
    "def temporalStats_and_elevation(ds):\n",
    "    # link to the datacube\n",
    "    dc = datacube.Datacube(app='training_data')\n",
    "    \n",
    "    # generate a time-series of a vegetation index\n",
    "    # using the data in ds\n",
    "    data = calculate_indices(ds,\n",
    "                             index=['NDVI'],\n",
    "                             drop=True,\n",
    "                             collection='s2')\n",
    "    \n",
    "    # calculate some temporal stats\n",
    "    ts = temporal_statistics(data.NDVI,\n",
    "                       stats=['f_mean','abs_change',\n",
    "                              'complexity','central_diff'])\n",
    "    \n",
    "    #summarise the surface reflectance bands\n",
    "    sr = ds.median('time')\n",
    "    \n",
    "    # Load elevation data using the spatial coords from ds\n",
    "    elev = dc.load(product='srtm', like=ds.geobox).squeeze()\n",
    "    \n",
    "    #merge the results so we return a single xarray.Dataset\n",
    "    result = xr.merge([ts,sr,elev], compat='override')\n",
    "    \n",
    "    #reassign crs/geobox\n",
    "    result = assign_crs(result, crs=ds.geobox.crs)\n",
    "    \n",
    "    return result.squeeze()"
   ]
  },
  {
   "cell_type": "markdown",
   "metadata": {},
   "source": [
    "Now, we can pass this function to `collect_training_data`.  For each of the geometries in our shapefile we will extract temporal statistics, and elevation data.\n",
    "\n",
    "Because we are now interested in calculating a range of temporal statistics, we will redefine our intial parameters to include a time-series of Sentinel-2 data (whereas above we loaded data from a geomedian composite).  Remember, passing in a `custom_func` to `collect_training_data` means many of the other feature layer parameters are ignored."
   ]
  },
  {
   "cell_type": "code",
   "execution_count": 5,
   "metadata": {},
   "outputs": [],
   "source": [
    "#set up our inputs to collect_training_data\n",
    "products =  ['s2_l2a']\n",
    "time = ('2019-01','2019-12')\n",
    "zonal_stats = 'median' \n",
    "\n",
    "# Set up the inputs for the ODC query\n",
    "measurements =  ['red', 'nir', 'blue', 'swir_1', 'swir_2']\n",
    "resolution = (-30,30)\n",
    "output_crs='epsg:6933'"
   ]
  },
  {
   "cell_type": "code",
   "execution_count": 6,
   "metadata": {},
   "outputs": [],
   "source": [
    "#generate a new datacube query object\n",
    "query = {\n",
    "    'time': time,\n",
    "    'measurements': measurements,\n",
    "    'resolution': resolution,\n",
    "    'output_crs': output_crs,\n",
    "    'group_by' : 'solar_day',\n",
    "}"
   ]
  },
  {
   "cell_type": "markdown",
   "metadata": {},
   "source": [
    "As we are now extracting 12-months of Sentinel-2 data from the datacube for every geometry, the load times will be much slower."
   ]
  },
  {
   "cell_type": "code",
   "execution_count": 7,
   "metadata": {},
   "outputs": [
    {
     "name": "stdout",
     "output_type": "stream",
     "text": [
      "Reducing data using user supplied custom function\n",
      "Taking zonal statistic: median\n",
      "Collecting training data in parallel mode\n"
     ]
    },
    {
     "name": "stderr",
     "output_type": "stream",
     "text": [
      " 72%|███████▏  | 211/292 [15:01<07:48,  5.78s/it]Error opening source dataset: s3://sentinel-cogs/sentinel-s2-l2a-cogs/2019/S2B_34LFK_20190310_0_L2A/SCL.tifError opening source dataset: s3://sentinel-cogs/sentinel-s2-l2a-cogs/2019/S2B_36LXJ_20191110_0_L2A/B04.tif\n",
      "Error opening source dataset: s3://sentinel-cogs/sentinel-s2-l2a-cogs/2019/S2A_36LTK_20190105_0_L2A/B12.tifError opening source dataset: s3://sentinel-cogs/sentinel-s2-l2a-cogs/2019/S2B_34LHH_20191212_0_L2A/B02.tifError opening source dataset: s3://sentinel-cogs/sentinel-s2-l2a-cogs/2019/S2B_36KWG_20191220_0_L2A/B12.tif\n",
      "\n",
      "\n",
      "Error opening source dataset: s3://sentinel-cogs/sentinel-s2-l2a-cogs/2019/S2A_35LND_20191025_0_L2A/B08.tif\n",
      "Error opening source dataset: s3://sentinel-cogs/sentinel-s2-l2a-cogs/2019/S2A_36LWK_20190916_0_L2A/B11.tif\n",
      "Error opening source dataset: s3://sentinel-cogs/sentinel-s2-l2a-cogs/2019/S2B_34LGJ_20190903_0_L2A/B08.tif\n",
      "Error opening source dataset: s3://sentinel-cogs/sentinel-s2-l2a-cogs/2019/S2A_34LGJ_20190908_0_L2A/B08.tif\n",
      "\n",
      "Error opening source dataset: s3://sentinel-cogs/sentinel-s2-l2a-cogs/2019/S2B_35KMB_20190702_0_L2A/SCL.tifError opening source dataset: s3://sentinel-cogs/sentinel-s2-l2a-cogs/2019/S2B_34LHH_20191212_0_L2A/B08.tifError opening source dataset: s3://sentinel-cogs/sentinel-s2-l2a-cogs/2019/S2B_37LBD_20190610_0_L2A/B08.tif\n",
      "Error opening source dataset: s3://sentinel-cogs/sentinel-s2-l2a-cogs/2019/S2B_36LYK_20190610_0_L2A/B08.tif\n",
      "\n",
      "Error opening source dataset: s3://sentinel-cogs/sentinel-s2-l2a-cogs/2019/S2B_34LGJ_20190903_0_L2A/B12.tifError opening source dataset: s3://sentinel-cogs/sentinel-s2-l2a-cogs/2019/S2A_36LYK_20190419_0_L2A/SCL.tif\n",
      "\n",
      "Error opening source dataset: s3://sentinel-cogs/sentinel-s2-l2a-cogs/2019/S2B_36LWK_20190911_0_L2A/B11.tif\n",
      "Error opening source dataset: s3://sentinel-cogs/sentinel-s2-l2a-cogs/2019/S2B_36LYK_20190610_0_L2A/B12.tifError opening source dataset: s3://sentinel-cogs/sentinel-s2-l2a-cogs/2019/S2A_34LGJ_20190908_0_L2A/SCL.tif\n",
      "\n",
      "Error opening source dataset: s3://sentinel-cogs/sentinel-s2-l2a-cogs/2019/S2A_34LGJ_20190908_0_L2A/B11.tif\n",
      "Error opening source dataset: s3://sentinel-cogs/sentinel-s2-l2a-cogs/2019/S2B_36LYK_20190610_0_L2A/B11.tif\n",
      "\n",
      "Error opening source dataset: s3://sentinel-cogs/sentinel-s2-l2a-cogs/2019/S2A_36LYK_20190419_0_L2A/B02.tif\n",
      " 86%|████████▌ | 251/292 [17:52<01:30,  2.21s/it]Error opening source dataset: s3://sentinel-cogs/sentinel-s2-l2a-cogs/2019/S2A_34HBJ_20191018_0_L2A/B12.tifError opening source dataset: s3://sentinel-cogs/sentinel-s2-l2a-cogs/2019/S2A_35JQM_20190731_0_L2A/B04.tifError opening source dataset: s3://sentinel-cogs/sentinel-s2-l2a-cogs/2019/S2A_35JMK_20190522_0_L2A/B12.tifError opening source dataset: s3://sentinel-cogs/sentinel-s2-l2a-cogs/2019/S2A_35JPF_20191128_0_L2A/B02.tifError opening source dataset: s3://sentinel-cogs/sentinel-s2-l2a-cogs/2019/S2A_35JMH_20190724_0_L2A/B11.tif\n",
      "\n",
      "\n",
      "\n",
      "Error opening source dataset: s3://sentinel-cogs/sentinel-s2-l2a-cogs/2019/S2B_35JNL_20191203_0_L2A/SCL.tifError opening source dataset: s3://sentinel-cogs/sentinel-s2-l2a-cogs/2019/S2A_35JPF_20191128_0_L2A/B08.tif\n",
      "Error opening source dataset: s3://sentinel-cogs/sentinel-s2-l2a-cogs/2019/S2B_35JMK_20190417_0_L2A/B04.tifError opening source dataset: s3://sentinel-cogs/sentinel-s2-l2a-cogs/2019/S2A_35JQM_20190810_0_L2A/SCL.tif\n",
      "\n",
      "Error opening source dataset: s3://sentinel-cogs/sentinel-s2-l2a-cogs/2019/S2B_35JNL_20191203_0_L2A/B12.tif\n",
      "\n",
      "Error opening source dataset: s3://sentinel-cogs/sentinel-s2-l2a-cogs/2019/S2B_35JQM_20190805_0_L2A/B02.tif\n",
      "Error opening source dataset: s3://sentinel-cogs/sentinel-s2-l2a-cogs/2019/S2B_33HYD_20190409_0_L2A/B08.tif\n",
      "Error opening source dataset: s3://sentinel-cogs/sentinel-s2-l2a-cogs/2019/S2A_35JPF_20191128_0_L2A/B11.tif\n",
      "Error opening source dataset: s3://sentinel-cogs/sentinel-s2-l2a-cogs/2019/S2B_35JMK_20190417_0_L2A/B11.tif\n",
      "\n",
      "Error opening source dataset: s3://sentinel-cogs/sentinel-s2-l2a-cogs/2019/S2B_35JMK_20190417_0_L2A/B08.tifError opening source dataset: s3://sentinel-cogs/sentinel-s2-l2a-cogs/2019/S2A_35JNK_20190820_0_L2A/B11.tifError opening source dataset: s3://sentinel-cogs/sentinel-s2-l2a-cogs/2019/S2B_35JQM_20190805_0_L2A/B04.tif\n",
      "\n",
      "\n",
      "Error opening source dataset: s3://sentinel-cogs/sentinel-s2-l2a-cogs/2019/S2A_35JQM_20190810_0_L2A/B04.tif\n",
      "Error opening source dataset: s3://sentinel-cogs/sentinel-s2-l2a-cogs/2019/S2B_35JMH_20190719_0_L2A/B11.tif\n",
      "Error opening source dataset: s3://sentinel-cogs/sentinel-s2-l2a-cogs/2019/S2B_35JMK_20190417_0_L2A/B12.tif\n",
      "Error opening source dataset: s3://sentinel-cogs/sentinel-s2-l2a-cogs/2019/S2A_35JMH_20190724_0_L2A/B08.tif\n",
      "Error opening source dataset: s3://sentinel-cogs/sentinel-s2-l2a-cogs/2019/S2A_35JMH_20190724_0_L2A/SCL.tifError opening source dataset: s3://sentinel-cogs/sentinel-s2-l2a-cogs/2019/S2B_33HYD_20190409_0_L2A/B11.tif\n",
      "Error opening source dataset: s3://sentinel-cogs/sentinel-s2-l2a-cogs/2019/S2A_35JMH_20190724_0_L2A/B12.tif\n",
      "\n",
      "Error opening source dataset: s3://sentinel-cogs/sentinel-s2-l2a-cogs/2019/S2A_33HYD_20190223_0_L2A/B11.tif\n",
      "Error opening source dataset: s3://sentinel-cogs/sentinel-s2-l2a-cogs/2019/S2B_33HYD_20190409_0_L2A/B04.tif\n",
      "Error opening source dataset: s3://sentinel-cogs/sentinel-s2-l2a-cogs/2019/S2A_34HBJ_20190829_0_L2A/B04.tif\n",
      "Error opening source dataset: s3://sentinel-cogs/sentinel-s2-l2a-cogs/2019/S2B_35JPF_20190404_0_L2A/B12.tifError opening source dataset: s3://sentinel-cogs/sentinel-s2-l2a-cogs/2019/S2B_35JQM_20190805_0_L2A/B11.tifError opening source dataset: s3://sentinel-cogs/sentinel-s2-l2a-cogs/2019/S2A_33HYD_20191018_0_L2A/SCL.tif\n",
      "\n",
      "Error opening source dataset: s3://sentinel-cogs/sentinel-s2-l2a-cogs/2019/S2B_35JNL_20191014_0_L2A/SCL.tifError opening source dataset: s3://sentinel-cogs/sentinel-s2-l2a-cogs/2019/S2A_34HBJ_20190121_0_L2A/B04.tifError opening source dataset: s3://sentinel-cogs/sentinel-s2-l2a-cogs/2019/S2B_35JQM_20190815_0_L2A/B04.tif\n",
      "\n",
      "Error opening source dataset: s3://sentinel-cogs/sentinel-s2-l2a-cogs/2019/S2A_33HYD_20191018_0_L2A/B11.tif\n",
      "\n",
      "Error opening source dataset: s3://sentinel-cogs/sentinel-s2-l2a-cogs/2019/S2B_35JPF_20190404_0_L2A/B11.tifError opening source dataset: s3://sentinel-cogs/sentinel-s2-l2a-cogs/2019/S2B_35JNL_20191014_0_L2A/B12.tif\n",
      "Error opening source dataset: s3://sentinel-cogs/sentinel-s2-l2a-cogs/2019/S2B_34HBJ_20190307_0_L2A/B04.tif\n",
      "Error opening source dataset: s3://sentinel-cogs/sentinel-s2-l2a-cogs/2019/S2B_35JPF_20190404_0_L2A/B08.tifError opening source dataset: s3://sentinel-cogs/sentinel-s2-l2a-cogs/2019/S2B_35JNL_20191014_0_L2A/B11.tif\n",
      "Error opening source dataset: s3://sentinel-cogs/sentinel-s2-l2a-cogs/2019/S2B_35JPF_20190404_0_L2A/B04.tif\n",
      "\n",
      "Error opening source dataset: s3://sentinel-cogs/sentinel-s2-l2a-cogs/2019/S2B_35JLJ_20190420_0_L2A/B04.tifError opening source dataset: s3://sentinel-cogs/sentinel-s2-l2a-cogs/2019/S2B_33HYD_20190409_0_L2A/B12.tif\n",
      "Error opening source dataset: s3://sentinel-cogs/sentinel-s2-l2a-cogs/2019/S2A_35JLK_20190425_0_L2A/B11.tif\n",
      "Error opening source dataset: s3://sentinel-cogs/sentinel-s2-l2a-cogs/2019/S2B_35JLJ_20190420_0_L2A/SCL.tif\n",
      "Error opening source dataset: s3://sentinel-cogs/sentinel-s2-l2a-cogs/2019/S2B_34HDH_20190126_0_L2A/B11.tif\n",
      "\n",
      "\n",
      "Error opening source dataset: s3://sentinel-cogs/sentinel-s2-l2a-cogs/2019/S2B_35JNL_20191014_0_L2A/B04.tif\n",
      "Error opening source dataset: s3://sentinel-cogs/sentinel-s2-l2a-cogs/2019/S2B_35JNL_20191014_0_L2A/B08.tifError opening source dataset: s3://sentinel-cogs/sentinel-s2-l2a-cogs/2019/S2B_34HBJ_20190116_0_L2A/B11.tif\n",
      "\n",
      "Error opening source dataset: s3://sentinel-cogs/sentinel-s2-l2a-cogs/2019/S2A_34HBJ_20190121_0_L2A/B02.tif\n",
      "Error opening source dataset: s3://sentinel-cogs/sentinel-s2-l2a-cogs/2019/S2B_34HBJ_20190116_0_L2A/B02.tif\n",
      "\n",
      "Error opening source dataset: s3://sentinel-cogs/sentinel-s2-l2a-cogs/2019/S2B_34HBJ_20190116_0_L2A/SCL.tif\n",
      "Error opening source dataset: s3://sentinel-cogs/sentinel-s2-l2a-cogs/2019/S2A_34HBJ_20190121_0_L2A/B08.tif\n",
      "Error opening source dataset: s3://sentinel-cogs/sentinel-s2-l2a-cogs/2019/S2A_35JPM_20190810_0_L2A/SCL.tifError opening source dataset: s3://sentinel-cogs/sentinel-s2-l2a-cogs/2019/S2A_34HBJ_20190121_0_L2A/B11.tif\n",
      "\n",
      "Error opening source dataset: s3://sentinel-cogs/sentinel-s2-l2a-cogs/2019/S2A_35JPM_20190810_0_L2A/B02.tif\n",
      "Error opening source dataset: s3://sentinel-cogs/sentinel-s2-l2a-cogs/2019/S2A_34HDH_20191114_0_L2A/B11.tifError opening source dataset: s3://sentinel-cogs/sentinel-s2-l2a-cogs/2019/S2B_35JQM_20190815_0_L2A/SCL.tif\n",
      "\n",
      "Error opening source dataset: s3://sentinel-cogs/sentinel-s2-l2a-cogs/2019/S2A_35JPM_20190810_0_L2A/B11.tif\n",
      "Error opening source dataset: s3://sentinel-cogs/sentinel-s2-l2a-cogs/2019/S2B_34HDG_20190126_0_L2A/B04.tifError opening source dataset: s3://sentinel-cogs/sentinel-s2-l2a-cogs/2019/S2B_35JPM_20190805_0_L2A/B11.tifError opening source dataset: s3://sentinel-cogs/sentinel-s2-l2a-cogs/2019/S2A_34HDH_20190312_0_L2A/SCL.tif\n",
      "\n",
      "Error opening source dataset: s3://sentinel-cogs/sentinel-s2-l2a-cogs/2019/S2A_35JPM_20190810_0_L2A/B04.tif\n",
      "\n",
      "Error opening source dataset: s3://sentinel-cogs/sentinel-s2-l2a-cogs/2019/S2B_34HDG_20190126_0_L2A/B12.tif\n",
      "Error opening source dataset: s3://sentinel-cogs/sentinel-s2-l2a-cogs/2019/S2B_35JPL_20190318_0_L2A/B08.tifError opening source dataset: s3://sentinel-cogs/sentinel-s2-l2a-cogs/2019/S2A_35JNL_20190122_0_L2A/B12.tif\n",
      "\n",
      "Error opening source dataset: s3://sentinel-cogs/sentinel-s2-l2a-cogs/2019/S2A_35JNL_20190122_0_L2A/B04.tif\n",
      "Error opening source dataset: s3://sentinel-cogs/sentinel-s2-l2a-cogs/2019/S2A_35JNK_20190820_0_L2A/B04.tif\n",
      "Error opening source dataset: s3://sentinel-cogs/sentinel-s2-l2a-cogs/2019/S2B_35JPF_20191011_0_L2A/B11.tif\n",
      "Error opening source dataset: s3://sentinel-cogs/sentinel-s2-l2a-cogs/2019/S2B_35JNL_20190808_0_L2A/B11.tif\n",
      "Error opening source dataset: s3://sentinel-cogs/sentinel-s2-l2a-cogs/2019/S2A_35JLK_20190425_0_L2A/B08.tif\n",
      " 86%|████████▌ | 251/292 [24:49<04:03,  5.94s/it]"
     ]
    },
    {
     "name": "stdout",
     "output_type": "stream",
     "text": [
      "\n",
      "Output training data has shape (251, 13)\n",
      "Removed NaNs, cleaned input shape:  (249, 13)\n"
     ]
    },
    {
     "name": "stderr",
     "output_type": "stream",
     "text": [
      "\n"
     ]
    }
   ],
   "source": [
    "column_names, model_input = collect_training_data(\n",
    "                                    gdf=input_data,\n",
    "                                    products=products,\n",
    "                                    dc_query=query,\n",
    "                                    ncpus=ncpus,\n",
    "                                    field=field,\n",
    "                                    zonal_stats=zonal_stats,\n",
    "                                    custom_func=temporalStats_and_elevation\n",
    "                                    )"
   ]
  },
  {
   "cell_type": "code",
   "execution_count": 8,
   "metadata": {},
   "outputs": [
    {
     "name": "stdout",
     "output_type": "stream",
     "text": [
      "['class', 'f_mean_n1', 'f_mean_n2', 'f_mean_n3', 'abs_change', 'complexity', 'central_diff', 'red', 'nir', 'blue', 'swir_1', 'swir_2', 'elevation']\n",
      "\n",
      "[[   0.      0.61    0.24 ... 3623.   3092.    989.  ]\n",
      " [   0.      1.97    0.47 ... 2887.5  2383.    535.  ]\n",
      " [   1.      3.83    1.74 ... 2809.5  1990.75   74.  ]\n",
      " ...\n",
      " [   1.      4.7     0.9  ... 3268.   2716.5  1681.  ]\n",
      " [   1.      4.32    0.97 ... 3197.75 2673.75  689.5 ]\n",
      " [   1.      3.08    1.12 ... 3531.5  2694.5  1538.  ]]\n"
     ]
    }
   ],
   "source": [
    "print(column_names)\n",
    "print('')\n",
    "print(np.array_str(model_input, precision=2, suppress_small=True))"
   ]
  },
  {
   "cell_type": "markdown",
   "metadata": {},
   "source": [
    "## Export training data\n",
    "\n",
    "Once we've collected all the training data we require, we can write the data to disk. This will allow us to import the data in the next step(s) of the workflow.\n"
   ]
  },
  {
   "cell_type": "code",
   "execution_count": 9,
   "metadata": {},
   "outputs": [],
   "source": [
    "#set the name and location of the output file\n",
    "output_file = \"results/training_data/test_training_data.txt\""
   ]
  },
  {
   "cell_type": "code",
   "execution_count": 10,
   "metadata": {},
   "outputs": [],
   "source": [
    "#Export files to disk\n",
    "np.savetxt(output_file, model_input, header=\" \".join(column_names), fmt=\"%4f\")"
   ]
  },
  {
   "cell_type": "markdown",
   "metadata": {},
   "source": [
    "## Recommended next steps\n",
    "\n",
    "To continue working through the notebooks in this `Scalable Machine Learning on the ODC` workflow, go to the next notebook `2_Inspect_training_data.ipynb`.\n",
    "\n",
    "1. **Extracting_training_data (this notebook)**\n",
    "2. [Inspect_training_data](2_Inspect_training_data.ipynb)\n",
    "3. [Train_fit_evaluate_classifier](3_Train_fit_evaluate_classifier.ipynb)\n",
    "4. [Predict](4_Predict.ipynb)\n",
    "5. [Accuracy_assessment](5_Accuracy_assessment.ipynb)\n",
    "6. [Object-based_filtering](6_Object-based_filtering_(optional).ipynb)\n"
   ]
  },
  {
   "cell_type": "markdown",
   "metadata": {},
   "source": [
    "***\n",
    "\n",
    "## Additional information\n",
    "\n",
    "**License:** The code in this notebook is licensed under the [Apache License, Version 2.0](https://www.apache.org/licenses/LICENSE-2.0). \n",
    "Digital Earth Africa data is licensed under the [Creative Commons by Attribution 4.0](https://creativecommons.org/licenses/by/4.0/) license.\n",
    "\n",
    "**Contact:** If you need assistance, please post a question on the [Open Data Cube Slack channel](http://slack.opendatacube.org/) or on the [GIS Stack Exchange](https://gis.stackexchange.com/questions/ask?tags=open-data-cube) using the `open-data-cube` tag (you can view previously asked questions [here](https://gis.stackexchange.com/questions/tagged/open-data-cube)).\n",
    "If you would like to report an issue with this notebook, you can file one on [Github](https://github.com/digitalearthafrica/deafrica-sandbox-notebooks).\n",
    "\n",
    "**Last modified:** August 2020\n",
    "\n",
    "**Compatible datacube version:** "
   ]
  },
  {
   "cell_type": "code",
   "execution_count": null,
   "metadata": {},
   "outputs": [],
   "source": [
    "print(datacube.__version__)"
   ]
  },
  {
   "cell_type": "markdown",
   "metadata": {},
   "source": [
    "## Tags\n",
    "Browse all available tags on the DE Africa User Guide's [Tags Index](https://) (placeholder as this does not exist yet)"
   ]
  },
  {
   "cell_type": "raw",
   "metadata": {
    "raw_mimetype": "text/restructuredtext"
   },
   "source": [
    "**Tags**:  :index:`Sentinel-2`, :index:`deafrica_classificationtools`"
   ]
  }
 ],
 "metadata": {
  "kernelspec": {
   "display_name": "Python 3",
   "language": "python",
   "name": "python3"
  },
  "language_info": {
   "codemirror_mode": {
    "name": "ipython",
    "version": 3
   },
   "file_extension": ".py",
   "mimetype": "text/x-python",
   "name": "python",
   "nbconvert_exporter": "python",
   "pygments_lexer": "ipython3",
   "version": "3.6.9"
  },
  "widgets": {
   "application/vnd.jupyter.widget-state+json": {
    "state": {},
    "version_major": 2,
    "version_minor": 0
   }
  }
 },
 "nbformat": 4,
 "nbformat_minor": 4
}
