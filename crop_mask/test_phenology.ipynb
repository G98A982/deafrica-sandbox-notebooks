{
 "cells": [
  {
   "cell_type": "markdown",
   "metadata": {},
   "source": [
    "# Testing the creation of a 'xr_phenology' function"
   ]
  },
  {
   "cell_type": "markdown",
   "metadata": {},
   "source": [
    "Random online python phenology functions that might help:\n",
    "\n",
    "- https://gist.github.com/YanCheng-go/d4e17831f294199443d0f7682558e608\n",
    "\n",
    "- https://github.com/JavierLopatin/PhenoPY\n"
   ]
  },
  {
   "cell_type": "code",
   "execution_count": null,
   "metadata": {},
   "outputs": [],
   "source": [
    "# !pip install kneed\n",
    "# !pip install KDEpy\n",
    "# !pip install jdcal\n",
    "# !pip install lmfit"
   ]
  },
  {
   "cell_type": "markdown",
   "metadata": {},
   "source": [
    "### Load modules"
   ]
  },
  {
   "cell_type": "code",
   "execution_count": 1,
   "metadata": {},
   "outputs": [
    {
     "name": "stderr",
     "output_type": "stream",
     "text": [
      "/env/lib/python3.6/site-packages/datacube/storage/masking.py:4: DeprecationWarning: datacube.storage.masking has moved to datacube.utils.masking\n",
      "  category=DeprecationWarning)\n"
     ]
    }
   ],
   "source": [
    "import sys\n",
    "import os\n",
    "import datacube\n",
    "import numpy as np\n",
    "import xarray as xr\n",
    "import matplotlib.pyplot as plt\n",
    "import warnings\n",
    "# import phenopy as phen\n",
    "import pandas as pd\n",
    "# from phen_test import pheno_map\n",
    "import deafrica_phenology\n",
    "sys.path.append('../Scripts')\n",
    "from deafrica_plotting import display_map, rgb\n",
    "from deafrica_datahandling import mostcommon_crs, load_ard\n",
    "from deafrica_bandindices import calculate_indices\n",
    "\n",
    "%load_ext autoreload\n",
    "%autoreload 2"
   ]
  },
  {
   "cell_type": "markdown",
   "metadata": {},
   "source": [
    "### Load some data to work with"
   ]
  },
  {
   "cell_type": "code",
   "execution_count": 2,
   "metadata": {},
   "outputs": [],
   "source": [
    "dc = datacube.Datacube(app='phenology stats')"
   ]
  },
  {
   "cell_type": "code",
   "execution_count": 3,
   "metadata": {},
   "outputs": [],
   "source": [
    "# lat = -10.6976\n",
    "# lon = 35.2708\n",
    "# lon_buffer = 0.00200\n",
    "# lat_buffer = 0.00190\n",
    "\n",
    "lat = 30.2522\n",
    "lon = 30.5516\n",
    "buffer = 0.003\n",
    "\n",
    "x = (lon - buffer, lon + buffer)\n",
    "y =  (lat + buffer, lat - buffer)\n",
    "\n",
    "# Create a reusable query\n",
    "query = {\n",
    "    'x': x,\n",
    "    'y': y,\n",
    "    'time': ('2018-01', '2018-06'),\n",
    "    'resolution': (-20, 20)\n",
    "}"
   ]
  },
  {
   "cell_type": "code",
   "execution_count": null,
   "metadata": {},
   "outputs": [],
   "source": [
    "# display_map(x=x, y=y)"
   ]
  },
  {
   "cell_type": "code",
   "execution_count": 4,
   "metadata": {},
   "outputs": [
    {
     "name": "stdout",
     "output_type": "stream",
     "text": [
      "Using pixel quality parameters for USGS Collection 2\n",
      "Finding datasets\n",
      "    usgs_ls8c_level2_2\n",
      "Counting good quality pixels for each time step\n",
      "Filtering to 10 out of 11 time steps with at least 50.0% good quality pixels\n",
      "Applying pixel quality/cloud mask\n",
      "Loading 10 time steps\n",
      "<xarray.Dataset>\n",
      "Dimensions:      (time: 10, x: 30, y: 35)\n",
      "Coordinates:\n",
      "  * y            (y) float64 3.35e+06 3.35e+06 3.35e+06 ... 3.349e+06 3.349e+06\n",
      "  * x            (x) float64 2.641e+05 2.642e+05 ... 2.647e+05 2.647e+05\n",
      "  * time         (time) datetime64[ns] 2018-01-12T08:30:07.070431 ... 2018-06-21T08:29:00.035786\n",
      "    spatial_ref  int32 0\n",
      "Data variables:\n",
      "    green        (time, y, x) float32 13057.0 12053.0 ... 15025.0 15205.0\n",
      "    red          (time, y, x) float32 14122.0 12337.0 ... 17054.0 17385.0\n",
      "    blue         (time, y, x) float32 10837.0 10054.0 9464.0 ... 11931.0 12220.0\n",
      "    nir          (time, y, x) float32 18096.0 20122.0 ... 20942.0 20966.0\n",
      "Attributes:\n",
      "    crs:           epsg:32636\n",
      "    grid_mapping:  spatial_ref\n"
     ]
    }
   ],
   "source": [
    "#find the most common UTM crs for the location\n",
    "output_crs = mostcommon_crs(dc=dc, product='usgs_ls8c_level2_2', query=query)\n",
    "\n",
    "# Load available data\n",
    "ds = load_ard(dc=dc, \n",
    "              products=['usgs_ls8c_level2_2'],\n",
    "              measurements=['green','red','blue','nir'],\n",
    "              group_by='solar_day',\n",
    "              min_gooddata=0.5,\n",
    "              output_crs=output_crs, \n",
    "              **query)\n",
    "\n",
    "# Print output data\n",
    "print(ds)"
   ]
  },
  {
   "cell_type": "markdown",
   "metadata": {},
   "source": [
    "### Calculate NDVI and DOY"
   ]
  },
  {
   "cell_type": "code",
   "execution_count": null,
   "metadata": {},
   "outputs": [],
   "source": [
    "# rgb(ds, index=[0,2,4,6,8,10,12,14,16,18,20])"
   ]
  },
  {
   "cell_type": "code",
   "execution_count": 5,
   "metadata": {},
   "outputs": [
    {
     "name": "stdout",
     "output_type": "stream",
     "text": [
      "Dropping bands ['green', 'red', 'blue', 'nir']\n"
     ]
    }
   ],
   "source": [
    "# First we calculate NDVI on each image in the timeseries\n",
    "ndvi = calculate_indices(ds, index='NDVI', collection='s2', drop=True)\n",
    "doy=ndvi.time.dt.dayofyear"
   ]
  },
  {
   "cell_type": "code",
   "execution_count": 6,
   "metadata": {},
   "outputs": [],
   "source": [
    "ndvi = ndvi.NDVI.mean(['x','y'])"
   ]
  },
  {
   "cell_type": "markdown",
   "metadata": {},
   "source": [
    "### Test each statistic\n",
    "\n",
    "After confirming each statistic is working, then adding the code to the `deafrica_phenology.py` script.\n",
    "\n",
    "Statistics to calculate:\n",
    "\n",
    "    SOS = DOY of start of season\n",
    "    POS = DOY of peak of season\n",
    "    EOS = DOY of end of season\n",
    "    vSOS = Value at start of season\n",
    "    vPOS = Value at peak of season\n",
    "    vEOS = Value at end of season\n",
    "    LOS = Length of season (DOY)\n",
    "    AOS = Amplitude of season (in value units)\n",
    "    IOS = Integral of season (SOS-EOS)\n",
    "    ROG = Rate of greening\n",
    "    ROS = Rate of senescence\n",
    "    SW = Skewness of growing season\n"
   ]
  },
  {
   "cell_type": "markdown",
   "metadata": {},
   "source": [
    "Statistics that are working:"
   ]
  },
  {
   "cell_type": "code",
   "execution_count": 7,
   "metadata": {},
   "outputs": [
    {
     "data": {
      "text/plain": [
       "[<matplotlib.lines.Line2D at 0x7f72741eb668>]"
      ]
     },
     "execution_count": 7,
     "metadata": {},
     "output_type": "execute_result"
    },
    {
     "data": {
      "image/png": "[encoded data removed]",
      "text/plain": [
       "<Figure size 432x288 with 1 Axes>"
      ]
     },
     "metadata": {
      "needs_background": "light"
     },
     "output_type": "display_data"
    }
   ],
   "source": [
    "ndvi.plot()"
   ]
  },
  {
   "cell_type": "code",
   "execution_count": 57,
   "metadata": {},
   "outputs": [],
   "source": [
    "vpos=deafrica_phenology._vpos(ndvi)\n",
    "ipos = deafrica_phenology._ipos(ndvi)\n",
    "pos = deafrica_phenology._pos(ndvi)\n",
    "trough = deafrica_phenology._trough(ndvi)\n",
    "aos = deafrica_phenology._aos(vpos, trough)\n",
    "sos = deafrica_phenology._sos(ndvi, ipos, method='first')\n",
    "vsos = deafrica_phenology._vsos(ndvi, sos)\n"
   ]
  },
  {
   "cell_type": "code",
   "execution_count": null,
   "metadata": {},
   "outputs": [],
   "source": []
  },
  {
   "cell_type": "markdown",
   "metadata": {},
   "source": [
    "Statistics in progress:"
   ]
  },
  {
   "cell_type": "code",
   "execution_count": null,
   "metadata": {},
   "outputs": [],
   "source": [
    "#eos"
   ]
  },
  {
   "cell_type": "code",
   "execution_count": null,
   "metadata": {},
   "outputs": [],
   "source": []
  },
  {
   "cell_type": "code",
   "execution_count": null,
   "metadata": {},
   "outputs": [],
   "source": []
  },
  {
   "cell_type": "code",
   "execution_count": null,
   "metadata": {},
   "outputs": [],
   "source": []
  },
  {
   "cell_type": "code",
   "execution_count": null,
   "metadata": {},
   "outputs": [],
   "source": []
  },
  {
   "cell_type": "markdown",
   "metadata": {},
   "source": [
    "#### This works...but only for 1D arrays. Could be good if used after zonal-stats are calculated"
   ]
  },
  {
   "cell_type": "code",
   "execution_count": null,
   "metadata": {},
   "outputs": [],
   "source": [
    "doy"
   ]
  },
  {
   "cell_type": "code",
   "execution_count": null,
   "metadata": {},
   "outputs": [],
   "source": [
    "import numpy as np\n",
    "import xarray as xr\n",
    "import pandas as pd\n",
    "from scipy.integrate import trapz\n",
    "from scipy.stats import skew\n",
    "# from deafrica_phenology import PhenologyMetrics\n"
   ]
  },
  {
   "cell_type": "code",
   "execution_count": null,
   "metadata": {},
   "outputs": [],
   "source": [
    "def _getPhenologyMetrics(da, doy):\n",
    "    \n",
    "    \"\"\"\n",
    "    Obtain land surfurface phenology metrics\n",
    "    Parameters\n",
    "    ----------\n",
    "    - da:  xr.Datarray\n",
    "    - doy: xt.DataArray\n",
    "        Dayofyer values for each time step in the 'time'\n",
    "        dim on 'da'. e.g doy=da.time.dt.dayofyear\n",
    "    Outputs\n",
    "    -------\n",
    "        SOS = DOY of start of season\n",
    "        POS = DOY of peak of season\n",
    "        EOS = DOY of end of season\n",
    "        vSOS = Value at start of season\n",
    "        vPOS = Value at peak of season\n",
    "        vEOS = Value at end of season\n",
    "        LOS = Length of season (DOY)\n",
    "        AOS = Amplitude of season (in value units)\n",
    "        IOS = Integral of season (SOS-EOS)\n",
    "        ROG = Rate of greening\n",
    "        ROS = Rate of senescence\n",
    "        SW = Skewness of growing season\n",
    "    \"\"\"\n",
    "    stats=[]\n",
    "    \n",
    "    # basic variables\n",
    "    vpos = np.nanmax(da)\n",
    "    ipos = np.where(da == vpos)[0]\n",
    "    print(ipos)\n",
    "    pos = doy[ipos]\n",
    "    trough = np.nanmin(da)\n",
    "    ampl = vpos - trough\n",
    "\n",
    "    # get position of seasonal peak and trough\n",
    "    ipos = np.where(da == vpos)\n",
    "\n",
    "    # scale annual time series to 0-1\n",
    "    ratio = (da - trough) / ampl\n",
    "\n",
    "    # separate greening from senesence values\n",
    "    dev = np.gradient(ratio)  # first derivative\n",
    "    greenup = np.zeros([ratio.shape[0]],  dtype=bool)\n",
    "    greenup[dev > 0] = True\n",
    "\n",
    "    # estimate SOS and EOS as median of the seasons\n",
    "    i = np.nanmedian(doy[:ipos[0][0]][greenup[:ipos[0][0]]])\n",
    "    ii = np.nanmedian(doy[ipos[0][0]:][~greenup[ipos[0][0]:]])\n",
    "    sos = doy[(np.abs(doy - i)).argmin()]\n",
    "    eos = doy[(np.abs(doy - ii)).argmin()]\n",
    "    isos = np.where(doy == int(sos))[0]\n",
    "    ieos = np.where(doy == eos)[0]\n",
    "    if sos is None:\n",
    "        isos = 0\n",
    "        sos = doy[isos]\n",
    "    if eos is None:\n",
    "        ieos = len(doy) - 1\n",
    "        eos = doy[ieos]\n",
    "\n",
    "    # los: length of season\n",
    "    los = eos - sos\n",
    "    if los < 0:\n",
    "        los[los < 0] = len(da) + \\\n",
    "            (eos[los < 0] - sos[los < 0])\n",
    "\n",
    "    # doy of growing season\n",
    "    green = doy[(doy > sos) & (doy < eos)]\n",
    "    _id = []\n",
    "    for i in range(len(green)):\n",
    "        _id.append((doy == green[i]).nonzero()[0])\n",
    "\n",
    "    # index of growing season\n",
    "    _id = np.array([item for sublist in _id for item in sublist])\n",
    "    # get intergral of green season\n",
    "    ios = trapz(da[_id], doy[_id])\n",
    "\n",
    "    # rate of greening [slope SOS-POS]\n",
    "    rog = (vpos - da[isos]) / (pos - sos)\n",
    "    rog = rog[0]\n",
    "\n",
    "    # rate of senescence [slope POS-EOS]\n",
    "    ros = (da[ieos] - vpos) / (eos - pos)\n",
    "    ros= ros[0]\n",
    "\n",
    "    # skewness of growing season\n",
    "    sw = skew(da[_id])\n",
    "\n",
    "    #values at start of season\n",
    "    vsos = da[isos][0]\n",
    "\n",
    "    #values at end of season\n",
    "    veos = da[ieos][0]\n",
    "    \n",
    "    print(sos,pos[0],eos, vsos, vpos, veos, los, ampl, ios, rog, ros, sw)\n",
    "\n",
    "    #return metrics\n",
    "        "
   ]
  },
  {
   "cell_type": "code",
   "execution_count": null,
   "metadata": {},
   "outputs": [],
   "source": [
    "#create fake data\n",
    "ndvi = np.array([0,0.0,0.2, 0.5, 0.9, 0.9, 0.9, 0.8, 0.75, 0.1, 0.0, 0.0])\n",
    "test_da = xr.DataArray(ndvi,\n",
    "             coords=[pd.date_range(\"01/01/2018\", periods=12, freq=pd.DateOffset(months=1),)],dims=\"time\")\n",
    "\n",
    "doy=test_da.time.dt.dayofyear"
   ]
  },
  {
   "cell_type": "code",
   "execution_count": null,
   "metadata": {},
   "outputs": [],
   "source": [
    "xr.apply_ufunc(\n",
    "        _getPhenologyMetrics,\n",
    "        test_da,\n",
    "        input_core_dims=[[\"time\"]],\n",
    "        kwargs={'doy': doy.values},\n",
    "        dask='allowed')"
   ]
  },
  {
   "cell_type": "code",
   "execution_count": null,
   "metadata": {},
   "outputs": [],
   "source": [
    "ax = plt.subplot(1, 1, 1)\n",
    "ax.plot(doy, ndvi)\n",
    "ax.plot(60,0.2, \"or\")\n",
    "ax.plot(244,0.75, \"or\")\n",
    "ax.plot(121, 0.9, \"or\")"
   ]
  },
  {
   "cell_type": "code",
   "execution_count": null,
   "metadata": {},
   "outputs": [],
   "source": []
  },
  {
   "cell_type": "markdown",
   "metadata": {},
   "source": [
    "## Testing curve-fitting"
   ]
  },
  {
   "cell_type": "code",
   "execution_count": null,
   "metadata": {},
   "outputs": [],
   "source": [
    "def poly_fit(x, y, degree=2, x_smooth=None, n_pts=100):\n",
    "    \"\"\"\n",
    "    Fits a polynomial of any positive integer degree to some data - x and y. Returns predicted interpolation values.\n",
    "    Parameters\n",
    "    ----------\n",
    "    x: list-like\n",
    "        The x values of the data to fit to.\n",
    "    y: list-like\n",
    "        The y values of the data to fit to.\n",
    "    x_smooth: list-like\n",
    "        The exact x values to interpolate for. Supercedes `n_pts`.\n",
    "    n_pts: int\n",
    "        The number of evenly spaced points spanning the range of `x` to interpolate for.\n",
    "    degree: int\n",
    "        The degree of the polynomial to fit.\n",
    "    Returns\n",
    "    -------\n",
    "    x_smooth, y_smooth: numpy.ndarray\n",
    "        The smoothed x and y values of the curve fit.\n",
    "    \"\"\"\n",
    "    if x_smooth is None:\n",
    "        x_smooth_inds = np.linspace(0, len(x), n_pts)\n",
    "        x_smooth = np.interp(x_smooth_inds, np.arange(len(x)), x)\n",
    "    y_smooth = np.array([np.array([coef * (x_val ** current_degree) for\n",
    "                                   coef, current_degree in zip(np.polyfit(x, y, degree),\n",
    "                                                               range(degree, -1, -1))]).sum() for x_val in x_smooth])\n",
    "    return x_smooth, y_smooth"
   ]
  },
  {
   "cell_type": "code",
   "execution_count": null,
   "metadata": {},
   "outputs": [],
   "source": [
    "xr.apply_ufunc(\n",
    "        poly_fit,\n",
    "        ndvi,\n",
    "        input_core_dims=[[\"time\"]],\n",
    "        dask='allowed')"
   ]
  },
  {
   "cell_type": "code",
   "execution_count": null,
   "metadata": {},
   "outputs": [],
   "source": []
  },
  {
   "cell_type": "code",
   "execution_count": null,
   "metadata": {},
   "outputs": [],
   "source": []
  },
  {
   "cell_type": "code",
   "execution_count": null,
   "metadata": {},
   "outputs": [],
   "source": []
  },
  {
   "cell_type": "code",
   "execution_count": null,
   "metadata": {},
   "outputs": [],
   "source": []
  },
  {
   "cell_type": "code",
   "execution_count": null,
   "metadata": {},
   "outputs": [],
   "source": []
  },
  {
   "cell_type": "code",
   "execution_count": null,
   "metadata": {},
   "outputs": [],
   "source": []
  },
  {
   "cell_type": "code",
   "execution_count": null,
   "metadata": {},
   "outputs": [],
   "source": []
  },
  {
   "cell_type": "code",
   "execution_count": null,
   "metadata": {},
   "outputs": [],
   "source": []
  },
  {
   "cell_type": "code",
   "execution_count": null,
   "metadata": {},
   "outputs": [],
   "source": []
  },
  {
   "cell_type": "code",
   "execution_count": null,
   "metadata": {},
   "outputs": [],
   "source": []
  },
  {
   "cell_type": "code",
   "execution_count": null,
   "metadata": {},
   "outputs": [],
   "source": [
    "def TIMESAT_stats(da, doy):\n",
    "   \n",
    "    #empty dict to put results in\n",
    "    stats = {}\n",
    "    \n",
    "    data_np_arr = da\n",
    "    time_np_arr = doy\n",
    "    data_inds = np.arange(len(data_np_arr))\n",
    "    \n",
    "    # Obtain the first and second derivatives.\n",
    "    fst_deriv = np.gradient(data_np_arr, time_np_arr)\n",
    "    pos_fst_deriv = fst_deriv > 0\n",
    "    neg_fst_deriv = 0 > fst_deriv\n",
    "    snd_deriv = np.gradient(fst_deriv, time_np_arr)\n",
    "    pos_snd_deriv = snd_deriv > 0\n",
    "    neg_snd_deriv = 0 > snd_deriv\n",
    "    \n",
    "    # Determine MOS.\n",
    "    # MOS is the index of the highest value immediately preceding a transition\n",
    "    # of the first derivative from positive to negative.\n",
    "    pos_to_neg_fst_deriv = pos_fst_deriv.copy()\n",
    "    for i in range(len(pos_fst_deriv)):\n",
    "        if i == len(pos_fst_deriv) - 1: # last index\n",
    "            pos_to_neg_fst_deriv[i] = False\n",
    "        elif pos_fst_deriv[i] and not pos_fst_deriv[i+1]: # + to -\n",
    "            pos_to_neg_fst_deriv[i] = True\n",
    "        else: # everything else\n",
    "            pos_to_neg_fst_deriv[i] = False\n",
    "    idxmos_potential_inds = data_inds[pos_to_neg_fst_deriv]\n",
    "    idxmos_subset_ind = np.argmax(data_np_arr[pos_to_neg_fst_deriv])\n",
    "    idxmos = idxmos_potential_inds[idxmos_subset_ind]\n",
    "    stats['Middle of Season'] = idxmos\n",
    "    \n",
    "    data_inds_after_mos = np.roll(data_inds, len(data_inds)-idxmos-1)\n",
    "    \n",
    "    # Determine BOS.\n",
    "    # BOS is the first negative inflection point of the positive values \n",
    "    # of the first derivative starting after and ending at the MOS.\n",
    "    idxbos = data_inds_after_mos[np.argmax((pos_fst_deriv & neg_snd_deriv)[data_inds_after_mos])]\n",
    "    stats['Beginning of Season'] = idxbos\n",
    "    \n",
    "    # Determine EOS.\n",
    "    # EOS is the last positive inflection point of the negative values \n",
    "    # of the first derivative starting after and ending at the MOS.\n",
    "    idxeos = data_inds_after_mos[np.argmax((neg_fst_deriv & pos_snd_deriv)[data_inds_after_mos][::-1])]\n",
    "    stats['End of Season'] = idxeos\n",
    "    \n",
    "    # Determine EOS-BOS.\n",
    "    stats['Length of Season'] = idxeos - idxbos\n",
    "    # Determine BASE.\n",
    "    stats['Base Value'] = np.nanmin(data_np_arr)\n",
    "    # Determine MAX.\n",
    "    stats['Max Value'] = np.nanmax(data_np_arr)\n",
    "    # Determine AMP.\n",
    "    stats['Amplitude'] = stats['Max Value'] - stats['Base Value']\n",
    "    \n",
    "    #Rate of greening [slope StartOS-PeakOS]\n",
    "    da[idxmos] - da[idxbos / \n",
    "    \n",
    "    print(stats)\n",
    "    return stats"
   ]
  },
  {
   "cell_type": "code",
   "execution_count": null,
   "metadata": {},
   "outputs": [],
   "source": []
  },
  {
   "cell_type": "code",
   "execution_count": null,
   "metadata": {},
   "outputs": [],
   "source": []
  },
  {
   "cell_type": "code",
   "execution_count": null,
   "metadata": {},
   "outputs": [],
   "source": []
  },
  {
   "cell_type": "code",
   "execution_count": null,
   "metadata": {},
   "outputs": [],
   "source": []
  },
  {
   "cell_type": "code",
   "execution_count": null,
   "metadata": {},
   "outputs": [],
   "source": []
  },
  {
   "cell_type": "code",
   "execution_count": null,
   "metadata": {},
   "outputs": [],
   "source": []
  },
  {
   "cell_type": "code",
   "execution_count": null,
   "metadata": {},
   "outputs": [],
   "source": []
  }
 ],
 "metadata": {
  "kernelspec": {
   "display_name": "Python 3",
   "language": "python",
   "name": "python3"
  },
  "language_info": {
   "codemirror_mode": {
    "name": "ipython",
    "version": 3
   },
   "file_extension": ".py",
   "mimetype": "text/x-python",
   "name": "python",
   "nbconvert_exporter": "python",
   "pygments_lexer": "ipython3",
   "version": "3.6.9"
  }
 },
 "nbformat": 4,
 "nbformat_minor": 4
}
