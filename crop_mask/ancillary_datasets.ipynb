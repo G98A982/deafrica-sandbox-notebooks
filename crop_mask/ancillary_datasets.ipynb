{
 "cells": [
  {
   "cell_type": "markdown",
   "metadata": {},
   "source": [
    "# Ancillary Datasets\n",
    "\n",
    "In order to use external/ancillary datasets as feature layers in the crop ML model, we need to resample the datasets to match Sentinel2.  The code here tests the workflow for resampling.  \n",
    "\n",
    "Also testing creating a slope layer.\n",
    "\n",
    "`xr_reproject` is a new function and needs to be installed manually as per below: \n",
    "\n",
    "     !pip install -U --no-deps --extra-index-url=\"https://packages.dea.ga.gov.au\" odc-algo"
   ]
  },
  {
   "cell_type": "markdown",
   "metadata": {},
   "source": [
    "### Try reprojecting CHIRPS\n",
    "\n",
    "Issue with `.geobox` expecting lat/lon as coords rather than xy, will be fixed in `ODC1.8.1`"
   ]
  },
  {
   "cell_type": "code",
   "execution_count": null,
   "metadata": {},
   "outputs": [],
   "source": [
    "!pip install -U --no-deps --extra-index-url=\"https://packages.dea.ga.gov.au\" odc-algo"
   ]
  },
  {
   "cell_type": "code",
   "execution_count": null,
   "metadata": {},
   "outputs": [],
   "source": [
    "from odc.algo import xr_reproject\n",
    "from datacube.utils.geometry import assign_crs\n",
    "import xarray as xr\n",
    "import datacube\n",
    "import sys\n",
    "sys.path.append('../Scripts')\n",
    "from deafrica_datahandling import load_ard"
   ]
  },
  {
   "cell_type": "code",
   "execution_count": null,
   "metadata": {},
   "outputs": [],
   "source": [
    "dc = datacube.Datacube(app='Vegetation_phenology')\n",
    "\n",
    "# Define area of interest\n",
    "lat = 22.817\n",
    "lon = 28.518\n",
    "lon_buffer = 1.0 #0.0175\n",
    "lat_buffer = 1.0 #0.004\n",
    "\n",
    "# Combine central lat,lon with buffer to get area of interest\n",
    "lat_range = (lat-lat_buffer, lat+lat_buffer)\n",
    "lon_range = (lon-lon_buffer, lon+lon_buffer)\n",
    "\n",
    "# Set the range of dates for the analysis\n",
    "years_range = ('2018')"
   ]
  },
  {
   "cell_type": "code",
   "execution_count": null,
   "metadata": {},
   "outputs": [],
   "source": [
    "# Create a reusable query\n",
    "query = {\n",
    "    'y': lat_range,\n",
    "    'x': lon_range,\n",
    "    'time': years_range,\n",
    "    'measurements': ['red', 'green', 'blue', 'nir'],\n",
    "    'resolution': (-30,30),\n",
    "    'output_crs': 'epsg:6933'\n",
    "}\n",
    "\n",
    "# Load available data from Landsat 8\n",
    "ds = dc.load(product='ga_ls8c_gm_2_annual',\n",
    "              **query,\n",
    "              )\n",
    "\n",
    "print(ds)"
   ]
  },
  {
   "cell_type": "code",
   "execution_count": null,
   "metadata": {},
   "outputs": [],
   "source": [
    "chirps = xr.open_rasterio('data/CHIRPS/CHPclim.01.tif')"
   ]
  },
  {
   "cell_type": "code",
   "execution_count": null,
   "metadata": {},
   "outputs": [],
   "source": [
    "chrips_30m = xr_reproject(chirps,\n",
    "                 ds.geobox,\n",
    "                 \"mode\",\n",
    "                    )"
   ]
  },
  {
   "cell_type": "markdown",
   "metadata": {},
   "source": [
    "## Calculate Slope on SRTM\n",
    "\n",
    "    !pip install richdem"
   ]
  },
  {
   "cell_type": "code",
   "execution_count": null,
   "metadata": {},
   "outputs": [],
   "source": [
    "import os\n",
    "import datacube\n",
    "import numpy as np\n",
    "import matplotlib\n",
    "import matplotlib.pyplot as plt\n",
    "import richdem as rd\n",
    "import pyproj\n",
    "import xarray as xr\n"
   ]
  },
  {
   "cell_type": "code",
   "execution_count": null,
   "metadata": {},
   "outputs": [],
   "source": [
    "lat, lon = -3.064, 37.359\n",
    "buffer = 0.1\n",
    "\n",
    "query = {\n",
    "    'x': (lon-buffer, lon+buffer),\n",
    "    'y': (lat+buffer, lat-buffer),\n",
    "    'output_crs': 'EPSG:6933',\n",
    "    'resolution': (-30, 30)\n",
    "}\n",
    "\n",
    "dc = datacube.Datacube(app='slope')\n",
    "\n",
    "#load data\n",
    "da = dc.load(product ='srtm', **query)\n",
    "da = da.elevation"
   ]
  },
  {
   "cell_type": "code",
   "execution_count": null,
   "metadata": {},
   "outputs": [],
   "source": [
    "def xr_terrain(da, attribute=None):\n",
    "    \"\"\"\n",
    "    Using the richdem package, calculates terrain attributes\n",
    "    on a DEM stored in memory as an xarray.DataArray \n",
    "    \n",
    "    Params\n",
    "    -------\n",
    "    da : xr.DataArray\n",
    "    attribute : str\n",
    "        One of the terrain attributes that richdem.TerrainAttribute()\n",
    "        has implemented. e.g. 'slope_riserun', 'slope_percentage', 'aspect'.\n",
    "        See all option here:  \n",
    "        https://richdem.readthedocs.io/en/latest/python_api.html#richdem.TerrainAttribute\n",
    "        \n",
    "    \"\"\"\n",
    "    #remove time if its there\n",
    "    da = da.squeeze()\n",
    "    #convert to richdem array\n",
    "    rda = rd.rdarray(da.data, no_data=da.attrs['nodata'])\n",
    "    #add projection and geotransform\n",
    "    rda.projection=pyproj.crs.CRS(da.attrs['crs']).to_wkt()\n",
    "    rda.geotransform = da.geobox.affine.to_gdal()\n",
    "    #calulate attribute\n",
    "    attrs = rd.TerrainAttribute(rda, attrib=attribute)\n",
    "\n",
    "    #return as xarray DataArray\n",
    "    return xr.DataArray(attrs,\n",
    "                        attrs=da.attrs,\n",
    "                        coords={'x':da.x, 'y':da.y},\n",
    "                        dims=['y', 'x'])"
   ]
  },
  {
   "cell_type": "code",
   "execution_count": null,
   "metadata": {},
   "outputs": [],
   "source": [
    "%%time\n",
    "slope = xr_terrain(da, 'slope_riserun')"
   ]
  },
  {
   "cell_type": "code",
   "execution_count": null,
   "metadata": {},
   "outputs": [],
   "source": [
    "slope.plot(cmap='magma', figsize=(8,8), robust=True);"
   ]
  },
  {
   "cell_type": "code",
   "execution_count": null,
   "metadata": {},
   "outputs": [],
   "source": []
  }
 ],
 "metadata": {
  "kernelspec": {
   "display_name": "Python 3",
   "language": "python",
   "name": "python3"
  },
  "language_info": {
   "codemirror_mode": {
    "name": "ipython",
    "version": 3
   },
   "file_extension": ".py",
   "mimetype": "text/x-python",
   "name": "python",
   "nbconvert_exporter": "python",
   "pygments_lexer": "ipython3",
   "version": "3.6.9"
  }
 },
 "nbformat": 4,
 "nbformat_minor": 4
}
