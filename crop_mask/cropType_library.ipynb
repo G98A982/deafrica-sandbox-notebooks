{
 "cells": [
  {
   "cell_type": "markdown",
   "metadata": {},
   "source": [
    "# Crop-type image library\n",
    "\n",
    "Using example locations of crop types in different regions of Africa, create example images and NDVI timeseries to assist in the training and validation data collections\n",
    "\n",
    "Image library is here: https://docs.google.com/document/d/1lLOYIM12_E09kC6l0ezUzBngYFTC7DDEIftAZzmvn2M/edit?usp=sharing"
   ]
  },
  {
   "cell_type": "code",
   "execution_count": 1,
   "metadata": {},
   "outputs": [
    {
     "name": "stderr",
     "output_type": "stream",
     "text": [
      "/env/lib/python3.6/site-packages/datacube/storage/masking.py:4: DeprecationWarning: datacube.storage.masking has moved to datacube.utils.masking\n",
      "  category=DeprecationWarning)\n"
     ]
    }
   ],
   "source": [
    "import geopandas as gpd\n",
    "import datacube\n",
    "import numpy as np\n",
    "import sys\n",
    "import xarray as xr\n",
    "from datacube.utils import geometry\n",
    "import matplotlib.pyplot as plt \n",
    "sys.path.append('../Scripts')\n",
    "from deafrica_datahandling import load_ard\n",
    "from deafrica_bandindices import calculate_indices\n",
    "from deafrica_plotting import rgb, map_shapefile\n",
    "from deafrica_spatialtools import xr_rasterize\n",
    "from deafrica_classificationtools import HiddenPrints"
   ]
  },
  {
   "cell_type": "code",
   "execution_count": 2,
   "metadata": {},
   "outputs": [],
   "source": [
    "dc = datacube.Datacube(app='image_lib')"
   ]
  },
  {
   "cell_type": "markdown",
   "metadata": {},
   "source": [
    "## Analysis Parameters"
   ]
  },
  {
   "cell_type": "code",
   "execution_count": 3,
   "metadata": {},
   "outputs": [],
   "source": [
    "shp_file= 'data/crop_type_library/western/Soyabean.geojson'\n",
    "product = 's2_l2a'#'usgs_ls8c_level2_2'# 'ls8_usgs_sr_scene'\n",
    "time_ndvi = ('2018-06', '2019-12')\n",
    "time_rgb = ('2019')"
   ]
  },
  {
   "cell_type": "markdown",
   "metadata": {},
   "source": [
    "## Open file and check extents"
   ]
  },
  {
   "cell_type": "code",
   "execution_count": 4,
   "metadata": {},
   "outputs": [],
   "source": [
    "gdf = gpd.read_file(shp_file).to_crs('epsg:4326')"
   ]
  },
  {
   "cell_type": "code",
   "execution_count": 5,
   "metadata": {},
   "outputs": [
    {
     "data": {
      "application/vnd.jupyter.widget-view+json": {
       "model_id": "960c1e65def646e6ac2a01793450de49",
       "version_major": 2,
       "version_minor": 0
      },
      "text/plain": [
       "Label(value='')"
      ]
     },
     "metadata": {},
     "output_type": "display_data"
    },
    {
     "data": {
      "application/vnd.jupyter.widget-view+json": {
       "model_id": "ac97bdc61909422cbfda6699ee071b1e",
       "version_major": 2,
       "version_minor": 0
      },
      "text/plain": [
       "Map(center=[10.282540971241154, -0.16601135080000348], controls=(ZoomControl(options=['position', 'zoom_in_tex…"
      ]
     },
     "metadata": {},
     "output_type": "display_data"
    }
   ],
   "source": [
    "map_shapefile(gdf, attribute='Name', hover_col='Name')"
   ]
  },
  {
   "cell_type": "markdown",
   "metadata": {},
   "source": [
    "## Extract RGB and NDVI time-series"
   ]
  },
  {
   "cell_type": "code",
   "execution_count": 6,
   "metadata": {},
   "outputs": [
    {
     "name": "stdout",
     "output_type": "stream",
     "text": [
      "Soyabean1\n",
      "Soyabean2\n",
      "Soyabean\n",
      "Soyabean\n"
     ]
    }
   ],
   "source": [
    "ndvi_dict = {}\n",
    "rgb_dict = {}\n",
    "for index, row in gdf.iterrows():\n",
    "    name=gdf.iloc[[index]].Name.values[0]\n",
    "    print(name)\n",
    "    geom = geometry.Geometry(\n",
    "            gdf.geometry.values[index].__geo_interface__, geometry.CRS(\n",
    "                    'epsg:4326'))\n",
    "    query_ndvi = {\n",
    "        \"geopolygon\": geom,\n",
    "        'time': time_ndvi,\n",
    "        'measurements': ['red',\n",
    "                         'nir'],\n",
    "        'resolution': (-10, 10),\n",
    "        'group_by': 'solar_day',\n",
    "        'output_crs':'EPSG:6933'\n",
    "    }\n",
    "\n",
    "    # load cloud-masked fractional cover using load_ard\n",
    "    with HiddenPrints():\n",
    "        ds = load_ard(dc=dc,\n",
    "                  **query_ndvi,\n",
    "                  products=[product], \n",
    "                  min_gooddata=0.75\n",
    "                 )\n",
    "    \n",
    "    with HiddenPrints():\n",
    "        mask = xr_rasterize(gdf.iloc[[index]], ds)\n",
    "    \n",
    "    ds = ds.where(mask)\n",
    "    ds = calculate_indices(ds, 'NDVI', collection='c1')\n",
    "    ds_index = ds.mean(['x','y'])\n",
    "    ds_index = ds_index.interpolate_na(dim=\"time\", method=\"linear\")\n",
    "    ds_index = ds_index.resample(time=\"1M\").median()\n",
    "    ndvi_dict[name] = ds_index\n",
    "    \n",
    "#     query_rgb = {\n",
    "#         \"geopolygon\": geom,\n",
    "#         'time': time_rgb,\n",
    "#         'measurements': ['green',\n",
    "#                          'blue',\n",
    "#                          'red'],\n",
    "#         'resolution': (-10, 10),\n",
    "#         'group_by': 'solar_day',\n",
    "#         'output_crs':'EPSG:6933'\n",
    "#     }\n",
    "    \n",
    "#     # load cloud-masked fractional cover using load_ard\n",
    "#     with HiddenPrints():\n",
    "#         ds = load_ard(dc=dc,\n",
    "#                   **query_rgb,\n",
    "#                   products=[product],\n",
    "#                   min_gooddata=1.0\n",
    "#                  )\n",
    "    \n",
    "#     with HiddenPrints():\n",
    "#         mask = xr_rasterize(gdf.iloc[[index]], ds)\n",
    "    \n",
    "#     ds = ds.where(mask)\n",
    "    \n",
    "#     rgb_dict[name]=ds"
   ]
  },
  {
   "cell_type": "code",
   "execution_count": 15,
   "metadata": {},
   "outputs": [],
   "source": [
    "key = 'Soyabean1'"
   ]
  },
  {
   "cell_type": "code",
   "execution_count": 16,
   "metadata": {},
   "outputs": [
    {
     "data": {
      "text/plain": [
       "Text(0.5, 1.0, 'Soyabean s2_l2a')"
      ]
     },
     "execution_count": 16,
     "metadata": {},
     "output_type": "execute_result"
    },
    {
     "data": {
      "image/png": "[encoded data removed]",
      "text/plain": [
       "<Figure size 792x360 with 1 Axes>"
      ]
     },
     "metadata": {
      "needs_background": "light"
     },
     "output_type": "display_data"
    }
   ],
   "source": [
    "ndvi_dict[key].NDVI.plot.line('b--', figsize=(11,5))\n",
    "plt.ylim(0,0.9)\n",
    "plt.title(key[0:-1] +\" \"+ product)"
   ]
  },
  {
   "cell_type": "code",
   "execution_count": 17,
   "metadata": {},
   "outputs": [],
   "source": [
    "# rgb(rgb_dict[key], index=list(range(0,len(rgb_dict[key].time))))"
   ]
  },
  {
   "cell_type": "code",
   "execution_count": null,
   "metadata": {},
   "outputs": [],
   "source": []
  }
 ],
 "metadata": {
  "kernelspec": {
   "display_name": "Python 3",
   "language": "python",
   "name": "python3"
  },
  "language_info": {
   "codemirror_mode": {
    "name": "ipython",
    "version": 3
   },
   "file_extension": ".py",
   "mimetype": "text/x-python",
   "name": "python",
   "nbconvert_exporter": "python",
   "pygments_lexer": "ipython3",
   "version": "3.6.9"
  }
 },
 "nbformat": 4,
 "nbformat_minor": 4
}
