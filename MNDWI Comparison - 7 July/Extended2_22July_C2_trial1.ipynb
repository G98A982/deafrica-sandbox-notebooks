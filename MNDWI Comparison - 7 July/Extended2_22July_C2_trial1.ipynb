{
 "cells": [
  {
   "cell_type": "markdown",
   "metadata": {},
   "source": [
    "# Level 1 vs Level 2 Landsat Satellite Data:\n",
    "\n",
    "## A comparison using Modified Normalised Difference Water Index (MNDWI)\n",
    "\n",
    "* **Products used:** \n",
    "[ls8_usgs_sr_scene](https://explorer.digitalearth.africa/ls8_usgs_sr_scene), [ls_usgs_wofs_scene](https://explorer.digitalearth.africa/ls_usgs_wofs_scene)\n",
    "* **Level 1 data retrived from:**\n",
    "[Landsat 8 Level 1 data](https://registry.opendata.aws/landsat-8/) (last accessed 10 July 2020)"
   ]
  },
  {
   "cell_type": "markdown",
   "metadata": {},
   "source": [
    "## Background\n",
    "\n",
    "### Analysis-Ready Data (ARD): the difference between Level 1 and Level 2 data\n",
    "\n",
    "Satellite operators, such as the USGS, perform pre-processing on raw satellite data before releasing it for use. The amount of pre-processing differs between products. The USGS taxonomy for the these differing amounts of pre-processing is ordered by `Collections` and `Levels`.\n",
    "\n",
    "`Collections` indicate the data meets a standardised set of metrics for quality and type of pre-processing. This is consistent within the collection, but varies between collections. For example, Collection 2 uses more advanced data processing than Collection 1. At time of writing, only Collection 1 is available for general use.\n",
    "\n",
    "`Levels` indicate the amount of pre-processing. Higher-level data has undergone more pre-processing.\n",
    "\n",
    "The data we examine in this notebook is from the `USGS Collection 1` archive for the satellite `Landsat 8`. We look at both `Level 1` and `Level 2` data.\n",
    "\n",
    "* **Collection 1, Level 1 data** : Level 1 data is very close to its raw format, it can be flexibly manipulated by the scientific community, but requires specialist knowledge to use. Atmospheric interference and other underlying satellite data issues are not corrected for.\n",
    "\n",
    "* **Collection 1, Level 2 data**: The accessibility of available satellite data can be significantly increased by further processing the Level 1 data, such as by applying atmospheric corrections. Level 2 data is hosted on DE Africa's `OpenDataCube`, and is known as `Analysis-Ready Data (ARD)`. The corrections improve the overall quality of the data (compared to the Level 1 data) and allow users to conduct analysis independent of expertise in the data corrections process. The terms `ARD` and `Level 2 data` will be used interchangeably in this notebook."
   ]
  },
  {
   "cell_type": "markdown",
   "metadata": {},
   "source": [
    "### Modified Normalised Difference Water Index (MNDWI)\n",
    "\n",
    "MNDWI is a variation on the Normalised Difference Water Index (NDWI). NDWI is used to detect the presence of water bodies in remote sensing, and is calculated using the Green band and Near-Infrared (NIR) bands from satellite data.\n",
    "\n",
    "\\begin{equation} \\text{NDWI} \\ = \\ \\frac{\\text{Green} - \\text{NIR}}{\\text{Green} + \\text{NIR}} \\end{equation}\n",
    "\n",
    "However, it has been shown that using a Short-Range Infrared (SWIR) band instead of NIR provides enhanced delineation between water and other types of areas (soil, vegetation, built-up land). This gives the Modified NDWI, or MNDWI.\n",
    "\n",
    "\\begin{equation} \\text{MNDWI} \\ = \\ \\frac{\\text{Green} - \\text{SWIR}}{\\text{Green} + \\text{SWIR}} \\end{equation}\n",
    "\n",
    "In the case of Landsat 8 satellite data, which has two SWIR bands, SWIR 1 is used. The indices are normalised, which means their values range from -1 to 1. Generally, this can be interpreted as:\n",
    "\n",
    "* MNDWI $> 0$ : water\n",
    "* MNDWI $\\leq 0$ : soil, vegetation, urban areas"
   ]
  },
  {
   "cell_type": "markdown",
   "metadata": {},
   "source": [
    "## Description\n",
    "\n",
    "This notebook will show how ARD (Level 2) data differs from the less pre-processed Level 1 data. This is done by calculating MNDWI using Level 1 data and Level 2 data from Landsat 8, for the same region. Differences in the MDNWI between the datasets demonstrate the enhanced usability of ARD over Level 1 data.\n",
    "\n",
    "The notebook contains the following steps:\n",
    "1. Fulfill prerequisites: select a location for analysis and download Level 1 data.\n",
    "2. Load Level 1 data for the location.\n",
    "3. Load Level 2 data for the location.\n",
    "4. Calculate MNDWI for the Level 1 data.\n",
    "5. Calculate MNDWI for the Level 2 data.\n",
    "6. Compare the Level 1 and Level 2 data by plotting them together. The analysis includes:\n",
    "    * A close-up, small region comparison of MNDWI\n",
    "    * Thresholding MNDWI at 0 to show noise in Level 1 data\n",
    "    * Calculation of a suitable threshold for the Level 1 dataset\n",
    "    * Using optimised thresholds for MNDWI to calculate and compare waterlines\n",
    "    * Comparison of MNDWI at different timesteps to show successful cloud reduction in Level 2 data\n",
    "7. Conclusions and acknowledgements\n",
    "\n",
    "*****"
   ]
  },
  {
   "cell_type": "markdown",
   "metadata": {},
   "source": [
    "## Getting Started\n",
    "To run this analysis, ensure the prerequesites are fulfilled, then run all the cells in the notebook, starting with the \"Load packages\" cell. "
   ]
  },
  {
   "cell_type": "markdown",
   "metadata": {},
   "source": [
    "### Prerequisites\n",
    "\n",
    "The Digital Earth Africa (DE Africa) sandbox does not index Landsat 8 Level 1 data. This means Level 1 data must be manually downloaded from the USGS website before it can be imported into the notebook. A time and place for analysis must be decided.\n",
    "\n",
    "* Choosing location\n",
    "\n",
    "For the purposes of this notebook, a mix of water and land areas is desireable. An area off the coast of Guinea-Bissau has been selected. This is centred around the following coordinates:\n",
    "\n",
    "`lat = 11.228`<br>\n",
    "`lon = -15.860`\n",
    "\n",
    "* Choosing time\n",
    "\n",
    "Here, MNDWI is calculated for a single instance in time. The period of time chosen for this notebook was `January 2018`. Fortuitously, there is only one \"scene\" (satellite flyover) for the chosen location during the month of January 2018. If there were multiple flyovers, only one would have been selected.\n",
    "\n",
    "* Downloading Level 1 data\n",
    "\n",
    "*Note: this requires an active Amazon Web Services (AWS) account.*\n",
    "\n",
    "The time and place can now be searched on the [DE Africa Metadata Explorer](https://explorer.digitalearth.africa/ls8_usgs_sr_scene). If not preselected, the selected product should be `ls8_usgs_sr_scene`. Use the `Year` and `Month` dropdowns to select `2018` and `January` as appropriate.\n",
    "\n",
    "By browsing the `Day` dropdown, the only scene encapsulating the Bissau coast is `9 January 2018`. Click `11 datasets available` on the right-hand toolbar to open details of each scene taken on that day. The datasets are separated by location; the Bissau coast is the last dataset: [13b9c5f0-65f0-5d2e-8473-5bbfc92a9673](https://explorer.digitalearth.africa/dataset/13b9c5f0-65f0-5d2e-8473-5bbfc92a9673). Note this code; it is the `Scene ID` and will be needed later for datacube imports. Note the `Locations > Active:` field as it shows the naming convention for this scene.\n",
    "\n",
    "Navigate to the [USGS Landsat 8 registry](https://registry.opendata.aws/landsat-8/) and access their AWS S3 Bucket. The file naming convention is the same as the `Locations > Active` field in the DE Africa Explorer; i.e. look for a folder starting with `LC08_L1TP_204052_20180109_20180119_01_T1`. \n",
    "\n",
    "The folder for this scene will contain many files. Download the Band 3 `_B3` and Band 6 `_B6` `.tiff` files locally and upload them to the same Jupyterlab folder as this notebook. This can be done by clicking the `Upload files` button on the horizontal toolbar options in the sandbox File Browser.\n"
   ]
  },
  {
   "cell_type": "markdown",
   "metadata": {},
   "source": [
    "### Load packages\n",
    "Import Python packages that are used for the analysis."
   ]
  },
  {
   "cell_type": "code",
   "execution_count": 1,
   "metadata": {},
   "outputs": [
    {
     "name": "stderr",
     "output_type": "stream",
     "text": [
      "/env/lib/python3.6/site-packages/ipykernel_launcher.py:16: UserWarning: Viewer requires Qt\n",
      "  app.launch_new_instance()\n"
     ]
    }
   ],
   "source": [
    "%matplotlib inline\n",
    "\n",
    "import datacube\n",
    "from datacube.testutils import io\n",
    "from datacube.utils import masking\n",
    "import sys\n",
    "import matplotlib.pyplot as plt\n",
    "import matplotlib.patches as patches\n",
    "import matplotlib as mpl\n",
    "import xarray as xr\n",
    "import numpy as np\n",
    "import seaborn as sns\n",
    "import skimage.color\n",
    "import skimage.filters\n",
    "import skimage.io\n",
    "import skimage.viewer\n",
    "\n",
    "sys.path.append(\"../Scripts\")\n",
    "from deafrica_bandindices import calculate_indices\n",
    "from deafrica_plotting import rgb\n",
    "from deafrica_plotting import display_map\n",
    "from deafrica_spatialtools import subpixel_contours\n",
    "from deafrica_datahandling import wofs_fuser, mostcommon_crs"
   ]
  },
  {
   "cell_type": "markdown",
   "metadata": {},
   "source": [
    "### Connect to the datacube\n",
    "Connect to the datacube so we can access DE Africa data. The `app` parameter is a unique name for the analysis which is based on the notebook file name."
   ]
  },
  {
   "cell_type": "code",
   "execution_count": 2,
   "metadata": {},
   "outputs": [],
   "source": [
    "dc = datacube.Datacube(app=\"L1_L2_MNDWI_Comparison_C2\")"
   ]
  },
  {
   "cell_type": "markdown",
   "metadata": {},
   "source": [
    "## Load required datasets"
   ]
  },
  {
   "cell_type": "markdown",
   "metadata": {},
   "source": [
    "### Load Level 1 data - from file\n",
    "The file suffix `B3` indicates Band 3, the Landsat 8 Green band. Likewise, `B6` is Band 6, the Landsat 8 SWIR 1 band. The `.tiff` files uploaded to the sandbox can be imported as `xarray.DataArray()`, and then combined into an `xarray.Dataset()`."
   ]
  },
  {
   "cell_type": "code",
   "execution_count": 3,
   "metadata": {},
   "outputs": [],
   "source": [
    "l1_green = io.rio_slurp_xarray('LC08_L1TP_204052_20180109_20180119_01_T1_B3.tiff')\n",
    "l1_swir1 =  io.rio_slurp_xarray('LC08_L1TP_204052_20180109_20180119_01_T1_B6.tiff')"
   ]
  },
  {
   "cell_type": "code",
   "execution_count": 4,
   "metadata": {},
   "outputs": [
    {
     "name": "stdout",
     "output_type": "stream",
     "text": [
      "<xarray.Dataset>\n",
      "Dimensions:      (x: 7601, y: 7761)\n",
      "Coordinates:\n",
      "  * y            (y) float64 1.395e+06 1.395e+06 ... 1.162e+06 1.162e+06\n",
      "  * x            (x) float64 3.039e+05 3.039e+05 ... 5.319e+05 5.319e+05\n",
      "    spatial_ref  int32 32628\n",
      "Data variables:\n",
      "    green        (y, x) float64 nan nan nan nan nan nan ... nan nan nan nan nan\n",
      "    swir1        (y, x) float64 nan nan nan nan nan nan ... nan nan nan nan nan\n"
     ]
    }
   ],
   "source": [
    "# Create a Dataset named 'l1_data' and add to it the DataArrays 'green' and 'swir1'.\n",
    "l1_data = l1_green.to_dataset(name = 'green')\n",
    "l1_data['swir1'] = l1_swir1\n",
    "\n",
    "# Make no-data value NaNs\n",
    "l1_data = l1_data.where(l1_data!=0)\n",
    "\n",
    "print(l1_data)"
   ]
  },
  {
   "cell_type": "markdown",
   "metadata": {},
   "source": [
    "### Load Level 2 data - from datacube\n",
    "\n",
    "To match the Level 1 data, we want to import the same scene from the Level 2 data hosted in the datacube. This can be done by specifying the exact scene using the `Scene ID` field from the DE Africa Metadata Explorer. See the *Prerequisites* section above. This fills the `'id'` field in the query.\n",
    "\n",
    "The datacube contains measurements from all eleven bands of Landsat 8. We do not need them all! Calculating MNDWI requires only the Green band and SWIR 1 band, while true-colour plots used later require the Green, Red and Blue bands. We can specify the query to load these four bands only, by listing them under `'measurements'`. "
   ]
  },
  {
   "cell_type": "code",
   "execution_count": 5,
   "metadata": {},
   "outputs": [
    {
     "name": "stdout",
     "output_type": "stream",
     "text": [
      "<xarray.Dataset>\n",
      "Dimensions:  ()\n",
      "Data variables:\n",
      "    *empty*\n"
     ]
    }
   ],
   "source": [
    "# Create query\n",
    "query = {\n",
    "    'product':'usgs_ls8c_level2_2',\n",
    "    'id':'13b9c5f0-65f0-5d2e-8473-5bbfc92a9673',\n",
    "    'measurements': ['green','swir1', 'red', 'blue'],\n",
    "    'resolution':(-30,30),\n",
    "    'align':(15,15),\n",
    "    'output_crs':l1_data.geobox.crs\n",
    "}\n",
    "\n",
    "# Load dataset\n",
    "l2_data = dc.load(**query).squeeze()\n",
    "\n",
    "# Make no-data values NaNs\n",
    "l2_data = l2_data.where(l2_data!=-9999)\n",
    "\n",
    "print(l2_data)"
   ]
  },
  {
   "cell_type": "markdown",
   "metadata": {},
   "source": [
    "## Calculate MNDWI\n",
    "\n",
    "MNDWI can be calculated using the pre-loaded `calculate_indices` function. It can alternatively be defined by the user - an example is shown below. In either case, `MNDWI` is added as a `Data variable` to the `DataSet` it is calculated for."
   ]
  },
  {
   "cell_type": "markdown",
   "metadata": {},
   "source": [
    "### Example: define your own MNDWI calculation\n",
    "Future calls for `calculate_indices()` can be replaced with `calculate_mndwi(lx_data)`, where `x = 1` or `2`, corresponding to the names of the Level 1 and Level 2 datasets."
   ]
  },
  {
   "cell_type": "code",
   "execution_count": 6,
   "metadata": {},
   "outputs": [],
   "source": [
    "def calculate_mndwi(ds):\n",
    "    ds['MNDWI'] = (ds.green - ds.swir1)/(ds.green + ds.swir1)\n",
    "    return(ds)"
   ]
  },
  {
   "cell_type": "markdown",
   "metadata": {},
   "source": [
    "The cells below use the standard DE Africa `calculate_indices` function, which require a few extra parameters. `index` defines the index to be calculated (in our case, MNDWI) and `c1` refers to Collection 1 of the DE Africa datacube products. "
   ]
  },
  {
   "cell_type": "markdown",
   "metadata": {},
   "source": [
    "### Level 1 MNDWI"
   ]
  },
  {
   "cell_type": "code",
   "execution_count": 7,
   "metadata": {},
   "outputs": [
    {
     "name": "stdout",
     "output_type": "stream",
     "text": [
      "<xarray.Dataset>\n",
      "Dimensions:      (x: 7601, y: 7761)\n",
      "Coordinates:\n",
      "  * y            (y) float64 1.395e+06 1.395e+06 ... 1.162e+06 1.162e+06\n",
      "  * x            (x) float64 3.039e+05 3.039e+05 ... 5.319e+05 5.319e+05\n",
      "    spatial_ref  int32 32628\n",
      "Data variables:\n",
      "    green        (y, x) float64 nan nan nan nan nan nan ... nan nan nan nan nan\n",
      "    swir1        (y, x) float64 nan nan nan nan nan nan ... nan nan nan nan nan\n",
      "    MNDWI        (y, x) float64 nan nan nan nan nan nan ... nan nan nan nan nan\n"
     ]
    }
   ],
   "source": [
    "l1_data = calculate_indices(l1_data, index = 'MNDWI', collection = 'c1') \n",
    "\n",
    "print(l1_data)"
   ]
  },
  {
   "cell_type": "markdown",
   "metadata": {},
   "source": [
    "### Level 2 MNDWI"
   ]
  },
  {
   "cell_type": "code",
   "execution_count": 8,
   "metadata": {},
   "outputs": [
    {
     "ename": "ValueError",
     "evalue": "Please verify that all bands required to compute MNDWI are present in `ds`. \nThese bands may vary depending on the `collection` (e.g. the USGS Collection 1 `swir1` band \nis equivelent to `swir_1` for Collection 2)",
     "output_type": "error",
     "traceback": [
      "\u001b[0;31m---------------------------------------------------------------------------\u001b[0m",
      "\u001b[0;31mAttributeError\u001b[0m                            Traceback (most recent call last)",
      "\u001b[0;32m~/dev/fork/deafrica-sandbox-notebooks/Scripts/deafrica_bandindices.py\u001b[0m in \u001b[0;36mcalculate_indices\u001b[0;34m(ds, index, collection, custom_varname, normalise, drop, deep_copy)\u001b[0m\n\u001b[1;32m    339\u001b[0m             \u001b[0mmult\u001b[0m \u001b[0;34m=\u001b[0m \u001b[0;36m10000.0\u001b[0m \u001b[0;32mif\u001b[0m \u001b[0mnormalise\u001b[0m \u001b[0;32melse\u001b[0m \u001b[0;36m1.0\u001b[0m\u001b[0;34m\u001b[0m\u001b[0;34m\u001b[0m\u001b[0m\n\u001b[0;32m--> 340\u001b[0;31m             \u001b[0mindex_array\u001b[0m \u001b[0;34m=\u001b[0m \u001b[0mindex_func\u001b[0m\u001b[0;34m(\u001b[0m\u001b[0mds\u001b[0m\u001b[0;34m.\u001b[0m\u001b[0mrename\u001b[0m\u001b[0;34m(\u001b[0m\u001b[0mbands_to_rename\u001b[0m\u001b[0;34m)\u001b[0m \u001b[0;34m/\u001b[0m \u001b[0mmult\u001b[0m\u001b[0;34m)\u001b[0m\u001b[0;34m\u001b[0m\u001b[0;34m\u001b[0m\u001b[0m\n\u001b[0m\u001b[1;32m    341\u001b[0m \u001b[0;34m\u001b[0m\u001b[0m\n",
      "\u001b[0;32m~/dev/fork/deafrica-sandbox-notebooks/Scripts/deafrica_bandindices.py\u001b[0m in \u001b[0;36m<lambda>\u001b[0;34m(ds)\u001b[0m\n\u001b[1;32m    180\u001b[0m                   \u001b[0;31m# Modified Normalised Difference Water Index, Xu 2006\u001b[0m\u001b[0;34m\u001b[0m\u001b[0;34m\u001b[0m\u001b[0;34m\u001b[0m\u001b[0m\n\u001b[0;32m--> 181\u001b[0;31m                   \u001b[0;34m'MNDWI'\u001b[0m\u001b[0;34m:\u001b[0m \u001b[0;32mlambda\u001b[0m \u001b[0mds\u001b[0m\u001b[0;34m:\u001b[0m \u001b[0;34m(\u001b[0m\u001b[0mds\u001b[0m\u001b[0;34m.\u001b[0m\u001b[0mgreen\u001b[0m \u001b[0;34m-\u001b[0m \u001b[0mds\u001b[0m\u001b[0;34m.\u001b[0m\u001b[0mswir_1\u001b[0m\u001b[0;34m)\u001b[0m \u001b[0;34m/\u001b[0m\u001b[0;34m\u001b[0m\u001b[0;34m\u001b[0m\u001b[0m\n\u001b[0m\u001b[1;32m    182\u001b[0m                                       \u001b[0;34m(\u001b[0m\u001b[0mds\u001b[0m\u001b[0;34m.\u001b[0m\u001b[0mgreen\u001b[0m \u001b[0;34m+\u001b[0m \u001b[0mds\u001b[0m\u001b[0;34m.\u001b[0m\u001b[0mswir_1\u001b[0m\u001b[0;34m)\u001b[0m\u001b[0;34m,\u001b[0m\u001b[0;34m\u001b[0m\u001b[0;34m\u001b[0m\u001b[0m\n",
      "\u001b[0;32m/env/lib/python3.6/site-packages/xarray/core/common.py\u001b[0m in \u001b[0;36m__getattr__\u001b[0;34m(self, name)\u001b[0m\n\u001b[1;32m    232\u001b[0m         raise AttributeError(\n\u001b[0;32m--> 233\u001b[0;31m             \u001b[0;34m\"{!r} object has no attribute {!r}\"\u001b[0m\u001b[0;34m.\u001b[0m\u001b[0mformat\u001b[0m\u001b[0;34m(\u001b[0m\u001b[0mtype\u001b[0m\u001b[0;34m(\u001b[0m\u001b[0mself\u001b[0m\u001b[0;34m)\u001b[0m\u001b[0;34m.\u001b[0m\u001b[0m__name__\u001b[0m\u001b[0;34m,\u001b[0m \u001b[0mname\u001b[0m\u001b[0;34m)\u001b[0m\u001b[0;34m\u001b[0m\u001b[0;34m\u001b[0m\u001b[0m\n\u001b[0m\u001b[1;32m    234\u001b[0m         )\n",
      "\u001b[0;31mAttributeError\u001b[0m: 'Dataset' object has no attribute 'green'",
      "\nDuring handling of the above exception, another exception occurred:\n",
      "\u001b[0;31mValueError\u001b[0m                                Traceback (most recent call last)",
      "\u001b[0;32m<ipython-input-8-6cef8f6dd9c0>\u001b[0m in \u001b[0;36m<module>\u001b[0;34m\u001b[0m\n\u001b[0;32m----> 1\u001b[0;31m \u001b[0ml2_data\u001b[0m \u001b[0;34m=\u001b[0m \u001b[0mcalculate_indices\u001b[0m\u001b[0;34m(\u001b[0m\u001b[0ml2_data\u001b[0m\u001b[0;34m,\u001b[0m \u001b[0mindex\u001b[0m \u001b[0;34m=\u001b[0m \u001b[0;34m'MNDWI'\u001b[0m\u001b[0;34m,\u001b[0m \u001b[0mcollection\u001b[0m \u001b[0;34m=\u001b[0m \u001b[0;34m'c1'\u001b[0m\u001b[0;34m)\u001b[0m\u001b[0;34m\u001b[0m\u001b[0;34m\u001b[0m\u001b[0m\n\u001b[0m\u001b[1;32m      2\u001b[0m \u001b[0;34m\u001b[0m\u001b[0m\n\u001b[1;32m      3\u001b[0m \u001b[0mprint\u001b[0m\u001b[0;34m(\u001b[0m\u001b[0ml2_data\u001b[0m\u001b[0;34m)\u001b[0m\u001b[0;34m\u001b[0m\u001b[0;34m\u001b[0m\u001b[0m\n",
      "\u001b[0;32m~/dev/fork/deafrica-sandbox-notebooks/Scripts/deafrica_bandindices.py\u001b[0m in \u001b[0;36mcalculate_indices\u001b[0;34m(ds, index, collection, custom_varname, normalise, drop, deep_copy)\u001b[0m\n\u001b[1;32m    341\u001b[0m \u001b[0;34m\u001b[0m\u001b[0m\n\u001b[1;32m    342\u001b[0m         \u001b[0;32mexcept\u001b[0m \u001b[0mAttributeError\u001b[0m\u001b[0;34m:\u001b[0m\u001b[0;34m\u001b[0m\u001b[0;34m\u001b[0m\u001b[0m\n\u001b[0;32m--> 343\u001b[0;31m             raise ValueError(f'Please verify that all bands required to '\n\u001b[0m\u001b[1;32m    344\u001b[0m                              \u001b[0;34mf'compute {index} are present in `ds`. \\n'\u001b[0m\u001b[0;34m\u001b[0m\u001b[0;34m\u001b[0m\u001b[0m\n\u001b[1;32m    345\u001b[0m                              \u001b[0;34mf'These bands may vary depending on the `collection` '\u001b[0m\u001b[0;34m\u001b[0m\u001b[0;34m\u001b[0m\u001b[0m\n",
      "\u001b[0;31mValueError\u001b[0m: Please verify that all bands required to compute MNDWI are present in `ds`. \nThese bands may vary depending on the `collection` (e.g. the USGS Collection 1 `swir1` band \nis equivelent to `swir_1` for Collection 2)"
     ]
    }
   ],
   "source": [
    "l2_data = calculate_indices(l2_data, index = 'MNDWI', collection = 'c1')\n",
    "\n",
    "print(l2_data)"
   ]
  },
  {
   "cell_type": "markdown",
   "metadata": {},
   "source": [
    "## Plot MNDWI"
   ]
  },
  {
   "cell_type": "markdown",
   "metadata": {},
   "source": [
    "### Whole-scene plots\n",
    "\n",
    "Subplots can be used to show the Level 1 and Level 2 MNDWIs side by side. Note the entire scene is fairly large (more than 7000 x 7000 pixels!) so the `figsize` dimensions cannot be too small or the data will not show.\n",
    "\n",
    "*Note: this plot can cause the kernel to crash. If so, select* `Kernel > Restart Kernel and Run All Cells...` *to obtain the plot. The plot code can then be commented out using # to prevent overloading memory.*"
   ]
  },
  {
   "cell_type": "code",
   "execution_count": null,
   "metadata": {},
   "outputs": [],
   "source": [
    "# fig1, ax = plt.subplots(1, 2, figsize=(28,13))\n",
    "# fig1.suptitle(\"MNDWI Comparison: Level 1 and Level 2 Data\", size = 25)\n",
    "\n",
    "# l1_data.MNDWI.plot(ax=ax[0], cmap='RdBu', vmin=-1, vmax=1)\n",
    "# ax[0].set_title('Level 1 MNDWI', size = 20)\n",
    "\n",
    "# l2_data.MNDWI.plot(ax=ax[1], cmap='RdBu', vmin=-1, vmax=1)\n",
    "# ax[1].set_title('Level 2 MNDWI', size = 20);"
   ]
  },
  {
   "cell_type": "markdown",
   "metadata": {},
   "source": [
    "### Waterline close-ups\n",
    "\n",
    "The improvements provided by Level 2 data can be best exemplified by looking closer at a region where water meets land. We will look at the estuaries of the river Rio Baboque at two different scales."
   ]
  },
  {
   "cell_type": "code",
   "execution_count": null,
   "metadata": {},
   "outputs": [],
   "source": [
    "# Rio Baboque x and y coordinates, in metres\n",
    "zoomed_xmin = 388000\n",
    "zoomed_xmax = 403000\n",
    "zoomed_ymin = 1323000\n",
    "zoomed_ymax = 1338000\n",
    "\n",
    "# Note in the Dataset structure, y values are listed in decreasing order\n",
    "# This means ymax is listed first when performing a slice() command in the y dimension"
   ]
  },
  {
   "cell_type": "code",
   "execution_count": null,
   "metadata": {},
   "outputs": [],
   "source": [
    "fig2, ax = plt.subplots(1, 2, figsize=(18, 8))\n",
    "fig2.suptitle(\"Rio Baboque and surrounds MNDWI \\n1334 x 1334 pixels\", size=22)\n",
    "\n",
    "l1_data.MNDWI.sel(x=slice(370000, 410000), y=slice(1350000, 1310000)).plot(\n",
    "    ax=ax[0], cmap=\"RdBu\", vmin=-1, vmax=1\n",
    ")\n",
    "selection = patches.Rectangle(\n",
    "    (zoomed_xmin, zoomed_ymin),\n",
    "    15000,\n",
    "    15000,\n",
    "    linewidth=5,\n",
    "    edgecolor=\"w\",\n",
    "    facecolor=\"none\",\n",
    ")\n",
    "ax[0].add_patch(selection)\n",
    "ax[0].set_title(\"Level 1 MNDWI\", size=20)\n",
    "\n",
    "l2_data.MNDWI.sel(x=slice(370000, 410000), y=slice(1350000, 1310000)).plot(\n",
    "    ax=ax[1], cmap=\"RdBu\", vmin=-1, vmax=1\n",
    ")\n",
    "selection = patches.Rectangle(\n",
    "    (zoomed_xmin, zoomed_ymin),\n",
    "    15000,\n",
    "    15000,\n",
    "    linewidth=5,\n",
    "    edgecolor=\"w\",\n",
    "    facecolor=\"none\",\n",
    ")\n",
    "ax[1].add_patch(selection)\n",
    "ax[1].set_title(\"Level 2 MNDWI\", size=20)"
   ]
  },
  {
   "cell_type": "code",
   "execution_count": null,
   "metadata": {},
   "outputs": [],
   "source": [
    "fig3, ax = plt.subplots(1, 2, figsize=(18, 7))\n",
    "fig3.suptitle(\"Rio Baboque MNDWI \\n500 x 500 pixels\", size = 22)\n",
    "\n",
    "l1_data.MNDWI.sel(x = slice(zoomed_xmin, zoomed_xmax), y = slice(zoomed_ymax, zoomed_ymin)).plot(ax=ax[0], cmap='RdBu', vmin=-1, vmax=1)\n",
    "ax[0].set_title('Level 1 MNDWI', size = 20)\n",
    "\n",
    "l2_data.MNDWI.sel(x = slice(zoomed_xmin, zoomed_xmax), y = slice(zoomed_ymax, zoomed_ymin)).plot(ax=ax[1], cmap='RdBu', vmin=-1, vmax=1)\n",
    "ax[1].set_title('Level 2 MNDWI', size = 20);"
   ]
  },
  {
   "cell_type": "markdown",
   "metadata": {},
   "source": [
    "## Analysis"
   ]
  },
  {
   "cell_type": "markdown",
   "metadata": {},
   "source": [
    "### MNDWI distribution profiles\n",
    "\n",
    "The MNDWI values can be plotted by frequency for the Rio Baboque area. This can be used to show how MNDWI ranges over this geographical region."
   ]
  },
  {
   "cell_type": "code",
   "execution_count": null,
   "metadata": {},
   "outputs": [],
   "source": [
    "histl1 = l1_data.MNDWI.sel(x = slice(zoomed_xmin, zoomed_xmax), y = slice(zoomed_ymax, zoomed_ymin)).values.ravel()\n",
    "histl2 = l2_data.MNDWI.sel(x = slice(zoomed_xmin, zoomed_xmax), y = slice(zoomed_ymax, zoomed_ymin)).values.ravel()\n",
    "\n",
    "fig4, ax = plt.subplots(1, figsize=(11, 6))\n",
    "fig4.suptitle(\"Rio Baboque - MNDWI Frequency Histogram\", size = 22)\n",
    "\n",
    "h1 = sns.distplot(histl1)\n",
    "h2 = sns.distplot(histl2)\n",
    "\n",
    "ax.set_xlabel('MNDWI')\n",
    "ax.set_ylabel('Frequency')\n",
    "ax.legend([h1, h2], labels = ['Level 1 Data', 'Level 2 Data'], loc = 'upper right')"
   ]
  },
  {
   "cell_type": "markdown",
   "metadata": {},
   "source": [
    "The conventional threshold for MNDWI is 0; that is:\n",
    "* MNDWI $> 0$ : water\n",
    "* MNDWI $\\leq 0$ : soil, vegetation, urban areas\n",
    "\n",
    "As per the histogram, the Level 2 data shows a much clearer distinction between water and non-water areas. Both datasets show the same core features; two significant peaks on the negative end of the index, and two flatter peaks on the positive end. In the case of the Level 1 data, all four peaks are clustered around 0, with one peak almost centred on 0. Most data points fall between -0.3 to 3. This means it is difficult to distinguish predictions of water and land as the index values are very similar.\n",
    "\n",
    "In contrast, the Level 2 data has its two major negative-MNDWI peaks centred around -0.25 and -0.45. This clearly denotes those areas as not-water; there is no peak around 0. The positive-MNDWI peaks are less distinct than in the Level 1 data, and this spread over the range shows nuance in regions of water. For example, at the end of estuaries as the channels become narrower there is a gradual decrease in MNDWI. This is not nearly as visible in the Level 1 data."
   ]
  },
  {
   "cell_type": "markdown",
   "metadata": {},
   "source": [
    "### Distinguishing water from land\n",
    "\n",
    "The difference in distinction between water and not-water regions can be demonstrated by thresholding both datasets at MDNWI > 0. In the MNDWI plots below (left and middle),  datapoints greater than 0 ostensibly indicate water bodies and are shown in yellow. This can be compared to the true-colour plot (right), where the waterline is clearly visible.\n",
    "\n",
    "The Level 2 data shows a water body profile very similar to the true-colour plot. The major river body is shown in both plots, and branching streams and creeks are distinct.\n",
    "\n",
    "However, the Level 1 data struggles to distinguish between the smaller distributaries and land. This results in noisier edges, which corroborate with the cluster of datapoints around 0 as shown in the histogram."
   ]
  },
  {
   "cell_type": "code",
   "execution_count": null,
   "metadata": {},
   "outputs": [],
   "source": [
    "water1 = l1_data.MNDWI.sel(x=slice(zoomed_xmin, zoomed_xmax), y=slice(zoomed_ymax, zoomed_ymin)) > 0\n",
    "water2 = l2_data.MNDWI.sel(x=slice(zoomed_xmin, zoomed_xmax), y=slice(zoomed_ymax, zoomed_ymin)) > 0"
   ]
  },
  {
   "cell_type": "code",
   "execution_count": null,
   "metadata": {},
   "outputs": [],
   "source": [
    "fig5, ax = plt.subplots(1, 3, sharey=True, sharex=True, figsize=(20, 7))\n",
    "\n",
    "water1.plot(ax=ax[0], add_colorbar=False)\n",
    "ax[0].set_title('Level 1 MNDWI > 0', size = 15)\n",
    "\n",
    "water2.plot(ax=ax[1], add_colorbar=False)\n",
    "ax[1].set_title('Level 2 MNDWI > 0', size = 15)\n",
    "\n",
    "rgb(l2_data.sel(x=slice(zoomed_xmin, zoomed_xmax),\n",
    "                y=slice(zoomed_ymax, zoomed_ymin)), ax=ax[2])\n",
    "ax[2].set_title('True Colour', size = 15)\n",
    "\n",
    "plt.tight_layout()"
   ]
  },
  {
   "cell_type": "markdown",
   "metadata": {},
   "source": [
    "### Thresholding Level 1 data \n",
    "\n",
    "The above plots show the Level 1 data for this particular time and place do not agree with the statement *MNDWI > 0 is water*. We can find a different threshold that better suits the Level 1 data.\n",
    "\n",
    "Thresholding is a method of image analysis that categorises pixels to select areas of interest and ignore others. The grouping is determined by a threshold. It has already been determined that 0 cannot be assumed as the most appropriate threshold value for the Level 1 data. Accurate contour extraction, which can be used to determine the waterline of water bodies, relies on a suitable threshold. \n",
    "\n",
    "There are many ways of determining a threshold; most use variations of statistical averages to choose the threshold value. The one below is calculated using *Yen's method*.  "
   ]
  },
  {
   "cell_type": "code",
   "execution_count": null,
   "metadata": {},
   "outputs": [],
   "source": [
    "# The Rio Baboque datasets were previously converted into DataArrays for the histogram\n",
    "# Those arrays are a suitable format to be read by the skimage package\n",
    "\n",
    "l1_threshold = skimage.filters.threshold_yen(histl1)\n",
    "print(\"The Rio Baboque 9 Jan 2018 Level 1 threshold is {:.4f}.\".format(l1_threshold))"
   ]
  },
  {
   "cell_type": "code",
   "execution_count": null,
   "metadata": {},
   "outputs": [],
   "source": [
    "# This cell can be uncommented and run to see the effects of different types of thresholding methods on the dataset\n",
    "\n",
    "#fig, ax = skimage.filters.try_all_threshold(l1_data.MNDWI.sel(x = slice(zoomed_xmin, zoomed_xmax), y = slice(zoomed_ymax, zoomed_ymin)).values, figsize=(10, 8), verbose=False)\n",
    "#plt.show()"
   ]
  },
  {
   "cell_type": "code",
   "execution_count": null,
   "metadata": {},
   "outputs": [],
   "source": [
    "# We now set the threshold to the newly calculated one\n",
    "l1_thresholded = l1_data.MNDWI.sel(x=slice(zoomed_xmin, zoomed_xmax), y=slice(zoomed_ymax, zoomed_ymin)) > l1_threshold\n",
    "\n",
    "fig7, ax = plt.subplots(1, 2, sharey=True, sharex=True, figsize=(9, 5))\n",
    "plt.locator_params(axis='x', nbins=6)\n",
    "\n",
    "water1.plot(ax=ax[0], add_colorbar=False)\n",
    "ax[0].set_title('Level 1 MNDWI > 0', size = 15)\n",
    "\n",
    "l1_thresholded.plot(ax=ax[1], add_colorbar=False)\n",
    "ax[1].set_title('Level 1 MNDWI > Yen Threshold', size = 15)\n",
    "ax[1].annotate('Yen threshold = {:.4f}'.format(l1_threshold), fontsize = 16, xy = (0.05, 0.93), xycoords = 'axes fraction', color = 'white')\n",
    "\n",
    "plt.tight_layout()"
   ]
  },
  {
   "cell_type": "markdown",
   "metadata": {},
   "source": [
    "Adjusting the threshold to suit the Level 1 data has removed a lot of superfluous data points around what we know (from the Level 2 and True Colour plots) to be the actual water body. Some noise still exists, but the shape of the river is far more distinct."
   ]
  },
  {
   "cell_type": "markdown",
   "metadata": {},
   "source": [
    "## Application: waterline extraction - Level 1 vs Level 2 vs WOfS\n",
    "\n",
    "MNDWI can be used to show the waterline of water bodies. The following process is mirrored from the [Contour extraction](https://github.com/digitalearthafrica/deafrica-sandbox-notebooks/blob/master/Frequently_used_code/Contour_extraction.ipynb) notebook, which contains further details on the applications and nuances of contour extraction.\n",
    "\n",
    "We want a contour between water and non-water regions, so the contour is plotted at the relevant threshold for each level of data. A smaller area has been used so the contours can be clearly seen. \n",
    "\n",
    "* Level 1 data: MNDWI threshold = 0.0317\n",
    "* Level 2 data: MNDWI threshold = 0\n",
    "\n",
    "The subpixel contours create a `GeoDataFrame`. The contours can be plotted alone, but in this case they are plotted with True Colour maps to help distinguish water areas.\n",
    "\n",
    "We then compare the MNDWI demarcation of water with the equivalent **Water Observations from Space** (WOfS) results. WOfS is a datacube product used for identifying water, dry land, and cloud. The product called upon here is `ls_usgs_wofs_scene`; as it is a Landsat product it also has a scene from 9 January 2018, so it can be compared directly with the MNDWI datasets. However, the WOfS data has a different `Scene ID` as it is a separate product. The required WOfS Scene ID can be found using the Metadata Explorer."
   ]
  },
  {
   "cell_type": "code",
   "execution_count": null,
   "metadata": {},
   "outputs": [],
   "source": [
    "contour_xmin = 393500\n",
    "contour_xmax = 397500\n",
    "contour_ymin = 1333000\n",
    "contour_ymax = 1337000\n",
    "\n",
    "# Different region coordinates\n",
    "# contour_xmin = 398000\n",
    "# contour_xmax = 402000\n",
    "# contour_ymin = 1323500\n",
    "# contour_ymax = 1327500\n",
    "\n",
    "l1_contour = l1_data.MNDWI.sel(x = slice(contour_xmin, contour_xmax), y = slice(contour_ymax, contour_ymin))\n",
    "l2_contour = l2_data.MNDWI.sel(x = slice(contour_xmin, contour_xmax), y = slice(contour_ymax, contour_ymin))\n",
    "\n",
    "# Extract contours. Here min_vertices is used to smooth the contour and remove very minor features\n",
    "l1_contours_gdf = subpixel_contours(da = l1_contour, z_values = l1_threshold, crs = l2_data.crs, min_vertices = 10)\n",
    "l2_contours_gdf = subpixel_contours(da = l2_contour, z_values = 0, crs = l2_data.crs, min_vertices = 10)\n",
    "\n",
    "# Load the WOfS data from the datacube, making sure to use the correct product and scene ID\n",
    "wofs = dc.load(product = \"ls_usgs_wofs_scene\", group_by=\"solar_day\",\n",
    "                            fuse_func=wofs_fuser,    \n",
    "                            id = 'b7415d0e-47d5-4130-824e-856214e115f1',\n",
    "                            resolution = (-30,30),\n",
    "                            align = (15,15),\n",
    "                            output_crs = l1_data.geobox.crs).squeeze()\n",
    "\n",
    "# Create a contour for the WOfS dataset\n",
    "wofs_contour = wofs.water.sel(x = slice(contour_xmin, contour_xmax), y = slice(contour_ymax, contour_ymin))\n",
    "wofs_contours_gdf = subpixel_contours(da = wofs_contour, z_values = 1, crs = wofs.crs, min_vertices = 10)"
   ]
  },
  {
   "cell_type": "markdown",
   "metadata": {},
   "source": [
    "Water is denoted in the WOfS datasets as pixels with the value `128` (this is related to how bit values are assigned to various terrain features). The third plot below shows the WOfS data, where water pixels are in yellow and all other pixels in purple."
   ]
  },
  {
   "cell_type": "code",
   "execution_count": null,
   "metadata": {},
   "outputs": [],
   "source": [
    "# Plot the data and contours\n",
    "\n",
    "fig8, ax = plt.subplots(1, 3, sharey=True, sharex=True, figsize=(15, 5))\n",
    "plt.locator_params(axis='x', nbins=5)\n",
    "\n",
    "#l1_contour.plot(ax = ax[0], cmap = 'RdBu', vmin=-1, vmax=1, add_colorbar = False)\n",
    "rgb(l2_data.sel(x = slice(contour_xmin, contour_xmax), y = slice(contour_ymax, contour_ymin)), ax=ax[0], alpha = 0.8)\n",
    "l1_contours_gdf.plot(ax = ax[0], linewidth=2, color='black')  \n",
    "ax[0].set_title('Level 1 Waterline', size = 15)\n",
    "\n",
    "#l2_contour.plot(ax = ax[1], cmap = 'RdBu', vmin=-1, vmax=1, add_colorbar = False)\n",
    "rgb(l2_data.sel(x = slice(contour_xmin, contour_xmax), y = slice(contour_ymax, contour_ymin)), ax=ax[1], alpha = 0.8)\n",
    "l2_contours_gdf.plot(ax = ax[1], linewidth=2, color='black')  \n",
    "ax[1].set_title('Level 2 Waterline', size = 15)\n",
    "\n",
    "#(wofs.water == 128).sel(x = slice(contour_xmin, contour_xmax), y = slice(contour_ymax, contour_ymin)).plot(ax = ax[2], add_colorbar = False)\n",
    "#l1_contours_gdf.plot(ax = ax[2], linewidth=1.5, color='black') \n",
    "#l2_contours_gdf.plot(ax = ax[2], linewidth=3, color='green')  \n",
    "#ax[2].set_title('WOfS', size = 15)\n",
    "\n",
    "rgb(l2_data.sel(x = slice(contour_xmin, contour_xmax), y = slice(contour_ymax, contour_ymin)), ax=ax[2], alpha = 0.8)\n",
    "wofs_contours_gdf.plot(ax = ax[2], linewidth=2, color='black')  \n",
    "ax[2].set_title('WOfS Waterline', size = 15)\n",
    "\n",
    "plt.tight_layout()"
   ]
  },
  {
   "cell_type": "markdown",
   "metadata": {},
   "source": [
    "We can also show the different contours on the same plot."
   ]
  },
  {
   "cell_type": "code",
   "execution_count": null,
   "metadata": {},
   "outputs": [],
   "source": [
    "wofs_contours_gdf.plot(linewidth=2.0, color='black', figsize = (8, 8))  \n",
    "l1_contours_gdf.plot(ax = plt.gca(), linewidth=1.0, color='red')  \n",
    "l2_contours_gdf.plot(ax = plt.gca(), linewidth=1.0, color='blue')  \n",
    "\n",
    "plt.legend(labels = ['WOfS', 'Level 1 - Yen threshold', 'Level 2'], loc = 'lower right')"
   ]
  },
  {
   "cell_type": "markdown",
   "metadata": {},
   "source": [
    "Both the separate contour plots and the stacked contour plots show each of the datasets have slightly different regions of water. \n",
    "\n",
    "The Level 1 data can be seen to overestimate the amount of water. The Yen threshold vastly improves the MNDWI range compared to using a threshold of 0, but the signal is still noisier than the datasets and likely includes areas which are not water. This can be determined by comparing to the WOfS and Level 2 contours, as well as the True Colour map.\n",
    "\n",
    "The Level 2 and WOfS contours have more similar profiles. The Level 2 data appears to have the most conservative estimate of water."
   ]
  },
  {
   "cell_type": "markdown",
   "metadata": {},
   "source": [
    "### Temporal robustness\n",
    "\n",
    "Another advantage of ARD is that removal of atmospheric interference decreases susceptibility to temporary fluctuations in readings caused by clouds or other vapours. To show this on the Guinea-Bissau coastal area, we will compare the MNDWI plots from the original scene (9 January 2018) to one from January 2019."
   ]
  },
  {
   "cell_type": "code",
   "execution_count": null,
   "metadata": {},
   "outputs": [],
   "source": [
    "# Load all Level 1 and Level 2 data, as in the Prerequisites and initial steps\n",
    "# Use the same region as before - a scene from Guinea-Bissau\n",
    "# The prefix 'tr' is used to distinguish the variables for the new scene\n",
    "# Note Level 1 data manual downloads can be skipped if the entire file path is known\n",
    "\n",
    "# Level 1 - 12 January 2019\n",
    "tr_l1_green = io.rio_slurp_xarray('s3://landsat-pds/c1/L8/204/052/LC08_L1TP_204052_20190112_20190131_01_T1/LC08_L1TP_204052_20190112_20190131_01_T1_B3.TIF')\n",
    "tr_l1_swir1 =  io.rio_slurp_xarray('s3://landsat-pds/c1/L8/204/052/LC08_L1TP_204052_20180720_20180731_01_T1/LC08_L1TP_204052_20180720_20180731_01_T1_B6.TIF')\n",
    "tr_l1_data = tr_l1_green.to_dataset(name = 'green')\n",
    "tr_l1_data['swir1'] = tr_l1_swir1\n",
    "tr_l1_data = tr_l1_data.where(tr_l1_data!=0)\n",
    "tr_l1_data = calculate_indices(tr_l1_data, index = 'MNDWI', collection = 'c1') \n",
    "\n",
    "# Level 2 - 12 January 2019\n",
    "tr_query = {\n",
    "    'product':'ls8_usgs_sr_scene',\n",
    "    'id':'9eeccf9d-bd4c-5300-8e88-a8c72a7a2ef1',\n",
    "    'measurements': ['green','swir1', 'red', 'blue'],\n",
    "    'resolution':(-30,30),\n",
    "    'align':(15,15),\n",
    "    'output_crs':tr_l1_data.geobox.crs\n",
    "}\n",
    "tr_l2_data = dc.load(**tr_query).squeeze()\n",
    "tr_l2_data = tr_l2_data.where(tr_l2_data!=-9999)\n",
    "tr_l2_data = calculate_indices(tr_l2_data, index = 'MNDWI', collection = 'c1')"
   ]
  },
  {
   "cell_type": "code",
   "execution_count": null,
   "metadata": {},
   "outputs": [],
   "source": [
    "fig6, ax = plt.subplots(2, 2, figsize=(14, 10), sharey = True, sharex = True)\n",
    "\n",
    "tr_l1_data.MNDWI.sel(x = slice(zoomed_xmin, zoomed_xmax), y = slice(zoomed_ymax, zoomed_ymin)).plot(ax=ax[0, 0], cmap='RdBu', vmin=-1, vmax=1)\n",
    "ax[0, 0].set_title('Level 1 MNDWI', size = 20)\n",
    "ax[0, 0].annotate('Jan 2019 - Cloudy', fontsize = 16, xy = (0.05, 0.93), xycoords = 'axes fraction', color = 'black')\n",
    "\n",
    "tr_l2_data.MNDWI.sel(x = slice(zoomed_xmin, zoomed_xmax), y = slice(zoomed_ymax, zoomed_ymin)).plot(ax=ax[0, 1], cmap='RdBu', vmin=-1, vmax=1)\n",
    "ax[0, 1].set_title('Level 2 MNDWI', size = 20)\n",
    "ax[0, 1].annotate('Jan 2019 - Cloudy', fontsize = 16, xy = (0.05, 0.93), xycoords = 'axes fraction', color = 'black')\n",
    "\n",
    "l1_data.MNDWI.sel(x = slice(zoomed_xmin, zoomed_xmax), y = slice(zoomed_ymax, zoomed_ymin)).plot(ax=ax[1, 0], cmap='RdBu', vmin=-1, vmax=1)\n",
    "ax[1, 0].set_title('', size = 4)\n",
    "ax[1, 0].annotate('Jan 2018 - Clear', fontsize = 16, xy = (0.05, 0.93), xycoords = 'axes fraction', color = 'black')\n",
    "\n",
    "l2_data.MNDWI.sel(x = slice(zoomed_xmin, zoomed_xmax), y = slice(zoomed_ymax, zoomed_ymin)).plot(ax=ax[1, 1], cmap='RdBu', vmin=-1, vmax=1)\n",
    "ax[1, 1].set_title('', size = 4)\n",
    "ax[1, 1].annotate('Jan 2018 - Clear', fontsize = 16, xy = (0.05, 0.93), xycoords = 'axes fraction', color = 'black')\n",
    "\n",
    "plt.subplots_adjust(left = 0.70)\n",
    "\n",
    "plt.tight_layout()"
   ]
  },
  {
   "cell_type": "markdown",
   "metadata": {},
   "source": [
    "The flyover from January 2019 was on a cloudy day, and this severely downgrades the quality of information in the Level 1 data. In contrast, the Level 2 data has been pre-processed to remove cloud interference, and shows values of MNDWI expected of the Rio Baboque area. Although the cloud masking is not perfect, the main river body is distinct, and the streams branching off from it are visible. This is a significant improvement over the Level 1 data.\n",
    "\n",
    "An annual median, or other forms of statistical averages, are conventionally used to reduce the impact of variable atmospheric conditions. However, this does not diminish the superior data quality provided by the Level 2 data for a given increment of time."
   ]
  },
  {
   "cell_type": "markdown",
   "metadata": {},
   "source": [
    "## Conclusions"
   ]
  },
  {
   "cell_type": "markdown",
   "metadata": {},
   "source": [
    "### Level 2 data is more suitable for calculating indices such as MNDWI\n",
    "\n",
    "MNDWI is conventionally thresholded around 0; this is a suitable assumption for data that has been processed for surface reflectance, such as the Level 2 dataset. However, the Level 1 data, which does not contain atmospheric corrections, generally requires a custom-calculated threshold to optimise MNDWI. Calculating suitable thresholds is at minimum one extra step, and due to the variation in Level 1 data, could require recalculation for different scenes.\n",
    "\n",
    "Once the data is refined, it is possible to use it for a myriad of applications, such as visualising waterlines."
   ]
  },
  {
   "cell_type": "markdown",
   "metadata": {},
   "source": [
    "### Level 2 data improves effective temporal resolution\n",
    "\n",
    "Satellite observations are significantly impacted by variation in the Earth's atmosphere. The presence of clouds can distort or muffle measurements. This can be seen in the Level 1 data, where it is necessary to have a clear, cloud-free day to obtain useful readings. However, Level 2 data has been pre-processed to remove some of this noise, and is less dependent on favourable weather conditions. This effectively increases the temporal resolution of the dataset, as scenes do not have to be discarded due to cloud cover."
   ]
  },
  {
   "cell_type": "markdown",
   "metadata": {},
   "source": [
    "### Level 2 data is more user-friendly\n",
    "\n",
    "Throughout this notebook, there have been extra steps taken to manipulate the Level 1 data so it could be visualised.\n",
    "\n",
    "* Downloading it from the AWS S3 bucket\n",
    "* Importing bands separately\n",
    "* Combining bands into a `DataSet`\n",
    "* Standardising `no-data` entries to `NaN`\n",
    "\n",
    "These steps preclude actual data analysis and can act as a barrier for new datacube users."
   ]
  },
  {
   "cell_type": "markdown",
   "metadata": {},
   "source": [
    "***\n",
    "\n",
    "**Acknowledgements:** Thank you to Chad for peer-review and editing, and Caitlin, Dave, Alex and Kirill for assistance.\n",
    "\n",
    "## Additional information\n",
    "\n",
    "**License:** The code in this notebook is licensed under the [Apache License, Version 2.0](https://www.apache.org/licenses/LICENSE-2.0). \n",
    "Digital Earth Africa data is licensed under the [Creative Commons by Attribution 4.0](https://creativecommons.org/licenses/by/4.0/) license.\n",
    "\n",
    "**Contact:** If you need assistance, please post a question on the [Open Data Cube Slack channel](http://slack.opendatacube.org/) or on the [GIS Stack Exchange](https://gis.stackexchange.com/questions/ask?tags=open-data-cube) using the `open-data-cube` tag (you can view previously asked questions [here](https://gis.stackexchange.com/questions/tagged/open-data-cube)).\n",
    "If you would like to report an issue with this notebook, you can file one on [Github](https://github.com/digitalearthafrica/deafrica-sandbox-notebooks).\n",
    "\n",
    "**Last modified:** July 2020\n",
    "\n",
    "**Compatible `datacube` version:** "
   ]
  },
  {
   "cell_type": "code",
   "execution_count": null,
   "metadata": {},
   "outputs": [],
   "source": [
    "print(datacube.__version__)"
   ]
  }
 ],
 "metadata": {
  "kernelspec": {
   "display_name": "Python 3",
   "language": "python",
   "name": "python3"
  },
  "language_info": {
   "codemirror_mode": {
    "name": "ipython",
    "version": 3
   },
   "file_extension": ".py",
   "mimetype": "text/x-python",
   "name": "python",
   "nbconvert_exporter": "python",
   "pygments_lexer": "ipython3",
   "version": "3.6.9"
  }
 },
 "nbformat": 4,
 "nbformat_minor": 4
}
