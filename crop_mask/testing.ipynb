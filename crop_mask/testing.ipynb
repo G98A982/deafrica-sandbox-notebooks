{
 "cells": [
  {
   "cell_type": "markdown",
   "metadata": {},
   "source": [
    "# Testing Notebook\n",
    "\n",
    "\n",
    "Random online python phenology functions that might help:\n",
    "\n",
    "- https://gist.github.com/YanCheng-go/d4e17831f294199443d0f7682558e608\n",
    "\n",
    "- https://github.com/JavierLopatin/PhenoPY\n",
    "\n"
   ]
  },
  {
   "cell_type": "code",
   "execution_count": null,
   "metadata": {},
   "outputs": [],
   "source": [
    "# !pip install richdem\n",
    "# !pip install xarray --upgrade"
   ]
  },
  {
   "cell_type": "code",
   "execution_count": null,
   "metadata": {},
   "outputs": [],
   "source": [
    "%matplotlib inline\n",
    "\n",
    "import datacube\n",
    "import matplotlib.pyplot as plt\n",
    "from odc.algo import xr_reproject\n",
    "import hdstats\n",
    "import numpy as np\n",
    "import pandas as pd\n",
    "import sys\n",
    "import xarray as xr\n",
    "import datetime as dt\n",
    "import os\n",
    "\n",
    "sys.path.append('../Scripts')\n",
    "from deafrica_datahandling import load_ard\n",
    "from deafrica_bandindices import calculate_indices\n",
    "from deafrica_plotting import display_map, rgb\n",
    "from deafrica_temporal_statistics import xr_phenology, temporal_statistics\n",
    "from datacube.utils.geometry import assign_crs\n",
    "from deafrica_dask import create_local_dask_cluster\n",
    "\n",
    "import warnings\n",
    "warnings.filterwarnings(\"ignore\", \"Mean of empty slice\")\n",
    "warnings.simplefilter(\"ignore\", FutureWarning)\n",
    "\n",
    "%load_ext autoreload\n",
    "%autoreload 2"
   ]
  },
  {
   "cell_type": "code",
   "execution_count": null,
   "metadata": {},
   "outputs": [],
   "source": [
    "create_local_dask_cluster()"
   ]
  },
  {
   "cell_type": "markdown",
   "metadata": {},
   "source": [
    "### Connect to the datacube"
   ]
  },
  {
   "cell_type": "code",
   "execution_count": null,
   "metadata": {},
   "outputs": [],
   "source": [
    "dc = datacube.Datacube(app='Vegetation_phenology')"
   ]
  },
  {
   "cell_type": "markdown",
   "metadata": {},
   "source": [
    "### Analysis parameters\n"
   ]
  },
  {
   "cell_type": "code",
   "execution_count": null,
   "metadata": {},
   "outputs": [],
   "source": [
    "# Set the vegetation proxy to use\n",
    "veg_proxy = 'NDVI'\n",
    "\n",
    "# Define area of interest\n",
    "lat = 22.817 #-34.288 \n",
    "lon = 28.518 #20.012 \n",
    "lon_buffer = 0.03#0.0175\n",
    "lat_buffer = 0.03#0.004\n",
    "\n",
    "# Combine central lat,lon with buffer to get area of interest\n",
    "lat_range = (lat-lat_buffer, lat+lat_buffer)\n",
    "lon_range = (lon-lon_buffer, lon+lon_buffer)\n",
    "\n",
    "# Set the range of dates for the analysis\n",
    "years_range = ('2018-01', '2018-06')"
   ]
  },
  {
   "cell_type": "markdown",
   "metadata": {},
   "source": [
    "## View the selected location"
   ]
  },
  {
   "cell_type": "code",
   "execution_count": null,
   "metadata": {},
   "outputs": [],
   "source": [
    "# display_map(x=lon_range, y=lat_range)"
   ]
  },
  {
   "cell_type": "markdown",
   "metadata": {},
   "source": [
    "## Load cloud-masked Sentinel-2 data"
   ]
  },
  {
   "cell_type": "markdown",
   "metadata": {},
   "source": [
    "The first step is to load Sentinel-2 data for the specified area of interest and time range. \n",
    "The `load_ard` function is used here to load data that has been masked for cloud, shadow and quality filters, making it ready for analysis."
   ]
  },
  {
   "cell_type": "code",
   "execution_count": null,
   "metadata": {},
   "outputs": [],
   "source": [
    "# Create a reusable query\n",
    "query = {\n",
    "    'y': lat_range,\n",
    "    'x': lon_range,\n",
    "    'time': years_range,\n",
    "    'measurements': ['blue', 'green', 'red', 'nir_1'],\n",
    "    'resolution': (-20,20),\n",
    "    'output_crs': 'epsg:6933'\n",
    "}\n",
    "\n",
    "# Load available data from Landsat 8\n",
    "ds = load_ard(dc=dc,\n",
    "              products=['s2_l2a'],\n",
    "              dask_chunks={'x':100, 'y':100,'time':-1},\n",
    "              **query\n",
    "              )\n",
    "\n",
    "# Load available data from Landsat 8\n",
    "ds1 = load_ard(dc=dc,\n",
    "              products=['s2_l2a'],\n",
    "              **query\n",
    "              )\n",
    "\n",
    "print(ds)"
   ]
  },
  {
   "cell_type": "markdown",
   "metadata": {},
   "source": [
    "**Once the load is complete**, we can plot the data as a true-colour image using the `rgb` function.  "
   ]
  },
  {
   "cell_type": "code",
   "execution_count": null,
   "metadata": {},
   "outputs": [],
   "source": [
    "# rgb(ds, index=[0,5], col_wrap=1)"
   ]
  },
  {
   "cell_type": "code",
   "execution_count": null,
   "metadata": {},
   "outputs": [],
   "source": [
    "# Calculate the chosen vegetation proxy index and add it to the loaded data set\n",
    "# ds = (ds.nir - ds.red)/(ds.nir + ds.red)\n",
    "ds = calculate_indices(ds, index=veg_proxy, collection='s2')\n",
    "ds1 = calculate_indices(ds1, index=veg_proxy, collection='s2')\n",
    "# ds"
   ]
  },
  {
   "cell_type": "code",
   "execution_count": null,
   "metadata": {},
   "outputs": [],
   "source": [
    "stats=['discordance','abs_change','complexity','f_mean','central_diff']"
   ]
  },
  {
   "cell_type": "code",
   "execution_count": null,
   "metadata": {},
   "outputs": [],
   "source": [
    "x = temporal_statistics(ds1.NDVI, stats=stats)"
   ]
  },
  {
   "cell_type": "code",
   "execution_count": null,
   "metadata": {},
   "outputs": [],
   "source": [
    "y = temporal_statistics(ds.NDVI, stats=stats)\n",
    "y"
   ]
  },
  {
   "cell_type": "code",
   "execution_count": null,
   "metadata": {},
   "outputs": [],
   "source": [
    "y = y.compute()\n",
    "y"
   ]
  },
  {
   "cell_type": "code",
   "execution_count": null,
   "metadata": {},
   "outputs": [],
   "source": [
    "z = x - y"
   ]
  },
  {
   "cell_type": "code",
   "execution_count": null,
   "metadata": {},
   "outputs": [],
   "source": [
    "y.central_diff.plot()"
   ]
  },
  {
   "cell_type": "code",
   "execution_count": null,
   "metadata": {},
   "outputs": [],
   "source": [
    "x.central_diff.plot()"
   ]
  },
  {
   "cell_type": "code",
   "execution_count": null,
   "metadata": {},
   "outputs": [],
   "source": [
    "z.central_diff.plot()"
   ]
  },
  {
   "cell_type": "code",
   "execution_count": null,
   "metadata": {},
   "outputs": [],
   "source": [
    "# %%time\n",
    "# phen = xr_phenology(ds.NDVI,\n",
    "#                     method_sos='median',\n",
    "#                     method_eos='median',\n",
    "#                     complete='linear',\n",
    "#                     smoothing='wiener')\n",
    "# phen"
   ]
  },
  {
   "cell_type": "code",
   "execution_count": null,
   "metadata": {},
   "outputs": [],
   "source": []
  },
  {
   "cell_type": "code",
   "execution_count": null,
   "metadata": {},
   "outputs": [],
   "source": []
  },
  {
   "cell_type": "code",
   "execution_count": null,
   "metadata": {},
   "outputs": [],
   "source": []
  },
  {
   "cell_type": "code",
   "execution_count": null,
   "metadata": {},
   "outputs": [],
   "source": []
  },
  {
   "cell_type": "code",
   "execution_count": null,
   "metadata": {},
   "outputs": [],
   "source": []
  },
  {
   "cell_type": "code",
   "execution_count": null,
   "metadata": {},
   "outputs": [],
   "source": []
  },
  {
   "cell_type": "code",
   "execution_count": null,
   "metadata": {},
   "outputs": [],
   "source": [
    "z"
   ]
  },
  {
   "cell_type": "code",
   "execution_count": null,
   "metadata": {},
   "outputs": [],
   "source": [
    "# def poly_fit(time, data, degree):\n",
    "    \n",
    "#     pfit = np.polyfit(time, data, degree) \n",
    "    \n",
    "#     return np.transpose(np.polyval(pfit,time))\n",
    "\n",
    "# def poly_fit_smooth(time, data, degree, n_pts):\n",
    "#         \"\"\"\n",
    "#         \"\"\"\n",
    "    \n",
    "#         time_smooth_inds = np.linspace(0, len(time), n_pts)\n",
    "#         time_smooth = np.interp(time_smooth_inds, np.arange(len(time)), time)\n",
    "\n",
    "#         data_smooth = np.array([np.array([coef * (x_val ** current_degree) for\n",
    "#                                 coef, current_degree in zip(np.polyfit(time, data, degree),\n",
    "#                                 range(degree, -1, -1))]).sum() for x_val in time_smooth])\n",
    "\n",
    "#         return data_smooth\n",
    "\n",
    "# def xr_polyfit(doy,\n",
    "#                da,\n",
    "#                degree,\n",
    "#                interp_multiplier=1):    \n",
    "    \n",
    "#     # Fit polynomial curve to observed data points\n",
    "#     if interp_multiplier==1:\n",
    "#         print('Fitting polynomial curve to existing observations')\n",
    "#         pfit = xr.apply_ufunc(\n",
    "#             poly_fit,\n",
    "#             doy,\n",
    "#             da, \n",
    "#             kwargs={'degree':degree},\n",
    "#             input_core_dims=[[\"time\"], [\"time\"]], \n",
    "#             output_core_dims=[['time']],\n",
    "#             vectorize=True,  \n",
    "#             dask=\"parallelized\",\n",
    "#             output_dtypes=[da.dtype],\n",
    "#         )\n",
    "    \n",
    "#     if interp_multiplier > 1:\n",
    "#         print(\"Fitting polynomial curve to \"+str(len(doy)*interp_multiplier)+\n",
    "#                                                       \" interpolated points\")\n",
    "#         pfit = xr.apply_ufunc(\n",
    "#             poly_fit_smooth,  # The function\n",
    "#             doy,# time\n",
    "#             da,#.chunk({'time': -1}), #the data\n",
    "#             kwargs={'degree':degree, 'n_pts':len(doy)*interp_multiplier},\n",
    "#             input_core_dims=[[\"time\"], [\"time\"]], \n",
    "#             output_core_dims=[['new_time']], \n",
    "#             output_sizes = ({'new_time':len(doy)*interp_multiplier}),\n",
    "#             exclude_dims=set((\"time\",)),\n",
    "#             vectorize=True, \n",
    "#             dask=\"parallelized\",\n",
    "#             output_dtypes=[da.dtype],\n",
    "#         ).rename({'new_time':'time'})\n",
    "    \n",
    "#         # Map 'dayofyear' onto interpolated time dim\n",
    "#         time_smooth_inds = np.linspace(0, len(doy), len(doy)*interp_multiplier)\n",
    "#         new_datetimes = np.interp(time_smooth_inds, np.arange(len(doy)), doy)\n",
    "#         pfit = pfit.assign_coords({'time':new_datetimes})\n",
    "    \n",
    "#     return pfit\n",
    "\n",
    "# # da=xr_polyfit(dayofyear=dayofyear, \n",
    "# #               da=da,\n",
    "# #               degree=degree,\n",
    "# #               interp_multiplier=interp_multiplier)"
   ]
  },
  {
   "cell_type": "code",
   "execution_count": null,
   "metadata": {},
   "outputs": [],
   "source": [
    "# #set up figure\n",
    "# fig, ax = plt.subplots(nrows=5,ncols=2,figsize=(18,25), sharex=True, sharey=True)\n",
    "\n",
    "# #start of season\n",
    "# temp_stats.discordance.plot(ax=ax[0,0])\n",
    "# ax[0,0].set_title('discordance')\n",
    "# temp_stats.f_std.plot(ax=ax[0,1])\n",
    "# ax[0,1].set_title('f_std')\n",
    "\n",
    "# #peak of season\n",
    "# temp_stats.f_mean.plot(ax=ax[1,0])\n",
    "# ax[1,0].set_title('f_mean')\n",
    "# phen.f_median.plot(ax=ax[1,1])\n",
    "# ax[1,1].set_title('f_median')\n",
    "\n",
    "# #end of season\n",
    "# temp_stats.mean_change.plot(ax=ax[2,0])\n",
    "# ax[2,0].set_title('mean_change')\n",
    "# phen.med_change.plot(ax=ax[2,1])\n",
    "# ax[2,1].set_title('med_change')\n",
    "\n",
    "# #Length of Season\n",
    "# temp_stats.abs_change.plot(ax=ax[3,0])\n",
    "# ax[3,0].set_title('abs_change');\n",
    "\n",
    "# #Amplitude\n",
    "# temp_stats.complexity.plot(ax=ax[3,1])\n",
    "# ax[3,1].set_title('complexity')\n",
    "\n",
    "# #rate of growth\n",
    "# temp_stats.central_diff.plot(ax=ax[4,0])\n",
    "# ax[4,0].set_title('central_diff')\n",
    "\n",
    "# #rate of Sensescence\n",
    "# temp_stats.num_peaks.plot(ax=ax[4,1])\n",
    "# ax[4,1].set_title('num_peaks');\n",
    "\n",
    "# plt.tight_layout();"
   ]
  },
  {
   "cell_type": "code",
   "execution_count": null,
   "metadata": {},
   "outputs": [],
   "source": []
  },
  {
   "cell_type": "code",
   "execution_count": null,
   "metadata": {},
   "outputs": [],
   "source": []
  },
  {
   "cell_type": "code",
   "execution_count": null,
   "metadata": {},
   "outputs": [],
   "source": []
  },
  {
   "cell_type": "code",
   "execution_count": null,
   "metadata": {},
   "outputs": [],
   "source": []
  },
  {
   "cell_type": "code",
   "execution_count": null,
   "metadata": {},
   "outputs": [],
   "source": []
  },
  {
   "cell_type": "code",
   "execution_count": null,
   "metadata": {},
   "outputs": [],
   "source": []
  },
  {
   "cell_type": "code",
   "execution_count": null,
   "metadata": {},
   "outputs": [],
   "source": []
  },
  {
   "cell_type": "code",
   "execution_count": null,
   "metadata": {},
   "outputs": [],
   "source": []
  },
  {
   "cell_type": "code",
   "execution_count": null,
   "metadata": {},
   "outputs": [],
   "source": []
  },
  {
   "cell_type": "code",
   "execution_count": null,
   "metadata": {},
   "outputs": [],
   "source": []
  },
  {
   "cell_type": "code",
   "execution_count": null,
   "metadata": {},
   "outputs": [],
   "source": []
  },
  {
   "cell_type": "code",
   "execution_count": null,
   "metadata": {},
   "outputs": [],
   "source": []
  },
  {
   "cell_type": "code",
   "execution_count": null,
   "metadata": {},
   "outputs": [],
   "source": []
  }
 ],
 "metadata": {
  "kernelspec": {
   "display_name": "Python 3",
   "language": "python",
   "name": "python3"
  },
  "language_info": {
   "codemirror_mode": {
    "name": "ipython",
    "version": 3
   },
   "file_extension": ".py",
   "mimetype": "text/x-python",
   "name": "python",
   "nbconvert_exporter": "python",
   "pygments_lexer": "ipython3",
   "version": "3.6.9"
  },
  "widgets": {
   "application/vnd.jupyter.widget-state+json": {
    "state": {
     "1d2ba241bfd2437dbdf5d4530c685d9a": {
      "model_module": "jupyter-leaflet",
      "model_module_version": "^0.11.1",
      "model_name": "LeafletAttributionControlModel",
      "state": {
       "_model_module_version": "^0.11.1",
       "_view_count": null,
       "_view_module_version": "^0.11.1",
       "options": [
        "position",
        "prefix"
       ],
       "position": "bottomright",
       "prefix": "Leaflet"
      }
     },
     "d867097fe154472198694ed8095e3b0c": {
      "model_module": "jupyter-leaflet",
      "model_module_version": "^0.11.1",
      "model_name": "LeafletZoomControlModel",
      "state": {
       "_model_module_version": "^0.11.1",
       "_view_count": null,
       "_view_module_version": "^0.11.1",
       "options": [
        "position",
        "zoom_in_text",
        "zoom_in_title",
        "zoom_out_text",
        "zoom_out_title"
       ]
      }
     }
    },
    "version_major": 2,
    "version_minor": 0
   }
  }
 },
 "nbformat": 4,
 "nbformat_minor": 4
}
