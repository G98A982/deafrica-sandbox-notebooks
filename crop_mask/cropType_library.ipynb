{
 "cells": [
  {
   "cell_type": "markdown",
   "metadata": {},
   "source": [
    "# Crop-type image library\n",
    "\n",
    "Using example locations of crop types in different regions of Africa, create example images and NDVI timeseries to assist in the training and validation data collections\n",
    "\n",
    "Image library is here: https://docs.google.com/document/d/1lLOYIM12_E09kC6l0ezUzBngYFTC7DDEIftAZzmvn2M/edit?usp=sharing"
   ]
  },
  {
   "cell_type": "code",
   "execution_count": 1,
   "metadata": {},
   "outputs": [
    {
     "name": "stderr",
     "output_type": "stream",
     "text": [
      "/env/lib/python3.6/site-packages/datacube/storage/masking.py:4: DeprecationWarning: datacube.storage.masking has moved to datacube.utils.masking\n",
      "  category=DeprecationWarning)\n"
     ]
    }
   ],
   "source": [
    "import geopandas as gpd\n",
    "import datacube\n",
    "import numpy as np\n",
    "import sys\n",
    "import xarray as xr\n",
    "from datacube.utils import geometry\n",
    "import matplotlib.pyplot as plt \n",
    "sys.path.append('../Scripts')\n",
    "from deafrica_datahandling import load_ard\n",
    "from deafrica_bandindices import calculate_indices\n",
    "from deafrica_plotting import rgb, map_shapefile\n",
    "from deafrica_spatialtools import xr_rasterize\n",
    "from deafrica_classificationtools import HiddenPrints"
   ]
  },
  {
   "cell_type": "code",
   "execution_count": 2,
   "metadata": {},
   "outputs": [],
   "source": [
    "dc = datacube.Datacube(app='image_lib')"
   ]
  },
  {
   "cell_type": "markdown",
   "metadata": {},
   "source": [
    "## Analysis Parameters"
   ]
  },
  {
   "cell_type": "code",
   "execution_count": 40,
   "metadata": {},
   "outputs": [],
   "source": [
    "shp_file= 'data/crop_type_library/eastern/ref_african_crops_tanzania.geojson'\n",
    "product = 's2_l2a'#'usgs_ls8c_level2_2'# 'ls8_usgs_sr_scene'\n",
    "time_ndvi = ('2017-06', '2019-06')\n",
    "time_rgb = ('2019')"
   ]
  },
  {
   "cell_type": "markdown",
   "metadata": {},
   "source": [
    "## Open file and check extents"
   ]
  },
  {
   "cell_type": "code",
   "execution_count": 75,
   "metadata": {},
   "outputs": [],
   "source": [
    "gdf = gpd.read_file(shp_file).to_crs('epsg:4326')"
   ]
  },
  {
   "cell_type": "code",
   "execution_count": 76,
   "metadata": {},
   "outputs": [
    {
     "data": {
      "text/plain": [
       "array(['Dry Bean', 'Bush Bean', 'White Sorghum', 'Yellow Maize',\n",
       "       'Sunflower', 'Safflower'], dtype=object)"
      ]
     },
     "execution_count": 76,
     "metadata": {},
     "output_type": "execute_result"
    }
   ],
   "source": [
    "gdf['Crop'].unique()"
   ]
  },
  {
   "cell_type": "code",
   "execution_count": 77,
   "metadata": {},
   "outputs": [],
   "source": [
    "gdf = gdf[gdf['Crop'] == 'White Sorghum']"
   ]
  },
  {
   "cell_type": "code",
   "execution_count": 78,
   "metadata": {},
   "outputs": [],
   "source": [
    "gdf = gdf.sample(n=5).reset_index()"
   ]
  },
  {
   "cell_type": "code",
   "execution_count": 79,
   "metadata": {},
   "outputs": [],
   "source": [
    "for index,row in gdf.iterrows():\n",
    "    gdf.loc[index, 'Crop'] = 'White Sorghum'+str(index)"
   ]
  },
  {
   "cell_type": "code",
   "execution_count": 80,
   "metadata": {},
   "outputs": [
    {
     "data": {
      "text/html": [
       "<div>\n",
       "<style scoped>\n",
       "    .dataframe tbody tr th:only-of-type {\n",
       "        vertical-align: middle;\n",
       "    }\n",
       "\n",
       "    .dataframe tbody tr th {\n",
       "        vertical-align: top;\n",
       "    }\n",
       "\n",
       "    .dataframe thead th {\n",
       "        text-align: right;\n",
       "    }\n",
       "</style>\n",
       "<table border=\"1\" class=\"dataframe\">\n",
       "  <thead>\n",
       "    <tr style=\"text-align: right;\">\n",
       "      <th></th>\n",
       "      <th>index</th>\n",
       "      <th>id</th>\n",
       "      <th>Crop</th>\n",
       "      <th>Estimated Harvest Date</th>\n",
       "      <th>Planting Date</th>\n",
       "      <th>Plot Area (acre)</th>\n",
       "      <th>Region</th>\n",
       "      <th>Village</th>\n",
       "      <th>geometry</th>\n",
       "    </tr>\n",
       "  </thead>\n",
       "  <tbody>\n",
       "    <tr>\n",
       "      <th>0</th>\n",
       "      <td>19</td>\n",
       "      <td>ref_african_crops_kenya_363</td>\n",
       "      <td>White Sorghum0</td>\n",
       "      <td>2018-11-04</td>\n",
       "      <td>2018-04-04</td>\n",
       "      <td>30</td>\n",
       "      <td>Manyara</td>\n",
       "      <td>Narakau</td>\n",
       "      <td>POLYGON ((36.52306 -4.25572, 36.52365 -4.25572...</td>\n",
       "    </tr>\n",
       "    <tr>\n",
       "      <th>1</th>\n",
       "      <td>17</td>\n",
       "      <td>ref_african_crops_kenya_361</td>\n",
       "      <td>White Sorghum1</td>\n",
       "      <td>2018-10-28</td>\n",
       "      <td>2018-03-28</td>\n",
       "      <td>50</td>\n",
       "      <td>Manyara</td>\n",
       "      <td>Lolkisale</td>\n",
       "      <td>POLYGON ((36.52992 -4.00672, 36.53169 -4.00672...</td>\n",
       "    </tr>\n",
       "    <tr>\n",
       "      <th>2</th>\n",
       "      <td>28</td>\n",
       "      <td>ref_african_crops_kenya_372</td>\n",
       "      <td>White Sorghum2</td>\n",
       "      <td>2018-10-22</td>\n",
       "      <td>2018-03-22</td>\n",
       "      <td>13</td>\n",
       "      <td>Manyara</td>\n",
       "      <td>Kangala</td>\n",
       "      <td>POLYGON ((36.45179 -4.29529, 36.45220 -4.29529...</td>\n",
       "    </tr>\n",
       "    <tr>\n",
       "      <th>3</th>\n",
       "      <td>18</td>\n",
       "      <td>ref_african_crops_kenya_362</td>\n",
       "      <td>White Sorghum3</td>\n",
       "      <td>2018-10-21</td>\n",
       "      <td>2018-03-21</td>\n",
       "      <td>16</td>\n",
       "      <td>Manyara</td>\n",
       "      <td>Lolkisale</td>\n",
       "      <td>POLYGON ((36.45067 -3.95365, 36.45142 -3.95365...</td>\n",
       "    </tr>\n",
       "    <tr>\n",
       "      <th>4</th>\n",
       "      <td>29</td>\n",
       "      <td>ref_african_crops_kenya_373</td>\n",
       "      <td>White Sorghum4</td>\n",
       "      <td>2018-10-07</td>\n",
       "      <td>2018-03-07</td>\n",
       "      <td>52</td>\n",
       "      <td>Manyara</td>\n",
       "      <td>Kangala</td>\n",
       "      <td>POLYGON ((36.45322 -4.30214, 36.45467 -4.30214...</td>\n",
       "    </tr>\n",
       "  </tbody>\n",
       "</table>\n",
       "</div>"
      ],
      "text/plain": [
       "   index                           id            Crop Estimated Harvest Date  \\\n",
       "0     19  ref_african_crops_kenya_363  White Sorghum0             2018-11-04   \n",
       "1     17  ref_african_crops_kenya_361  White Sorghum1             2018-10-28   \n",
       "2     28  ref_african_crops_kenya_372  White Sorghum2             2018-10-22   \n",
       "3     18  ref_african_crops_kenya_362  White Sorghum3             2018-10-21   \n",
       "4     29  ref_african_crops_kenya_373  White Sorghum4             2018-10-07   \n",
       "\n",
       "  Planting Date  Plot Area (acre)   Region    Village  \\\n",
       "0    2018-04-04                30  Manyara    Narakau   \n",
       "1    2018-03-28                50  Manyara  Lolkisale   \n",
       "2    2018-03-22                13  Manyara    Kangala   \n",
       "3    2018-03-21                16  Manyara  Lolkisale   \n",
       "4    2018-03-07                52  Manyara    Kangala   \n",
       "\n",
       "                                            geometry  \n",
       "0  POLYGON ((36.52306 -4.25572, 36.52365 -4.25572...  \n",
       "1  POLYGON ((36.52992 -4.00672, 36.53169 -4.00672...  \n",
       "2  POLYGON ((36.45179 -4.29529, 36.45220 -4.29529...  \n",
       "3  POLYGON ((36.45067 -3.95365, 36.45142 -3.95365...  \n",
       "4  POLYGON ((36.45322 -4.30214, 36.45467 -4.30214...  "
      ]
     },
     "execution_count": 80,
     "metadata": {},
     "output_type": "execute_result"
    }
   ],
   "source": [
    "gdf"
   ]
  },
  {
   "cell_type": "code",
   "execution_count": 47,
   "metadata": {},
   "outputs": [],
   "source": [
    "# map_shapefile(gdf, attribute='Crop', hover_col='Crop')"
   ]
  },
  {
   "cell_type": "markdown",
   "metadata": {},
   "source": [
    "## Extract RGB and NDVI time-series"
   ]
  },
  {
   "cell_type": "code",
   "execution_count": 81,
   "metadata": {},
   "outputs": [
    {
     "name": "stdout",
     "output_type": "stream",
     "text": [
      "White Sorghum0: 2018-11-04\n",
      "White Sorghum1: 2018-10-28\n",
      "White Sorghum2: 2018-10-22\n",
      "White Sorghum3: 2018-10-21\n",
      "White Sorghum4: 2018-10-07\n"
     ]
    }
   ],
   "source": [
    "ndvi_dict = {}\n",
    "rgb_dict = {}\n",
    "for index, row in gdf.iterrows():\n",
    "    name=gdf.iloc[[index]].Crop.values[0]\n",
    "    dates = gdf.iloc[[index]]['Estimated Harvest Date'].values[0]\n",
    "    print(name + \": \"+ str(dates))\n",
    "    geom = geometry.Geometry(\n",
    "            gdf.geometry.values[index].__geo_interface__, geometry.CRS(\n",
    "                    'epsg:4326'))\n",
    "    query_ndvi = {\n",
    "        \"geopolygon\": geom,\n",
    "        'time': time_ndvi,\n",
    "        'measurements': ['red',\n",
    "                         'nir'],\n",
    "        'resolution': (-10, 10),\n",
    "        'group_by': 'solar_day',\n",
    "        'output_crs':'EPSG:6933'\n",
    "    }\n",
    "\n",
    "    # load cloud-masked fractional cover using load_ard\n",
    "    with HiddenPrints():\n",
    "        ds = load_ard(dc=dc,\n",
    "                  **query_ndvi,\n",
    "                  products=[product], \n",
    "                  min_gooddata=0.75\n",
    "                 )\n",
    "    \n",
    "    with HiddenPrints():\n",
    "        mask = xr_rasterize(gdf.iloc[[index]], ds)\n",
    "    \n",
    "    ds = ds.where(mask)\n",
    "    ds = calculate_indices(ds, 'NDVI', collection='c1')\n",
    "    ds_index = ds.mean(['x','y'])\n",
    "    ds_index = ds_index.interpolate_na(dim=\"time\", method=\"linear\")\n",
    "    ds_index = ds_index.resample(time=\"1M\").median()\n",
    "    ndvi_dict[name] = ds_index\n",
    "    \n",
    "#     query_rgb = {\n",
    "#         \"geopolygon\": geom,\n",
    "#         'time': time_rgb,\n",
    "#         'measurements': ['green',\n",
    "#                          'blue',\n",
    "#                          'red'],\n",
    "#         'resolution': (-10, 10),\n",
    "#         'group_by': 'solar_day',\n",
    "#         'output_crs':'EPSG:6933'\n",
    "#     }\n",
    "    \n",
    "#     # load cloud-masked fractional cover using load_ard\n",
    "#     with HiddenPrints():\n",
    "#         ds = load_ard(dc=dc,\n",
    "#                   **query_rgb,\n",
    "#                   products=[product],\n",
    "#                   min_gooddata=1.0\n",
    "#                  )\n",
    "    \n",
    "#     with HiddenPrints():\n",
    "#         mask = xr_rasterize(gdf.iloc[[index]], ds)\n",
    "    \n",
    "#     ds = ds.where(mask)\n",
    "    \n",
    "#     rgb_dict[name]=ds"
   ]
  },
  {
   "cell_type": "code",
   "execution_count": 92,
   "metadata": {},
   "outputs": [],
   "source": [
    "key = 'White Sorghum0'"
   ]
  },
  {
   "cell_type": "code",
   "execution_count": 93,
   "metadata": {},
   "outputs": [
    {
     "data": {
      "text/plain": [
       "Text(0.5, 1.0, 'White Sorghum s2_l2a')"
      ]
     },
     "execution_count": 93,
     "metadata": {},
     "output_type": "execute_result"
    },
    {
     "data": {
      "image/png": "[encoded data removed]",
      "text/plain": [
       "<Figure size 792x360 with 1 Axes>"
      ]
     },
     "metadata": {
      "needs_background": "light"
     },
     "output_type": "display_data"
    }
   ],
   "source": [
    "ndvi_dict[key].NDVI.plot.line('b--', figsize=(11,5))\n",
    "plt.ylim(0,0.9)\n",
    "plt.title(key[0:-1] +\" \"+ product)"
   ]
  },
  {
   "cell_type": "code",
   "execution_count": null,
   "metadata": {},
   "outputs": [],
   "source": [
    "# rgb(rgb_dict[key], index=list(range(0,len(rgb_dict[key].time))))"
   ]
  },
  {
   "cell_type": "code",
   "execution_count": null,
   "metadata": {},
   "outputs": [],
   "source": []
  }
 ],
 "metadata": {
  "kernelspec": {
   "display_name": "Python 3",
   "language": "python",
   "name": "python3"
  },
  "language_info": {
   "codemirror_mode": {
    "name": "ipython",
    "version": 3
   },
   "file_extension": ".py",
   "mimetype": "text/x-python",
   "name": "python",
   "nbconvert_exporter": "python",
   "pygments_lexer": "ipython3",
   "version": "3.6.9"
  }
 },
 "nbformat": 4,
 "nbformat_minor": 4
}
