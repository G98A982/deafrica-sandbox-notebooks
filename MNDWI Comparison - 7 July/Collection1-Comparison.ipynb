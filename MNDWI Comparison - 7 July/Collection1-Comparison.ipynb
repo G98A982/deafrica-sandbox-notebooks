{
 "cells": [
  {
   "cell_type": "markdown",
   "metadata": {},
   "source": [
    "# Run this notebook on the Default server so it can access the USGS Level 1 S3 buckets."
   ]
  },
  {
   "cell_type": "markdown",
   "metadata": {},
   "source": [
    "## Import"
   ]
  },
  {
   "cell_type": "code",
   "execution_count": 1,
   "metadata": {},
   "outputs": [
    {
     "name": "stderr",
     "output_type": "stream",
     "text": [
      "/env/lib/python3.6/site-packages/ipykernel_launcher.py:17: UserWarning: Viewer requires Qt\n"
     ]
    }
   ],
   "source": [
    "%matplotlib inline\n",
    "\n",
    "import datacube\n",
    "from datacube.testutils import io\n",
    "from datacube.utils import masking\n",
    "from datacube.utils.cog import write_cog\n",
    "import sys\n",
    "import matplotlib.pyplot as plt\n",
    "import matplotlib.patches as patches\n",
    "import matplotlib as mpl\n",
    "import xarray as xr\n",
    "import numpy as np\n",
    "import seaborn as sns\n",
    "import skimage.color\n",
    "import skimage.filters\n",
    "import skimage.io\n",
    "import skimage.viewer\n",
    "\n",
    "sys.path.append(\"../Scripts\")\n",
    "from deafrica_bandindices import calculate_indices\n",
    "from deafrica_plotting import rgb, display_map\n",
    "from deafrica_spatialtools import subpixel_contours\n",
    "from deafrica_datahandling import wofs_fuser, mostcommon_crs, load_ard, array_to_geotiff"
   ]
  },
  {
   "cell_type": "markdown",
   "metadata": {},
   "source": [
    "## Level 1 data - to dataset and MNDWI\n",
    "### Set 1 - cloudy\n",
    "16 Jan 2018 "
   ]
  },
  {
   "cell_type": "code",
   "execution_count": 2,
   "metadata": {},
   "outputs": [],
   "source": [
    "# s1_l1_green = io.rio_slurp_xarray('s3://landsat-pds/c1/L8/173/061/LC08_L1TP_173061_20180116_20180120_01_T1/LC08_L1TP_173061_20180116_20180120_01_T1_B3.TIF')\n",
    "# s1_l1_swir1 =  io.rio_slurp_xarray('s3://landsat-pds/c1/L8/173/061/LC08_L1TP_173061_20180116_20180120_01_T1/LC08_L1TP_173061_20180116_20180120_01_T1_B6.TIF')\n",
    "# s1_l1_data = s1_l1_green.to_dataset(name = 'green')\n",
    "# s1_l1_data['swir1'] = s1_l1_swir1\n",
    "# s1_l1_data = s1_l1_data.where(s1_l1_data!=0)\n",
    "# s1_l1_data = calculate_indices(s1_l1_data, index = 'MNDWI', collection = 'c1') "
   ]
  },
  {
   "cell_type": "code",
   "execution_count": 3,
   "metadata": {},
   "outputs": [],
   "source": [
    "#s1_l1_data.MNDWI.plot(figsize = (10,10))"
   ]
  },
  {
   "cell_type": "markdown",
   "metadata": {},
   "source": [
    "### Set 2 - not cloudy in level 1 or level 2 at all\n",
    "11 July 2018"
   ]
  },
  {
   "cell_type": "code",
   "execution_count": 4,
   "metadata": {},
   "outputs": [],
   "source": [
    "# s2_l1_green = io.rio_slurp_xarray('s3://landsat-pds/c1/L8/173/061/LC08_L1TP_173061_20180711_20180717_01_T1/LC08_L1TP_173061_20180711_20180717_01_T1_B3.TIF')\n",
    "# s2_l1_swir1 =  io.rio_slurp_xarray('s3://landsat-pds/c1/L8/173/061/LC08_L1TP_173061_20180711_20180717_01_T1/LC08_L1TP_173061_20180711_20180717_01_T1_B6.TIF')\n",
    "# s2_l1_data = s2_l1_green.to_dataset(name = 'green')\n",
    "# s2_l1_data['swir1'] = s2_l1_swir1\n",
    "# s2_l1_data = s2_l1_data.where(s2_l1_data!=0)\n",
    "# s2_l1_data = calculate_indices(s2_l1_data, index = 'MNDWI', collection = 'c1') "
   ]
  },
  {
   "cell_type": "code",
   "execution_count": 5,
   "metadata": {},
   "outputs": [],
   "source": [
    "#s2_l1_data.MNDWI.plot(figsize = (10,10))"
   ]
  },
  {
   "cell_type": "markdown",
   "metadata": {},
   "source": [
    "## Set 3 - partially cloudy but not available in level 2 collection 2?\n",
    "3 Jan 2019 Lake Kivu"
   ]
  },
  {
   "cell_type": "code",
   "execution_count": 6,
   "metadata": {},
   "outputs": [],
   "source": [
    "# s3_l1_green = io.rio_slurp_xarray('s3://landsat-pds/c1/L8/173/061/LC08_L1TP_173061_20190103_20190130_01_T1/LC08_L1TP_173061_20190103_20190130_01_T1_B3.TIF')\n",
    "# s3_l1_swir1 =  io.rio_slurp_xarray('s3://landsat-pds/c1/L8/173/061/LC08_L1TP_173061_20190103_20190130_01_T1/LC08_L1TP_173061_20190103_20190130_01_T1_B6.TIF')\n",
    "# s3_l1_data = s3_l1_green.to_dataset(name = 'green')\n",
    "# s3_l1_data['swir1'] = s3_l1_swir1\n",
    "# s3_l1_data = s3_l1_data.where(s3_l1_data!=0)\n",
    "# s3_l1_data = calculate_indices(s3_l1_data, index = 'MNDWI', collection = 'c1') "
   ]
  },
  {
   "cell_type": "code",
   "execution_count": 7,
   "metadata": {},
   "outputs": [],
   "source": [
    "#s3_l1_data.MNDWI.plot(figsize = (10,10))"
   ]
  },
  {
   "cell_type": "markdown",
   "metadata": {},
   "source": [
    "## Set 4 - 1 Feb 2018"
   ]
  },
  {
   "cell_type": "code",
   "execution_count": 8,
   "metadata": {},
   "outputs": [],
   "source": [
    "# s4_l1_green = io.rio_slurp_xarray('s3://landsat-pds/c1/L8/173/061/LC08_L1TP_173061_20180201_20180220_01_T1/LC08_L1TP_173061_20180201_20180220_01_T1_B3.TIF')\n",
    "# s4_l1_swir1 =  io.rio_slurp_xarray('s3://landsat-pds/c1/L8/173/061/LC08_L1TP_173061_20180201_20180220_01_T1/LC08_L1TP_173061_20180201_20180220_01_T1_B6.TIF')\n",
    "# s4_l1_data = s4_l1_green.to_dataset(name = 'green')\n",
    "# s4_l1_data['swir1'] = s4_l1_swir1\n",
    "# s4_l1_data = s4_l1_data.where(s4_l1_data!=0)\n",
    "# s4_l1_data = calculate_indices(s4_l1_data, index = 'MNDWI', collection = 'c1') "
   ]
  },
  {
   "cell_type": "code",
   "execution_count": 9,
   "metadata": {},
   "outputs": [],
   "source": [
    "#s4_l1_data.MNDWI.plot(figsize = (10,10))"
   ]
  },
  {
   "cell_type": "markdown",
   "metadata": {},
   "source": [
    "## Set 5 - 4 Feb 2019"
   ]
  },
  {
   "cell_type": "code",
   "execution_count": 10,
   "metadata": {},
   "outputs": [],
   "source": [
    "# s5_l1_green = io.rio_slurp_xarray('s3://landsat-pds/c1/L8/173/061/LC08_L1TP_173061_20190204_20190206_01_T1/LC08_L1TP_173061_20190204_20190206_01_T1_B3.TIF')\n",
    "# s5_l1_swir1 =  io.rio_slurp_xarray('s3://landsat-pds/c1/L8/173/061/LC08_L1TP_173061_20190204_20190206_01_T1/LC08_L1TP_173061_20190204_20190206_01_T1_B6.TIF')\n",
    "# s5_l1_data = s5_l1_green.to_dataset(name = 'green')\n",
    "# s5_l1_data['swir1'] = s5_l1_swir1\n",
    "# s5_l1_data = s5_l1_data.where(s5_l1_data!=0)\n",
    "# s5_l1_data = calculate_indices(s5_l1_data, index = 'MNDWI', collection = 'c1') "
   ]
  },
  {
   "cell_type": "code",
   "execution_count": 11,
   "metadata": {},
   "outputs": [],
   "source": [
    "#s5_l1_data.MNDWI.plot(figsize = (10,10))"
   ]
  },
  {
   "cell_type": "markdown",
   "metadata": {},
   "source": [
    "## Set 6 - 8 May 2018"
   ]
  },
  {
   "cell_type": "code",
   "execution_count": 12,
   "metadata": {},
   "outputs": [],
   "source": [
    "#  8 may 2018\n",
    "# s6_l1_green = io.rio_slurp_xarray('s3://landsat-pds/c1/L8/173/061/LC08_L1TP_173061_20180508_20180517_01_T1/LC08_L1TP_173061_20180508_20180517_01_T1_B3.TIF')\n",
    "# s6_l1_swir1 =  io.rio_slurp_xarray('s3://landsat-pds/c1/L8/173/061/LC08_L1TP_173061_20180508_20180517_01_T1/LC08_L1TP_173061_20180508_20180517_01_T1_B6.TIF')\n",
    "\n",
    "# # 24 May 2018 - doesn't look cloudy\n",
    "# s6_l1_green = io.rio_slurp_xarray('s3://landsat-pds/c1/L8/173/061/LC08_L1TP_173061_20180524_20180605_01_T1/LC08_L1TP_173061_20180524_20180605_01_T1_B3.TIF')\n",
    "# s6_l1_swir1 =  io.rio_slurp_xarray('s3://landsat-pds/c1/L8/173/061/LC08_L1TP_173061_20180524_20180605_01_T1/LC08_L1TP_173061_20180524_20180605_01_T1_B6.TIF')\n",
    "\n",
    "# 3 Mar 2018\n",
    "s6_l1_green = io.rio_slurp_xarray('s3://landsat-pds/c1/L8/173/061/LC08_L1TP_173061_20180305_20180319_01_T1/LC08_L1TP_173061_20180305_20180319_01_T1_B3.TIF')\n",
    "s6_l1_swir1 =  io.rio_slurp_xarray('s3://landsat-pds/c1/L8/173/061/LC08_L1TP_173061_20180305_20180319_01_T1/LC08_L1TP_173061_20180305_20180319_01_T1_B6.TIF')\n",
    "\n",
    "# s6_l1_data = s6_l1_green.to_dataset(name = 'green')\n",
    "# s6_l1_data['swir1'] = s6_l1_swir1\n",
    "# s6_l1_data = s6_l1_data.where(s6_l1_data!=0)\n",
    "# s6_l1_data = calculate_indices(s6_l1_data, index = 'MNDWI', collection = 'c1') "
   ]
  },
  {
   "cell_type": "code",
   "execution_count": 13,
   "metadata": {},
   "outputs": [],
   "source": [
    "#s6_l1_data.MNDWI.plot(figsize = (10,10))"
   ]
  },
  {
   "cell_type": "code",
   "execution_count": 14,
   "metadata": {},
   "outputs": [],
   "source": [
    "#  8 may 2018\n",
    "# s6b_l1_green = io.rio_slurp_xarray('s3://landsat-pds/c1/L8/173/061/LC08_L1TP_173061_20180508_20180517_01_T1/LC08_L1TP_173061_20180508_20180517_01_T1_B3.TIF')\n",
    "# s6b_l1_swir1 =  io.rio_slurp_xarray('s3://landsat-pds/c1/L8/173/061/LC08_L1TP_173061_20180508_20180517_01_T1/LC08_L1TP_173061_20180508_20180517_01_T1_B6.TIF')\n",
    "\n",
    "# write_cog(s6b_l1_green,\n",
    "#           fname=\"s6b_l1_green.tif\",\n",
    "#           overwrite=True)\n",
    "# write_cog(s6b_l1_swir1,\n",
    "#           fname=\"s6b_l1_swir1.tif\",\n",
    "#           overwrite=True)"
   ]
  },
  {
   "cell_type": "code",
   "execution_count": 15,
   "metadata": {},
   "outputs": [
    {
     "data": {
      "text/plain": [
       "PosixPath('tr_l1_swir1.tif')"
      ]
     },
     "execution_count": 15,
     "metadata": {},
     "output_type": "execute_result"
    }
   ],
   "source": [
    "# The OG cloudy day on Rio Baboque - 12 Jan 2019 \n",
    "\n",
    "tr_l1_green = io.rio_slurp_xarray('s3://landsat-pds/c1/L8/204/052/LC08_L1TP_204052_20190112_20190131_01_T1/LC08_L1TP_204052_20190112_20190131_01_T1_B3.TIF')\n",
    "tr_l1_swir1 =  io.rio_slurp_xarray('s3://landsat-pds/c1/L8/204/052/LC08_L1TP_204052_20180720_20180731_01_T1/LC08_L1TP_204052_20180720_20180731_01_T1_B6.TIF')\n",
    "\n",
    "write_cog(tr_l1_green,\n",
    "          fname=\"tr_l1_green.tif\",\n",
    "          overwrite=True)\n",
    "write_cog(tr_l1_swir1,\n",
    "          fname=\"tr_l1_swir1.tif\",\n",
    "          overwrite=True)"
   ]
  },
  {
   "cell_type": "markdown",
   "metadata": {},
   "source": [
    "## Trying to export single bands as TIFs"
   ]
  },
  {
   "cell_type": "code",
   "execution_count": 16,
   "metadata": {},
   "outputs": [],
   "source": [
    "#s1_l1_green\n",
    "\n",
    "# Write GeoTIFF to a location\n",
    "# write_cog(s1_l1_green,\n",
    "#           fname=\"s1_l1_green.tif\",\n",
    "#           overwrite=True)\n",
    "# write_cog(s2_l1_green,\n",
    "#           fname=\"s2_l1_green.tif\",\n",
    "#           overwrite=True)\n",
    "# write_cog(s3_l1_green,\n",
    "#           fname=\"s3_l1_green.tif\",\n",
    "#           overwrite=True)\n",
    "# write_cog(s4_l1_green,\n",
    "#           fname=\"s4_l1_green.tif\",\n",
    "#           overwrite=True)\n",
    "\n",
    "# write_cog(s1_l1_swir1,\n",
    "#           fname=\"s1_l1_swir1.tif\",\n",
    "#           overwrite=True)\n",
    "# write_cog(s2_l1_swir1,\n",
    "#           fname=\"s2_l1_swir1.tif\",\n",
    "#           overwrite=True)\n",
    "# write_cog(s3_l1_swir1,\n",
    "#           fname=\"s3_l1_swir1.tif\",\n",
    "#           overwrite=True)\n",
    "# write_cog(s4_l1_swir1,\n",
    "#           fname=\"s4_l1_swir1.tif\",\n",
    "#           overwrite=True)"
   ]
  },
  {
   "cell_type": "code",
   "execution_count": 17,
   "metadata": {},
   "outputs": [],
   "source": [
    "# write_cog(s5_l1_green,\n",
    "#           fname=\"s5_l1_green.tif\",\n",
    "#           overwrite=True)\n",
    "# write_cog(s5_l1_swir1,\n",
    "#           fname=\"s5_l1_swir1.tif\",\n",
    "#           overwrite=True)"
   ]
  },
  {
   "cell_type": "code",
   "execution_count": 18,
   "metadata": {},
   "outputs": [],
   "source": [
    "# write_cog(s6_l1_green,\n",
    "#           fname=\"s6_l1_green.tif\",\n",
    "#           overwrite=True)\n",
    "# write_cog(s6_l1_swir1,\n",
    "#           fname=\"s6_l1_swir1.tif\",\n",
    "#           overwrite=True)"
   ]
  },
  {
   "cell_type": "code",
   "execution_count": null,
   "metadata": {},
   "outputs": [],
   "source": []
  }
 ],
 "metadata": {
  "kernelspec": {
   "display_name": "Python 3",
   "language": "python",
   "name": "python3"
  },
  "language_info": {
   "codemirror_mode": {
    "name": "ipython",
    "version": 3
   },
   "file_extension": ".py",
   "mimetype": "text/x-python",
   "name": "python",
   "nbconvert_exporter": "python",
   "pygments_lexer": "ipython3",
   "version": "3.6.9"
  }
 },
 "nbformat": 4,
 "nbformat_minor": 4
}
